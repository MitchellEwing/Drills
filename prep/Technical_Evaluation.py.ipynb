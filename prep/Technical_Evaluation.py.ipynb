{
 "cells": [
  {
   "cell_type": "code",
   "execution_count": 1,
   "metadata": {},
   "outputs": [
    {
     "data": {
      "text/plain": [
       "'C:\\\\Users\\\\mitchell_ewing\\\\src\\\\Thinkful_submits'"
      ]
     },
     "execution_count": 1,
     "metadata": {},
     "output_type": "execute_result"
    }
   ],
   "source": [
    "%pwd"
   ]
  },
  {
   "cell_type": "code",
   "execution_count": 2,
   "metadata": {},
   "outputs": [],
   "source": [
    "import pandas as pd\n",
    "import numpy as np\n",
    "import matplotlib.pyplot as plt\n",
    "%matplotlib inline"
   ]
  },
  {
   "cell_type": "code",
   "execution_count": 3,
   "metadata": {},
   "outputs": [],
   "source": [
    "plane_crashes = pd.read_csv('./assets/plane_crashes_data.csv')"
   ]
  },
  {
   "cell_type": "code",
   "execution_count": 6,
   "metadata": {},
   "outputs": [
    {
     "data": {
      "text/plain": [
       "count    2709.000000\n",
       "mean       25.816537\n",
       "std        42.599461\n",
       "min         0.000000\n",
       "25%         3.000000\n",
       "50%         9.000000\n",
       "75%        29.000000\n",
       "max       583.000000\n",
       "Name: fatalities, dtype: float64"
      ]
     },
     "execution_count": 6,
     "metadata": {},
     "output_type": "execute_result"
    }
   ],
   "source": [
    "# What is the mean for number of people killed in plane\n",
    "# crashes for the years 1980 to 2009 (inclusive of both\n",
    "# years, rounded to the nearest 100th decimal place)?\n",
    "plane_crashes.fatalities.describe()\n",
    "\n",
    "# INCORRECT 24.93 AS YOU HAVE TO REMOVE CRASHES WITH NO FATALITIES"
   ]
  },
  {
   "cell_type": "code",
   "execution_count": 9,
   "metadata": {},
   "outputs": [
    {
     "data": {
      "text/plain": [
       "1     255\n",
       "12    252\n",
       "3     251\n",
       "8     239\n",
       "7     234\n",
       "11    230\n",
       "9     228\n",
       "10    224\n",
       "2     209\n",
       "4     204\n",
       "6     202\n",
       "5     181\n",
       "Name: month, dtype: int64"
      ]
     },
     "execution_count": 9,
     "metadata": {},
     "output_type": "execute_result"
    }
   ],
   "source": [
    "# For the entire time period (1950 to 2009), which month\n",
    "# has seen the most plane crashes?\n",
    "plane_crashes.month.value_counts()"
   ]
  },
  {
   "cell_type": "code",
   "execution_count": 16,
   "metadata": {},
   "outputs": [
    {
     "data": {
      "text/plain": [
       "583"
      ]
     },
     "execution_count": 16,
     "metadata": {},
     "output_type": "execute_result"
    }
   ],
   "source": [
    "# What is the highest number of fatalities in \n",
    "# a single crash?\n",
    "plane_crashes.fatalities.max()"
   ]
  },
  {
   "cell_type": "code",
   "execution_count": 11,
   "metadata": {},
   "outputs": [],
   "source": [
    "# What % of crashed flights have had 1 or more fatalities?\n",
    "# NEED CODE"
   ]
  },
  {
   "cell_type": "code",
   "execution_count": 13,
   "metadata": {},
   "outputs": [],
   "source": [
    "# What is the average percent of passengers (inclusive of\n",
    "# crew) killed per plane crash for the entire period?\n",
    "# NEED CODE\n",
    "# 82% IS CORRECT ANSWER"
   ]
  }
 ],
 "metadata": {
  "kernelspec": {
   "display_name": "Python 3",
   "language": "python",
   "name": "python3"
  },
  "language_info": {
   "codemirror_mode": {
    "name": "ipython",
    "version": 3
   },
   "file_extension": ".py",
   "mimetype": "text/x-python",
   "name": "python",
   "nbconvert_exporter": "python",
   "pygments_lexer": "ipython3",
   "version": "3.6.5"
  }
 },
 "nbformat": 4,
 "nbformat_minor": 2
}
