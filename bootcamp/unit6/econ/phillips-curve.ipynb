{
 "cells": [
  {
   "cell_type": "markdown",
   "metadata": {},
   "source": [
    "# Debunking the Phillips Curve\n",
    "\n",
    "The Phillips curve is a single-equation econometric model, named after William Phillips, describing a historical inverse relationship between rates of unemployment and corresponding rates of rises in wages that result within an economy. Stated simply, decreased unemployment, (i.e., increased levels of employment) in an economy will correlate with higher rates of wage rises. Phillips did not himself state there was any relationship between employment and inflation, this notion was a trivial deduction from his statistical findings. \n",
    "\n",
    "While there is a short run tradeoff between unemployment and inflation, it has not been observed in the long run. In 1967 and 1968, Milton Friedman and Edmund Phelps asserted that the Phillips curve was only applicable in the short-run and that in the long-run, inflationary policies would not decrease unemployment. Friedman then correctly predicted that in the 1973–75 recession, both inflation and unemployment would increase. The long-run Phillips curve is now seen as a vertical line at the natural rate of unemployment, where the rate of inflation has no effect on unemployment. In recent years the slope of the Phillips curve appears to have declined and there has been significant questioning of the usefulness of the Phillips curve in predicting inflation. Nonetheless, the Phillips curve remains the primary framework for understanding and forecasting inflation used in central banks.\n",
    "\n",
    "**US Phillips Curve: Inflation vs Unemployment**\n",
    "\n",
    "Y axis: Inflation %\n",
    "\n",
    "X axis: Unemployment %\n",
    "\n",
    "Phillips Curve describes historical inverse relationship between \n",
    "rates of unemployment and corresponding rates of rises in wages that\n",
    "result within an economy. \n",
    "\n",
    "Decreased unemployment will correlate with higher rates of wages rises. "
   ]
  },
  {
   "cell_type": "code",
   "execution_count": 174,
   "metadata": {},
   "outputs": [],
   "source": [
    "import pandas as pd\n",
    "import numpy as np\n",
    "import matplotlib.pyplot as plt\n",
    "%matplotlib inline\n",
    "import seaborn as sns\n",
    "\n",
    "from sklearn.linear_model import LinearRegression\n",
    "from sklearn.linear_model import HuberRegressor\n",
    "from sklearn.linear_model import TheilSenRegressor\n",
    "from sklearn.linear_model import RANSACRegressor"
   ]
  },
  {
   "cell_type": "markdown",
   "metadata": {},
   "source": [
    "# Data Import/Processing"
   ]
  },
  {
   "cell_type": "code",
   "execution_count": 175,
   "metadata": {},
   "outputs": [],
   "source": [
    "# Loading our data.\n",
    "## US Unemployment Rate, seasonally-adjusted.\n",
    "unrate = pd.read_csv('~/src/data/fredData/unrate.csv')\n",
    "\n",
    "## Consumer Price Index for All Urban Consumers: All Items.\n",
    "cpiaucsl = pd.read_csv('~/src/data/fredData/cpiaucsl.csv')"
   ]
  },
  {
   "cell_type": "code",
   "execution_count": 176,
   "metadata": {},
   "outputs": [
    {
     "data": {
      "text/html": [
       "<div>\n",
       "<style scoped>\n",
       "    .dataframe tbody tr th:only-of-type {\n",
       "        vertical-align: middle;\n",
       "    }\n",
       "\n",
       "    .dataframe tbody tr th {\n",
       "        vertical-align: top;\n",
       "    }\n",
       "\n",
       "    .dataframe thead th {\n",
       "        text-align: right;\n",
       "    }\n",
       "</style>\n",
       "<table border=\"1\" class=\"dataframe\">\n",
       "  <thead>\n",
       "    <tr style=\"text-align: right;\">\n",
       "      <th></th>\n",
       "      <th>UNRATE</th>\n",
       "      <th>Unnamed: 1</th>\n",
       "    </tr>\n",
       "  </thead>\n",
       "  <tbody>\n",
       "    <tr>\n",
       "      <th>0</th>\n",
       "      <td>lin</td>\n",
       "      <td>Percent</td>\n",
       "    </tr>\n",
       "    <tr>\n",
       "      <th>1</th>\n",
       "      <td>M</td>\n",
       "      <td>Monthly</td>\n",
       "    </tr>\n",
       "    <tr>\n",
       "      <th>2</th>\n",
       "      <td>01/01/1948</td>\n",
       "      <td>1948-01-01 to 2019-03-01</td>\n",
       "    </tr>\n",
       "    <tr>\n",
       "      <th>3</th>\n",
       "      <td>Civilian Unemployment Rate</td>\n",
       "      <td>NaN</td>\n",
       "    </tr>\n",
       "    <tr>\n",
       "      <th>4</th>\n",
       "      <td>U.S. Bureau of Labor Statistics</td>\n",
       "      <td>NaN</td>\n",
       "    </tr>\n",
       "    <tr>\n",
       "      <th>5</th>\n",
       "      <td>date</td>\n",
       "      <td>value</td>\n",
       "    </tr>\n",
       "    <tr>\n",
       "      <th>6</th>\n",
       "      <td>01/01/1948</td>\n",
       "      <td>3.4</td>\n",
       "    </tr>\n",
       "    <tr>\n",
       "      <th>7</th>\n",
       "      <td>02/01/1948</td>\n",
       "      <td>3.8</td>\n",
       "    </tr>\n",
       "    <tr>\n",
       "      <th>8</th>\n",
       "      <td>03/01/1948</td>\n",
       "      <td>4.0</td>\n",
       "    </tr>\n",
       "    <tr>\n",
       "      <th>9</th>\n",
       "      <td>04/01/1948</td>\n",
       "      <td>3.9</td>\n",
       "    </tr>\n",
       "  </tbody>\n",
       "</table>\n",
       "</div>"
      ],
      "text/plain": [
       "                            UNRATE                Unnamed: 1\n",
       "0                              lin                   Percent\n",
       "1                                M                   Monthly\n",
       "2                       01/01/1948  1948-01-01 to 2019-03-01\n",
       "3       Civilian Unemployment Rate                       NaN\n",
       "4  U.S. Bureau of Labor Statistics                       NaN\n",
       "5                             date                     value\n",
       "6                       01/01/1948                       3.4\n",
       "7                       02/01/1948                       3.8\n",
       "8                       03/01/1948                       4.0\n",
       "9                       04/01/1948                       3.9"
      ]
     },
     "execution_count": 176,
     "metadata": {},
     "output_type": "execute_result"
    }
   ],
   "source": [
    "unrate.head(10)"
   ]
  },
  {
   "cell_type": "code",
   "execution_count": 177,
   "metadata": {},
   "outputs": [
    {
     "data": {
      "text/html": [
       "<div>\n",
       "<style scoped>\n",
       "    .dataframe tbody tr th:only-of-type {\n",
       "        vertical-align: middle;\n",
       "    }\n",
       "\n",
       "    .dataframe tbody tr th {\n",
       "        vertical-align: top;\n",
       "    }\n",
       "\n",
       "    .dataframe thead th {\n",
       "        text-align: right;\n",
       "    }\n",
       "</style>\n",
       "<table border=\"1\" class=\"dataframe\">\n",
       "  <thead>\n",
       "    <tr style=\"text-align: right;\">\n",
       "      <th></th>\n",
       "      <th>CPIAUCSL</th>\n",
       "      <th>Unnamed: 1</th>\n",
       "      <th>Unnamed: 2</th>\n",
       "    </tr>\n",
       "  </thead>\n",
       "  <tbody>\n",
       "    <tr>\n",
       "      <th>0</th>\n",
       "      <td>lin</td>\n",
       "      <td>Index 1982-1984=100</td>\n",
       "      <td>NaN</td>\n",
       "    </tr>\n",
       "    <tr>\n",
       "      <th>1</th>\n",
       "      <td>M</td>\n",
       "      <td>Monthly</td>\n",
       "      <td>NaN</td>\n",
       "    </tr>\n",
       "    <tr>\n",
       "      <th>2</th>\n",
       "      <td>1/1/1947</td>\n",
       "      <td>1947-01-01 to 2019-03-01</td>\n",
       "      <td>NaN</td>\n",
       "    </tr>\n",
       "    <tr>\n",
       "      <th>3</th>\n",
       "      <td>Consumer Price Index for All Urban Consumers: ...</td>\n",
       "      <td>NaN</td>\n",
       "      <td>NaN</td>\n",
       "    </tr>\n",
       "    <tr>\n",
       "      <th>4</th>\n",
       "      <td>U.S. Bureau of Labor Statistics</td>\n",
       "      <td>NaN</td>\n",
       "      <td>NaN</td>\n",
       "    </tr>\n",
       "    <tr>\n",
       "      <th>5</th>\n",
       "      <td>date</td>\n",
       "      <td>value</td>\n",
       "      <td>cpi_rate</td>\n",
       "    </tr>\n",
       "    <tr>\n",
       "      <th>6</th>\n",
       "      <td>1/1/1947</td>\n",
       "      <td>21.5</td>\n",
       "      <td>NaN</td>\n",
       "    </tr>\n",
       "    <tr>\n",
       "      <th>7</th>\n",
       "      <td>2/1/1947</td>\n",
       "      <td>21.6</td>\n",
       "      <td>0.0047</td>\n",
       "    </tr>\n",
       "    <tr>\n",
       "      <th>8</th>\n",
       "      <td>3/1/1947</td>\n",
       "      <td>22</td>\n",
       "      <td>0.0185</td>\n",
       "    </tr>\n",
       "    <tr>\n",
       "      <th>9</th>\n",
       "      <td>4/1/1947</td>\n",
       "      <td>22</td>\n",
       "      <td>0.0000</td>\n",
       "    </tr>\n",
       "  </tbody>\n",
       "</table>\n",
       "</div>"
      ],
      "text/plain": [
       "                                            CPIAUCSL  \\\n",
       "0                                                lin   \n",
       "1                                                  M   \n",
       "2                                           1/1/1947   \n",
       "3  Consumer Price Index for All Urban Consumers: ...   \n",
       "4                    U.S. Bureau of Labor Statistics   \n",
       "5                                               date   \n",
       "6                                           1/1/1947   \n",
       "7                                           2/1/1947   \n",
       "8                                           3/1/1947   \n",
       "9                                           4/1/1947   \n",
       "\n",
       "                 Unnamed: 1 Unnamed: 2  \n",
       "0       Index 1982-1984=100        NaN  \n",
       "1                   Monthly        NaN  \n",
       "2  1947-01-01 to 2019-03-01        NaN  \n",
       "3                       NaN        NaN  \n",
       "4                       NaN        NaN  \n",
       "5                     value   cpi_rate  \n",
       "6                      21.5        NaN  \n",
       "7                      21.6     0.0047  \n",
       "8                        22     0.0185  \n",
       "9                        22     0.0000  "
      ]
     },
     "execution_count": 177,
     "metadata": {},
     "output_type": "execute_result"
    }
   ],
   "source": [
    "cpiaucsl.head(10)"
   ]
  },
  {
   "cell_type": "code",
   "execution_count": 178,
   "metadata": {},
   "outputs": [],
   "source": [
    "# General function for cleaining raw FRED datasets.\n",
    "def process_fredData(df, oldCol1, newCol1, oldCol2, newCol2):\n",
    "    # Removes the FRED plug-in parameters.\n",
    "    new_df = df.drop([0, 1, 2, 3, 4, 5])\n",
    "    # Resetting index.\n",
    "    new_df = new_df.reset_index(drop=True)\n",
    "    # Renaming columns.\n",
    "    new_df = new_df.rename(columns={oldCol1: newCol1, oldCol2: newCol2})\n",
    "    return new_df"
   ]
  },
  {
   "cell_type": "code",
   "execution_count": 179,
   "metadata": {},
   "outputs": [],
   "source": [
    "df_unrate = process_fredData(unrate, \"UNRATE\", \"date\", \"Unnamed: 1\", \"unrate\")\n",
    "df_cpi = process_fredData(cpiaucsl, \"CPIAUCSL\", \"date\", \"Unnamed: 1\", \"cpi_val\")"
   ]
  },
  {
   "cell_type": "code",
   "execution_count": 180,
   "metadata": {},
   "outputs": [
    {
     "data": {
      "text/html": [
       "<div>\n",
       "<style scoped>\n",
       "    .dataframe tbody tr th:only-of-type {\n",
       "        vertical-align: middle;\n",
       "    }\n",
       "\n",
       "    .dataframe tbody tr th {\n",
       "        vertical-align: top;\n",
       "    }\n",
       "\n",
       "    .dataframe thead th {\n",
       "        text-align: right;\n",
       "    }\n",
       "</style>\n",
       "<table border=\"1\" class=\"dataframe\">\n",
       "  <thead>\n",
       "    <tr style=\"text-align: right;\">\n",
       "      <th></th>\n",
       "      <th>date</th>\n",
       "      <th>unrate</th>\n",
       "    </tr>\n",
       "  </thead>\n",
       "  <tbody>\n",
       "    <tr>\n",
       "      <th>0</th>\n",
       "      <td>01/01/1948</td>\n",
       "      <td>3.4</td>\n",
       "    </tr>\n",
       "    <tr>\n",
       "      <th>1</th>\n",
       "      <td>02/01/1948</td>\n",
       "      <td>3.8</td>\n",
       "    </tr>\n",
       "    <tr>\n",
       "      <th>2</th>\n",
       "      <td>03/01/1948</td>\n",
       "      <td>4.0</td>\n",
       "    </tr>\n",
       "    <tr>\n",
       "      <th>3</th>\n",
       "      <td>04/01/1948</td>\n",
       "      <td>3.9</td>\n",
       "    </tr>\n",
       "    <tr>\n",
       "      <th>4</th>\n",
       "      <td>05/01/1948</td>\n",
       "      <td>3.5</td>\n",
       "    </tr>\n",
       "  </tbody>\n",
       "</table>\n",
       "</div>"
      ],
      "text/plain": [
       "         date unrate\n",
       "0  01/01/1948    3.4\n",
       "1  02/01/1948    3.8\n",
       "2  03/01/1948    4.0\n",
       "3  04/01/1948    3.9\n",
       "4  05/01/1948    3.5"
      ]
     },
     "execution_count": 180,
     "metadata": {},
     "output_type": "execute_result"
    }
   ],
   "source": [
    "df_unrate.head()"
   ]
  },
  {
   "cell_type": "code",
   "execution_count": 181,
   "metadata": {},
   "outputs": [
    {
     "name": "stdout",
     "output_type": "stream",
     "text": [
      "date       object\n",
      "unrate    float64\n",
      "dtype: object\n"
     ]
    },
    {
     "data": {
      "text/html": [
       "<div>\n",
       "<style scoped>\n",
       "    .dataframe tbody tr th:only-of-type {\n",
       "        vertical-align: middle;\n",
       "    }\n",
       "\n",
       "    .dataframe tbody tr th {\n",
       "        vertical-align: top;\n",
       "    }\n",
       "\n",
       "    .dataframe thead th {\n",
       "        text-align: right;\n",
       "    }\n",
       "</style>\n",
       "<table border=\"1\" class=\"dataframe\">\n",
       "  <thead>\n",
       "    <tr style=\"text-align: right;\">\n",
       "      <th></th>\n",
       "      <th>date</th>\n",
       "      <th>unrate</th>\n",
       "    </tr>\n",
       "  </thead>\n",
       "  <tbody>\n",
       "    <tr>\n",
       "      <th>0</th>\n",
       "      <td>01/01/1948</td>\n",
       "      <td>3.4</td>\n",
       "    </tr>\n",
       "    <tr>\n",
       "      <th>1</th>\n",
       "      <td>02/01/1948</td>\n",
       "      <td>3.8</td>\n",
       "    </tr>\n",
       "    <tr>\n",
       "      <th>2</th>\n",
       "      <td>03/01/1948</td>\n",
       "      <td>4.0</td>\n",
       "    </tr>\n",
       "    <tr>\n",
       "      <th>3</th>\n",
       "      <td>04/01/1948</td>\n",
       "      <td>3.9</td>\n",
       "    </tr>\n",
       "    <tr>\n",
       "      <th>4</th>\n",
       "      <td>05/01/1948</td>\n",
       "      <td>3.5</td>\n",
       "    </tr>\n",
       "  </tbody>\n",
       "</table>\n",
       "</div>"
      ],
      "text/plain": [
       "         date  unrate\n",
       "0  01/01/1948     3.4\n",
       "1  02/01/1948     3.8\n",
       "2  03/01/1948     4.0\n",
       "3  04/01/1948     3.9\n",
       "4  05/01/1948     3.5"
      ]
     },
     "execution_count": 181,
     "metadata": {},
     "output_type": "execute_result"
    }
   ],
   "source": [
    "df_unrate['unrate'] = pd.to_numeric(df_unrate.unrate, errors='coerce')\n",
    "print(df_unrate.dtypes)\n",
    "df_unrate.head()"
   ]
  },
  {
   "cell_type": "code",
   "execution_count": 182,
   "metadata": {},
   "outputs": [
    {
     "data": {
      "text/html": [
       "<div>\n",
       "<style scoped>\n",
       "    .dataframe tbody tr th:only-of-type {\n",
       "        vertical-align: middle;\n",
       "    }\n",
       "\n",
       "    .dataframe tbody tr th {\n",
       "        vertical-align: top;\n",
       "    }\n",
       "\n",
       "    .dataframe thead th {\n",
       "        text-align: right;\n",
       "    }\n",
       "</style>\n",
       "<table border=\"1\" class=\"dataframe\">\n",
       "  <thead>\n",
       "    <tr style=\"text-align: right;\">\n",
       "      <th></th>\n",
       "      <th>date</th>\n",
       "      <th>cpi_val</th>\n",
       "      <th>Unnamed: 2</th>\n",
       "    </tr>\n",
       "  </thead>\n",
       "  <tbody>\n",
       "    <tr>\n",
       "      <th>0</th>\n",
       "      <td>1/1/1947</td>\n",
       "      <td>21.5</td>\n",
       "      <td>NaN</td>\n",
       "    </tr>\n",
       "    <tr>\n",
       "      <th>1</th>\n",
       "      <td>2/1/1947</td>\n",
       "      <td>21.6</td>\n",
       "      <td>0.0047</td>\n",
       "    </tr>\n",
       "    <tr>\n",
       "      <th>2</th>\n",
       "      <td>3/1/1947</td>\n",
       "      <td>22</td>\n",
       "      <td>0.0185</td>\n",
       "    </tr>\n",
       "    <tr>\n",
       "      <th>3</th>\n",
       "      <td>4/1/1947</td>\n",
       "      <td>22</td>\n",
       "      <td>0.0000</td>\n",
       "    </tr>\n",
       "    <tr>\n",
       "      <th>4</th>\n",
       "      <td>5/1/1947</td>\n",
       "      <td>22</td>\n",
       "      <td>0.0000</td>\n",
       "    </tr>\n",
       "  </tbody>\n",
       "</table>\n",
       "</div>"
      ],
      "text/plain": [
       "       date cpi_val Unnamed: 2\n",
       "0  1/1/1947    21.5        NaN\n",
       "1  2/1/1947    21.6     0.0047\n",
       "2  3/1/1947      22     0.0185\n",
       "3  4/1/1947      22     0.0000\n",
       "4  5/1/1947      22     0.0000"
      ]
     },
     "execution_count": 182,
     "metadata": {},
     "output_type": "execute_result"
    }
   ],
   "source": [
    "df_cpi.head()"
   ]
  },
  {
   "cell_type": "code",
   "execution_count": 183,
   "metadata": {},
   "outputs": [
    {
     "data": {
      "text/html": [
       "<div>\n",
       "<style scoped>\n",
       "    .dataframe tbody tr th:only-of-type {\n",
       "        vertical-align: middle;\n",
       "    }\n",
       "\n",
       "    .dataframe tbody tr th {\n",
       "        vertical-align: top;\n",
       "    }\n",
       "\n",
       "    .dataframe thead th {\n",
       "        text-align: right;\n",
       "    }\n",
       "</style>\n",
       "<table border=\"1\" class=\"dataframe\">\n",
       "  <thead>\n",
       "    <tr style=\"text-align: right;\">\n",
       "      <th></th>\n",
       "      <th>cpi_dates</th>\n",
       "      <th>cpi_val</th>\n",
       "      <th>cpi</th>\n",
       "    </tr>\n",
       "  </thead>\n",
       "  <tbody>\n",
       "    <tr>\n",
       "      <th>0</th>\n",
       "      <td>1/1/1947</td>\n",
       "      <td>21.5</td>\n",
       "      <td>NaN</td>\n",
       "    </tr>\n",
       "    <tr>\n",
       "      <th>1</th>\n",
       "      <td>2/1/1947</td>\n",
       "      <td>21.6</td>\n",
       "      <td>0.0047</td>\n",
       "    </tr>\n",
       "    <tr>\n",
       "      <th>2</th>\n",
       "      <td>3/1/1947</td>\n",
       "      <td>22</td>\n",
       "      <td>0.0185</td>\n",
       "    </tr>\n",
       "    <tr>\n",
       "      <th>3</th>\n",
       "      <td>4/1/1947</td>\n",
       "      <td>22</td>\n",
       "      <td>0.0000</td>\n",
       "    </tr>\n",
       "    <tr>\n",
       "      <th>4</th>\n",
       "      <td>5/1/1947</td>\n",
       "      <td>22</td>\n",
       "      <td>0.0000</td>\n",
       "    </tr>\n",
       "    <tr>\n",
       "      <th>5</th>\n",
       "      <td>6/1/1947</td>\n",
       "      <td>22.1</td>\n",
       "      <td>0.0045</td>\n",
       "    </tr>\n",
       "    <tr>\n",
       "      <th>6</th>\n",
       "      <td>7/1/1947</td>\n",
       "      <td>22.2</td>\n",
       "      <td>0.0045</td>\n",
       "    </tr>\n",
       "    <tr>\n",
       "      <th>7</th>\n",
       "      <td>8/1/1947</td>\n",
       "      <td>22.4</td>\n",
       "      <td>0.0090</td>\n",
       "    </tr>\n",
       "    <tr>\n",
       "      <th>8</th>\n",
       "      <td>9/1/1947</td>\n",
       "      <td>22.8</td>\n",
       "      <td>0.0179</td>\n",
       "    </tr>\n",
       "    <tr>\n",
       "      <th>9</th>\n",
       "      <td>10/1/1947</td>\n",
       "      <td>22.9</td>\n",
       "      <td>0.0044</td>\n",
       "    </tr>\n",
       "    <tr>\n",
       "      <th>10</th>\n",
       "      <td>11/1/1947</td>\n",
       "      <td>23.1</td>\n",
       "      <td>0.0087</td>\n",
       "    </tr>\n",
       "    <tr>\n",
       "      <th>11</th>\n",
       "      <td>12/1/1947</td>\n",
       "      <td>23.4</td>\n",
       "      <td>0.0130</td>\n",
       "    </tr>\n",
       "    <tr>\n",
       "      <th>12</th>\n",
       "      <td>1/1/1948</td>\n",
       "      <td>23.7</td>\n",
       "      <td>0.0128</td>\n",
       "    </tr>\n",
       "    <tr>\n",
       "      <th>13</th>\n",
       "      <td>2/1/1948</td>\n",
       "      <td>23.7</td>\n",
       "      <td>0.0000</td>\n",
       "    </tr>\n",
       "    <tr>\n",
       "      <th>14</th>\n",
       "      <td>3/1/1948</td>\n",
       "      <td>23.5</td>\n",
       "      <td>-0.0084</td>\n",
       "    </tr>\n",
       "  </tbody>\n",
       "</table>\n",
       "</div>"
      ],
      "text/plain": [
       "    cpi_dates cpi_val      cpi\n",
       "0    1/1/1947    21.5      NaN\n",
       "1    2/1/1947    21.6   0.0047\n",
       "2    3/1/1947      22   0.0185\n",
       "3    4/1/1947      22   0.0000\n",
       "4    5/1/1947      22   0.0000\n",
       "5    6/1/1947    22.1   0.0045\n",
       "6    7/1/1947    22.2   0.0045\n",
       "7    8/1/1947    22.4   0.0090\n",
       "8    9/1/1947    22.8   0.0179\n",
       "9   10/1/1947    22.9   0.0044\n",
       "10  11/1/1947    23.1   0.0087\n",
       "11  12/1/1947    23.4   0.0130\n",
       "12   1/1/1948    23.7   0.0128\n",
       "13   2/1/1948    23.7   0.0000\n",
       "14   3/1/1948    23.5  -0.0084"
      ]
     },
     "execution_count": 183,
     "metadata": {},
     "output_type": "execute_result"
    }
   ],
   "source": [
    "df_cpi = df_cpi.rename(columns={\"date\": \"cpi_dates\", \"Unnamed: 2\": \"cpi\"})\n",
    "df_cpi.head(15)"
   ]
  },
  {
   "cell_type": "code",
   "execution_count": 184,
   "metadata": {},
   "outputs": [
    {
     "data": {
      "text/html": [
       "<div>\n",
       "<style scoped>\n",
       "    .dataframe tbody tr th:only-of-type {\n",
       "        vertical-align: middle;\n",
       "    }\n",
       "\n",
       "    .dataframe tbody tr th {\n",
       "        vertical-align: top;\n",
       "    }\n",
       "\n",
       "    .dataframe thead th {\n",
       "        text-align: right;\n",
       "    }\n",
       "</style>\n",
       "<table border=\"1\" class=\"dataframe\">\n",
       "  <thead>\n",
       "    <tr style=\"text-align: right;\">\n",
       "      <th></th>\n",
       "      <th>cpi_dates</th>\n",
       "      <th>cpi_val</th>\n",
       "      <th>cpi</th>\n",
       "    </tr>\n",
       "  </thead>\n",
       "  <tbody>\n",
       "    <tr>\n",
       "      <th>0</th>\n",
       "      <td>1/1/1948</td>\n",
       "      <td>23.7</td>\n",
       "      <td>0.0128</td>\n",
       "    </tr>\n",
       "    <tr>\n",
       "      <th>1</th>\n",
       "      <td>2/1/1948</td>\n",
       "      <td>23.7</td>\n",
       "      <td>0.0000</td>\n",
       "    </tr>\n",
       "    <tr>\n",
       "      <th>2</th>\n",
       "      <td>3/1/1948</td>\n",
       "      <td>23.5</td>\n",
       "      <td>-0.0084</td>\n",
       "    </tr>\n",
       "    <tr>\n",
       "      <th>3</th>\n",
       "      <td>4/1/1948</td>\n",
       "      <td>23.8</td>\n",
       "      <td>0.0128</td>\n",
       "    </tr>\n",
       "    <tr>\n",
       "      <th>4</th>\n",
       "      <td>5/1/1948</td>\n",
       "      <td>24</td>\n",
       "      <td>0.0084</td>\n",
       "    </tr>\n",
       "  </tbody>\n",
       "</table>\n",
       "</div>"
      ],
      "text/plain": [
       "  cpi_dates cpi_val      cpi\n",
       "0  1/1/1948    23.7   0.0128\n",
       "1  2/1/1948    23.7   0.0000\n",
       "2  3/1/1948    23.5  -0.0084\n",
       "3  4/1/1948    23.8   0.0128\n",
       "4  5/1/1948      24   0.0084"
      ]
     },
     "execution_count": 184,
     "metadata": {},
     "output_type": "execute_result"
    }
   ],
   "source": [
    "# Trimming df_cpi to match starting dates.\n",
    "df_cpi = df_cpi.drop([0,1,2,3,4,5,6,7,8,9,10,11])\n",
    "df_cpi = df_cpi.reset_index(drop=True)\n",
    "df_cpi.head()"
   ]
  },
  {
   "cell_type": "code",
   "execution_count": 185,
   "metadata": {},
   "outputs": [
    {
     "data": {
      "text/plain": [
       "cpi_dates    object\n",
       "cpi_val      object\n",
       "cpi          object\n",
       "dtype: object"
      ]
     },
     "execution_count": 185,
     "metadata": {},
     "output_type": "execute_result"
    }
   ],
   "source": [
    "df_cpi.dtypes"
   ]
  },
  {
   "cell_type": "code",
   "execution_count": 186,
   "metadata": {},
   "outputs": [
    {
     "name": "stdout",
     "output_type": "stream",
     "text": [
      "cpi_dates     object\n",
      "cpi_val      float64\n",
      "cpi          float64\n",
      "dtype: object\n"
     ]
    },
    {
     "data": {
      "text/html": [
       "<div>\n",
       "<style scoped>\n",
       "    .dataframe tbody tr th:only-of-type {\n",
       "        vertical-align: middle;\n",
       "    }\n",
       "\n",
       "    .dataframe tbody tr th {\n",
       "        vertical-align: top;\n",
       "    }\n",
       "\n",
       "    .dataframe thead th {\n",
       "        text-align: right;\n",
       "    }\n",
       "</style>\n",
       "<table border=\"1\" class=\"dataframe\">\n",
       "  <thead>\n",
       "    <tr style=\"text-align: right;\">\n",
       "      <th></th>\n",
       "      <th>cpi_dates</th>\n",
       "      <th>cpi_val</th>\n",
       "      <th>cpi</th>\n",
       "    </tr>\n",
       "  </thead>\n",
       "  <tbody>\n",
       "    <tr>\n",
       "      <th>0</th>\n",
       "      <td>1/1/1948</td>\n",
       "      <td>23.7</td>\n",
       "      <td>0.0128</td>\n",
       "    </tr>\n",
       "    <tr>\n",
       "      <th>1</th>\n",
       "      <td>2/1/1948</td>\n",
       "      <td>23.7</td>\n",
       "      <td>0.0000</td>\n",
       "    </tr>\n",
       "    <tr>\n",
       "      <th>2</th>\n",
       "      <td>3/1/1948</td>\n",
       "      <td>23.5</td>\n",
       "      <td>-0.0084</td>\n",
       "    </tr>\n",
       "    <tr>\n",
       "      <th>3</th>\n",
       "      <td>4/1/1948</td>\n",
       "      <td>23.8</td>\n",
       "      <td>0.0128</td>\n",
       "    </tr>\n",
       "    <tr>\n",
       "      <th>4</th>\n",
       "      <td>5/1/1948</td>\n",
       "      <td>24.0</td>\n",
       "      <td>0.0084</td>\n",
       "    </tr>\n",
       "  </tbody>\n",
       "</table>\n",
       "</div>"
      ],
      "text/plain": [
       "  cpi_dates  cpi_val     cpi\n",
       "0  1/1/1948     23.7  0.0128\n",
       "1  2/1/1948     23.7  0.0000\n",
       "2  3/1/1948     23.5 -0.0084\n",
       "3  4/1/1948     23.8  0.0128\n",
       "4  5/1/1948     24.0  0.0084"
      ]
     },
     "execution_count": 186,
     "metadata": {},
     "output_type": "execute_result"
    }
   ],
   "source": [
    "df_cpi['cpi'] = pd.to_numeric(df_cpi.cpi, errors='coerce')\n",
    "df_cpi['cpi_val'] = pd.to_numeric(df_cpi.cpi_val, errors='coerce')\n",
    "print(df_cpi.dtypes)\n",
    "df_cpi.head()"
   ]
  },
  {
   "cell_type": "code",
   "execution_count": 187,
   "metadata": {},
   "outputs": [
    {
     "name": "stdout",
     "output_type": "stream",
     "text": [
      "855\n",
      "855\n"
     ]
    }
   ],
   "source": [
    "print(len(df_unrate))\n",
    "print(len(df_cpi))"
   ]
  },
  {
   "cell_type": "code",
   "execution_count": 188,
   "metadata": {},
   "outputs": [
    {
     "data": {
      "text/html": [
       "<div>\n",
       "<style scoped>\n",
       "    .dataframe tbody tr th:only-of-type {\n",
       "        vertical-align: middle;\n",
       "    }\n",
       "\n",
       "    .dataframe tbody tr th {\n",
       "        vertical-align: top;\n",
       "    }\n",
       "\n",
       "    .dataframe thead th {\n",
       "        text-align: right;\n",
       "    }\n",
       "</style>\n",
       "<table border=\"1\" class=\"dataframe\">\n",
       "  <thead>\n",
       "    <tr style=\"text-align: right;\">\n",
       "      <th></th>\n",
       "      <th>date</th>\n",
       "      <th>unrate</th>\n",
       "      <th>cpi_dates</th>\n",
       "      <th>cpi_val</th>\n",
       "      <th>cpi</th>\n",
       "    </tr>\n",
       "  </thead>\n",
       "  <tbody>\n",
       "    <tr>\n",
       "      <th>0</th>\n",
       "      <td>01/01/1948</td>\n",
       "      <td>3.4</td>\n",
       "      <td>1/1/1948</td>\n",
       "      <td>23.7</td>\n",
       "      <td>0.0128</td>\n",
       "    </tr>\n",
       "    <tr>\n",
       "      <th>1</th>\n",
       "      <td>02/01/1948</td>\n",
       "      <td>3.8</td>\n",
       "      <td>2/1/1948</td>\n",
       "      <td>23.7</td>\n",
       "      <td>0.0000</td>\n",
       "    </tr>\n",
       "    <tr>\n",
       "      <th>2</th>\n",
       "      <td>03/01/1948</td>\n",
       "      <td>4.0</td>\n",
       "      <td>3/1/1948</td>\n",
       "      <td>23.5</td>\n",
       "      <td>-0.0084</td>\n",
       "    </tr>\n",
       "    <tr>\n",
       "      <th>3</th>\n",
       "      <td>04/01/1948</td>\n",
       "      <td>3.9</td>\n",
       "      <td>4/1/1948</td>\n",
       "      <td>23.8</td>\n",
       "      <td>0.0128</td>\n",
       "    </tr>\n",
       "    <tr>\n",
       "      <th>4</th>\n",
       "      <td>05/01/1948</td>\n",
       "      <td>3.5</td>\n",
       "      <td>5/1/1948</td>\n",
       "      <td>24.0</td>\n",
       "      <td>0.0084</td>\n",
       "    </tr>\n",
       "    <tr>\n",
       "      <th>5</th>\n",
       "      <td>06/01/1948</td>\n",
       "      <td>3.6</td>\n",
       "      <td>6/1/1948</td>\n",
       "      <td>24.2</td>\n",
       "      <td>0.0083</td>\n",
       "    </tr>\n",
       "    <tr>\n",
       "      <th>6</th>\n",
       "      <td>07/01/1948</td>\n",
       "      <td>3.6</td>\n",
       "      <td>7/1/1948</td>\n",
       "      <td>24.4</td>\n",
       "      <td>0.0083</td>\n",
       "    </tr>\n",
       "    <tr>\n",
       "      <th>7</th>\n",
       "      <td>08/01/1948</td>\n",
       "      <td>3.9</td>\n",
       "      <td>8/1/1948</td>\n",
       "      <td>24.4</td>\n",
       "      <td>0.0000</td>\n",
       "    </tr>\n",
       "    <tr>\n",
       "      <th>8</th>\n",
       "      <td>09/01/1948</td>\n",
       "      <td>3.8</td>\n",
       "      <td>9/1/1948</td>\n",
       "      <td>24.4</td>\n",
       "      <td>0.0000</td>\n",
       "    </tr>\n",
       "    <tr>\n",
       "      <th>9</th>\n",
       "      <td>10/01/1948</td>\n",
       "      <td>3.7</td>\n",
       "      <td>10/1/1948</td>\n",
       "      <td>24.3</td>\n",
       "      <td>-0.0041</td>\n",
       "    </tr>\n",
       "    <tr>\n",
       "      <th>10</th>\n",
       "      <td>11/01/1948</td>\n",
       "      <td>3.8</td>\n",
       "      <td>11/1/1948</td>\n",
       "      <td>24.2</td>\n",
       "      <td>-0.0041</td>\n",
       "    </tr>\n",
       "    <tr>\n",
       "      <th>11</th>\n",
       "      <td>12/01/1948</td>\n",
       "      <td>4.0</td>\n",
       "      <td>12/1/1948</td>\n",
       "      <td>24.1</td>\n",
       "      <td>-0.0041</td>\n",
       "    </tr>\n",
       "    <tr>\n",
       "      <th>12</th>\n",
       "      <td>01/01/1949</td>\n",
       "      <td>4.3</td>\n",
       "      <td>1/1/1949</td>\n",
       "      <td>24.0</td>\n",
       "      <td>-0.0041</td>\n",
       "    </tr>\n",
       "    <tr>\n",
       "      <th>13</th>\n",
       "      <td>02/01/1949</td>\n",
       "      <td>4.7</td>\n",
       "      <td>2/1/1949</td>\n",
       "      <td>23.9</td>\n",
       "      <td>-0.0042</td>\n",
       "    </tr>\n",
       "    <tr>\n",
       "      <th>14</th>\n",
       "      <td>03/01/1949</td>\n",
       "      <td>5.0</td>\n",
       "      <td>3/1/1949</td>\n",
       "      <td>23.9</td>\n",
       "      <td>0.0000</td>\n",
       "    </tr>\n",
       "  </tbody>\n",
       "</table>\n",
       "</div>"
      ],
      "text/plain": [
       "          date  unrate  cpi_dates  cpi_val     cpi\n",
       "0   01/01/1948     3.4   1/1/1948     23.7  0.0128\n",
       "1   02/01/1948     3.8   2/1/1948     23.7  0.0000\n",
       "2   03/01/1948     4.0   3/1/1948     23.5 -0.0084\n",
       "3   04/01/1948     3.9   4/1/1948     23.8  0.0128\n",
       "4   05/01/1948     3.5   5/1/1948     24.0  0.0084\n",
       "5   06/01/1948     3.6   6/1/1948     24.2  0.0083\n",
       "6   07/01/1948     3.6   7/1/1948     24.4  0.0083\n",
       "7   08/01/1948     3.9   8/1/1948     24.4  0.0000\n",
       "8   09/01/1948     3.8   9/1/1948     24.4  0.0000\n",
       "9   10/01/1948     3.7  10/1/1948     24.3 -0.0041\n",
       "10  11/01/1948     3.8  11/1/1948     24.2 -0.0041\n",
       "11  12/01/1948     4.0  12/1/1948     24.1 -0.0041\n",
       "12  01/01/1949     4.3   1/1/1949     24.0 -0.0041\n",
       "13  02/01/1949     4.7   2/1/1949     23.9 -0.0042\n",
       "14  03/01/1949     5.0   3/1/1949     23.9  0.0000"
      ]
     },
     "execution_count": 188,
     "metadata": {},
     "output_type": "execute_result"
    }
   ],
   "source": [
    "df = pd.concat([df_unrate, df_cpi], axis=1)\n",
    "df.head(15)"
   ]
  },
  {
   "cell_type": "code",
   "execution_count": 189,
   "metadata": {},
   "outputs": [
    {
     "data": {
      "text/html": [
       "<div>\n",
       "<style scoped>\n",
       "    .dataframe tbody tr th:only-of-type {\n",
       "        vertical-align: middle;\n",
       "    }\n",
       "\n",
       "    .dataframe tbody tr th {\n",
       "        vertical-align: top;\n",
       "    }\n",
       "\n",
       "    .dataframe thead th {\n",
       "        text-align: right;\n",
       "    }\n",
       "</style>\n",
       "<table border=\"1\" class=\"dataframe\">\n",
       "  <thead>\n",
       "    <tr style=\"text-align: right;\">\n",
       "      <th></th>\n",
       "      <th>date</th>\n",
       "      <th>unrate</th>\n",
       "      <th>cpi_val</th>\n",
       "      <th>cpi</th>\n",
       "    </tr>\n",
       "  </thead>\n",
       "  <tbody>\n",
       "    <tr>\n",
       "      <th>0</th>\n",
       "      <td>01/01/1948</td>\n",
       "      <td>3.4</td>\n",
       "      <td>23.7</td>\n",
       "      <td>0.0128</td>\n",
       "    </tr>\n",
       "    <tr>\n",
       "      <th>1</th>\n",
       "      <td>02/01/1948</td>\n",
       "      <td>3.8</td>\n",
       "      <td>23.7</td>\n",
       "      <td>0.0000</td>\n",
       "    </tr>\n",
       "    <tr>\n",
       "      <th>2</th>\n",
       "      <td>03/01/1948</td>\n",
       "      <td>4.0</td>\n",
       "      <td>23.5</td>\n",
       "      <td>-0.0084</td>\n",
       "    </tr>\n",
       "    <tr>\n",
       "      <th>3</th>\n",
       "      <td>04/01/1948</td>\n",
       "      <td>3.9</td>\n",
       "      <td>23.8</td>\n",
       "      <td>0.0128</td>\n",
       "    </tr>\n",
       "    <tr>\n",
       "      <th>4</th>\n",
       "      <td>05/01/1948</td>\n",
       "      <td>3.5</td>\n",
       "      <td>24.0</td>\n",
       "      <td>0.0084</td>\n",
       "    </tr>\n",
       "  </tbody>\n",
       "</table>\n",
       "</div>"
      ],
      "text/plain": [
       "         date  unrate  cpi_val     cpi\n",
       "0  01/01/1948     3.4     23.7  0.0128\n",
       "1  02/01/1948     3.8     23.7  0.0000\n",
       "2  03/01/1948     4.0     23.5 -0.0084\n",
       "3  04/01/1948     3.9     23.8  0.0128\n",
       "4  05/01/1948     3.5     24.0  0.0084"
      ]
     },
     "execution_count": 189,
     "metadata": {},
     "output_type": "execute_result"
    }
   ],
   "source": [
    "df = df.drop(['cpi_dates'], axis=1)\n",
    "df.head()"
   ]
  },
  {
   "cell_type": "code",
   "execution_count": 190,
   "metadata": {},
   "outputs": [
    {
     "data": {
      "text/html": [
       "<div>\n",
       "<style scoped>\n",
       "    .dataframe tbody tr th:only-of-type {\n",
       "        vertical-align: middle;\n",
       "    }\n",
       "\n",
       "    .dataframe tbody tr th {\n",
       "        vertical-align: top;\n",
       "    }\n",
       "\n",
       "    .dataframe thead th {\n",
       "        text-align: right;\n",
       "    }\n",
       "</style>\n",
       "<table border=\"1\" class=\"dataframe\">\n",
       "  <thead>\n",
       "    <tr style=\"text-align: right;\">\n",
       "      <th></th>\n",
       "      <th>date</th>\n",
       "      <th>unrate</th>\n",
       "      <th>cpi_val</th>\n",
       "      <th>cpi</th>\n",
       "    </tr>\n",
       "    <tr>\n",
       "      <th>date</th>\n",
       "      <th></th>\n",
       "      <th></th>\n",
       "      <th></th>\n",
       "      <th></th>\n",
       "    </tr>\n",
       "  </thead>\n",
       "  <tbody>\n",
       "    <tr>\n",
       "      <th>1948-01-01</th>\n",
       "      <td>01/01/1948</td>\n",
       "      <td>3.4</td>\n",
       "      <td>23.7</td>\n",
       "      <td>0.0128</td>\n",
       "    </tr>\n",
       "    <tr>\n",
       "      <th>1948-02-01</th>\n",
       "      <td>02/01/1948</td>\n",
       "      <td>3.8</td>\n",
       "      <td>23.7</td>\n",
       "      <td>0.0000</td>\n",
       "    </tr>\n",
       "    <tr>\n",
       "      <th>1948-03-01</th>\n",
       "      <td>03/01/1948</td>\n",
       "      <td>4.0</td>\n",
       "      <td>23.5</td>\n",
       "      <td>-0.0084</td>\n",
       "    </tr>\n",
       "    <tr>\n",
       "      <th>1948-04-01</th>\n",
       "      <td>04/01/1948</td>\n",
       "      <td>3.9</td>\n",
       "      <td>23.8</td>\n",
       "      <td>0.0128</td>\n",
       "    </tr>\n",
       "    <tr>\n",
       "      <th>1948-05-01</th>\n",
       "      <td>05/01/1948</td>\n",
       "      <td>3.5</td>\n",
       "      <td>24.0</td>\n",
       "      <td>0.0084</td>\n",
       "    </tr>\n",
       "  </tbody>\n",
       "</table>\n",
       "</div>"
      ],
      "text/plain": [
       "                  date  unrate  cpi_val     cpi\n",
       "date                                           \n",
       "1948-01-01  01/01/1948     3.4     23.7  0.0128\n",
       "1948-02-01  02/01/1948     3.8     23.7  0.0000\n",
       "1948-03-01  03/01/1948     4.0     23.5 -0.0084\n",
       "1948-04-01  04/01/1948     3.9     23.8  0.0128\n",
       "1948-05-01  05/01/1948     3.5     24.0  0.0084"
      ]
     },
     "execution_count": 190,
     "metadata": {},
     "output_type": "execute_result"
    }
   ],
   "source": [
    "# Creating date-based index.\n",
    "df.index = pd.to_datetime(df.date)\n",
    "df.head()"
   ]
  },
  {
   "cell_type": "markdown",
   "metadata": {},
   "source": [
    "# Visualizing"
   ]
  },
  {
   "cell_type": "code",
   "execution_count": 191,
   "metadata": {},
   "outputs": [
    {
     "data": {
      "image/png": "[encoded data removed]",
      "text/plain": [
       "<Figure size 432x288 with 1 Axes>"
      ]
     },
     "metadata": {},
     "output_type": "display_data"
    }
   ],
   "source": [
    "df[['unrate']].plot()\n",
    "plt.title('Unemployment Rate')\n",
    "plt.xlabel('Date')\n",
    "plt.ylabel('Unemployment %')\n",
    "plt.show()"
   ]
  },
  {
   "cell_type": "code",
   "execution_count": 192,
   "metadata": {},
   "outputs": [
    {
     "data": {
      "image/png": "[encoded data removed]",
      "text/plain": [
       "<Figure size 432x288 with 1 Axes>"
      ]
     },
     "metadata": {},
     "output_type": "display_data"
    }
   ],
   "source": [
    "df[['cpi']].plot()\n",
    "plt.title('CPI')\n",
    "plt.xlabel('Date')\n",
    "plt.ylabel('% Change in CPI')\n",
    "plt.show()"
   ]
  },
  {
   "cell_type": "code",
   "execution_count": 193,
   "metadata": {},
   "outputs": [
    {
     "data": {
      "image/png": "[encoded data removed]",
      "text/plain": [
       "<Figure size 432x288 with 1 Axes>"
      ]
     },
     "metadata": {},
     "output_type": "display_data"
    }
   ],
   "source": [
    "plt.scatter(x=df.unrate, y=df.cpi)\n",
    "plt.xlabel('Unemployment Rate')\n",
    "plt.ylabel('Change in CPI')\n",
    "plt.title('Unemployment Rate vs Change in CPI')\n",
    "plt.show()"
   ]
  },
  {
   "cell_type": "code",
   "execution_count": 194,
   "metadata": {},
   "outputs": [
    {
     "data": {
      "image/png": "[encoded data removed]",
      "text/plain": [
       "<Figure size 432x288 with 1 Axes>"
      ]
     },
     "metadata": {},
     "output_type": "display_data"
    }
   ],
   "source": [
    "plt.boxplot([df.cpi])\n",
    "plt.title('Change in CPI: 1948-Present')\n",
    "plt.show()"
   ]
  },
  {
   "cell_type": "code",
   "execution_count": 195,
   "metadata": {},
   "outputs": [
    {
     "data": {
      "image/png": "[encoded data removed]",
      "text/plain": [
       "<Figure size 432x288 with 1 Axes>"
      ]
     },
     "metadata": {},
     "output_type": "display_data"
    }
   ],
   "source": [
    "plt.boxplot([df.unrate])\n",
    "plt.title('Unemployment Rates: 1948-Present')\n",
    "plt.show()"
   ]
  },
  {
   "cell_type": "code",
   "execution_count": 196,
   "metadata": {},
   "outputs": [
    {
     "data": {
      "text/html": [
       "<div>\n",
       "<style scoped>\n",
       "    .dataframe tbody tr th:only-of-type {\n",
       "        vertical-align: middle;\n",
       "    }\n",
       "\n",
       "    .dataframe tbody tr th {\n",
       "        vertical-align: top;\n",
       "    }\n",
       "\n",
       "    .dataframe thead th {\n",
       "        text-align: right;\n",
       "    }\n",
       "</style>\n",
       "<table border=\"1\" class=\"dataframe\">\n",
       "  <thead>\n",
       "    <tr style=\"text-align: right;\">\n",
       "      <th></th>\n",
       "      <th>date</th>\n",
       "      <th>unrate</th>\n",
       "      <th>cpi_val</th>\n",
       "      <th>cpi</th>\n",
       "    </tr>\n",
       "    <tr>\n",
       "      <th>date</th>\n",
       "      <th></th>\n",
       "      <th></th>\n",
       "      <th></th>\n",
       "      <th></th>\n",
       "    </tr>\n",
       "  </thead>\n",
       "  <tbody>\n",
       "    <tr>\n",
       "      <th>1948-01-01</th>\n",
       "      <td>01/01/1948</td>\n",
       "      <td>3.4</td>\n",
       "      <td>23.7</td>\n",
       "      <td>0.0128</td>\n",
       "    </tr>\n",
       "    <tr>\n",
       "      <th>1948-02-01</th>\n",
       "      <td>02/01/1948</td>\n",
       "      <td>3.8</td>\n",
       "      <td>23.7</td>\n",
       "      <td>0.0000</td>\n",
       "    </tr>\n",
       "    <tr>\n",
       "      <th>1948-03-01</th>\n",
       "      <td>03/01/1948</td>\n",
       "      <td>4.0</td>\n",
       "      <td>23.5</td>\n",
       "      <td>-0.0084</td>\n",
       "    </tr>\n",
       "    <tr>\n",
       "      <th>1948-04-01</th>\n",
       "      <td>04/01/1948</td>\n",
       "      <td>3.9</td>\n",
       "      <td>23.8</td>\n",
       "      <td>0.0128</td>\n",
       "    </tr>\n",
       "    <tr>\n",
       "      <th>1948-05-01</th>\n",
       "      <td>05/01/1948</td>\n",
       "      <td>3.5</td>\n",
       "      <td>24.0</td>\n",
       "      <td>0.0084</td>\n",
       "    </tr>\n",
       "  </tbody>\n",
       "</table>\n",
       "</div>"
      ],
      "text/plain": [
       "                  date  unrate  cpi_val     cpi\n",
       "date                                           \n",
       "1948-01-01  01/01/1948     3.4     23.7  0.0128\n",
       "1948-02-01  02/01/1948     3.8     23.7  0.0000\n",
       "1948-03-01  03/01/1948     4.0     23.5 -0.0084\n",
       "1948-04-01  04/01/1948     3.9     23.8  0.0128\n",
       "1948-05-01  05/01/1948     3.5     24.0  0.0084"
      ]
     },
     "execution_count": 196,
     "metadata": {},
     "output_type": "execute_result"
    }
   ],
   "source": [
    "df.head()"
   ]
  },
  {
   "cell_type": "code",
   "execution_count": 197,
   "metadata": {},
   "outputs": [
    {
     "data": {
      "text/html": [
       "<div>\n",
       "<style scoped>\n",
       "    .dataframe tbody tr th:only-of-type {\n",
       "        vertical-align: middle;\n",
       "    }\n",
       "\n",
       "    .dataframe tbody tr th {\n",
       "        vertical-align: top;\n",
       "    }\n",
       "\n",
       "    .dataframe thead th {\n",
       "        text-align: right;\n",
       "    }\n",
       "</style>\n",
       "<table border=\"1\" class=\"dataframe\">\n",
       "  <thead>\n",
       "    <tr style=\"text-align: right;\">\n",
       "      <th></th>\n",
       "      <th>unrate</th>\n",
       "      <th>cpi_val</th>\n",
       "      <th>cpi</th>\n",
       "    </tr>\n",
       "  </thead>\n",
       "  <tbody>\n",
       "    <tr>\n",
       "      <th>count</th>\n",
       "      <td>855.000000</td>\n",
       "      <td>855.000000</td>\n",
       "      <td>855.000000</td>\n",
       "    </tr>\n",
       "    <tr>\n",
       "      <th>mean</th>\n",
       "      <td>5.756374</td>\n",
       "      <td>109.798830</td>\n",
       "      <td>0.002799</td>\n",
       "    </tr>\n",
       "    <tr>\n",
       "      <th>std</th>\n",
       "      <td>1.639387</td>\n",
       "      <td>76.519647</td>\n",
       "      <td>0.003389</td>\n",
       "    </tr>\n",
       "    <tr>\n",
       "      <th>min</th>\n",
       "      <td>2.500000</td>\n",
       "      <td>23.500000</td>\n",
       "      <td>-0.017500</td>\n",
       "    </tr>\n",
       "    <tr>\n",
       "      <th>25%</th>\n",
       "      <td>4.600000</td>\n",
       "      <td>31.750000</td>\n",
       "      <td>0.000500</td>\n",
       "    </tr>\n",
       "    <tr>\n",
       "      <th>50%</th>\n",
       "      <td>5.600000</td>\n",
       "      <td>100.100000</td>\n",
       "      <td>0.002700</td>\n",
       "    </tr>\n",
       "    <tr>\n",
       "      <th>75%</th>\n",
       "      <td>6.800000</td>\n",
       "      <td>177.350000</td>\n",
       "      <td>0.004200</td>\n",
       "    </tr>\n",
       "    <tr>\n",
       "      <th>max</th>\n",
       "      <td>10.800000</td>\n",
       "      <td>254.100000</td>\n",
       "      <td>0.018100</td>\n",
       "    </tr>\n",
       "  </tbody>\n",
       "</table>\n",
       "</div>"
      ],
      "text/plain": [
       "           unrate     cpi_val         cpi\n",
       "count  855.000000  855.000000  855.000000\n",
       "mean     5.756374  109.798830    0.002799\n",
       "std      1.639387   76.519647    0.003389\n",
       "min      2.500000   23.500000   -0.017500\n",
       "25%      4.600000   31.750000    0.000500\n",
       "50%      5.600000  100.100000    0.002700\n",
       "75%      6.800000  177.350000    0.004200\n",
       "max     10.800000  254.100000    0.018100"
      ]
     },
     "execution_count": 197,
     "metadata": {},
     "output_type": "execute_result"
    }
   ],
   "source": [
    "df.describe()"
   ]
  },
  {
   "cell_type": "markdown",
   "metadata": {},
   "source": [
    "# Regression Modeling"
   ]
  },
  {
   "cell_type": "code",
   "execution_count": 198,
   "metadata": {},
   "outputs": [
    {
     "name": "stdout",
     "output_type": "stream",
     "text": [
      "855\n",
      "855\n"
     ]
    }
   ],
   "source": [
    "# Assign X & Y.\n",
    "X = pd.DataFrame(df.unrate)\n",
    "Y = list(df.cpi)\n",
    "print(len(X))\n",
    "print(len(Y))"
   ]
  },
  {
   "cell_type": "code",
   "execution_count": 199,
   "metadata": {},
   "outputs": [
    {
     "name": "stdout",
     "output_type": "stream",
     "text": [
      "coefficients: [7.86594828e-05]\n",
      "intercept: 0.0023463878638789733\n",
      "score: 0.0014476026803427189\n"
     ]
    }
   ],
   "source": [
    "from sklearn.linear_model import LinearRegression\n",
    "lm = LinearRegression()\n",
    "\n",
    "lm.fit(X, Y)\n",
    "print('coefficients: ' + str(lm.coef_))\n",
    "print('intercept: ' + str(lm.intercept_))\n",
    "print('score: ' + str(lm.score(X,Y)))"
   ]
  },
  {
   "cell_type": "code",
   "execution_count": 200,
   "metadata": {},
   "outputs": [
    {
     "name": "stdout",
     "output_type": "stream",
     "text": [
      "coefficients: [9.38238158e-05]\n",
      "intercept: 0.0019763772685483425\n",
      "score: -0.005572501001204655\n"
     ]
    }
   ],
   "source": [
    "from sklearn.linear_model import HuberRegressor\n",
    "hr = HuberRegressor()\n",
    "\n",
    "hr.fit(X,Y)\n",
    "print('coefficients: ' + str(hr.coef_))\n",
    "print('intercept: ' + str(hr.intercept_))\n",
    "print('score: ' + str(hr.score(X,Y)))"
   ]
  },
  {
   "cell_type": "code",
   "execution_count": 201,
   "metadata": {},
   "outputs": [],
   "source": [
    "robust = [hr.coef_[0] * i + hr.intercept_ for i in range(-6, 10)]\n",
    "linear = [lm.coef_[0] * i + lm.intercept_ for i in range(-6, 10)]"
   ]
  },
  {
   "cell_type": "code",
   "execution_count": 202,
   "metadata": {},
   "outputs": [
    {
     "data": {
      "image/png": "[encoded data removed]",
      "text/plain": [
       "<Figure size 1080x720 with 1 Axes>"
      ]
     },
     "metadata": {},
     "output_type": "display_data"
    }
   ],
   "source": [
    "plt.rcParams['figure.figsize'] = (15, 10)\n",
    "\n",
    "plt.scatter(x=df.unrate, y=df.cpi, label='Raw Data')\n",
    "\n",
    "plt.plot(range(-6,10), robust, label='Robust')\n",
    "plt.plot(range(-6,10), linear, 'r', label='Linear')\n",
    "plt.legend()\n",
    "plt.title('Change in CPI vs Unemployment Rate')\n",
    "plt.xlabel('Unemployment Rate %')\n",
    "plt.ylabel('Change in CPI')\n",
    "\n",
    "xmin = min(df.unrate)\n",
    "ymin = min(df.cpi)\n",
    "xmax = max(df.unrate)\n",
    "ymax = max(df.cpi)\n",
    "\n",
    "plt.xlim(xmin - 0.3, xmax + 0.3)\n",
    "plt.ylim(ymin - 0.01, ymax + 0.01)\n",
    "\n",
    "plt.show()"
   ]
  },
  {
   "cell_type": "markdown",
   "metadata": {},
   "source": [
    "No clear linear relationship between 1948 and 2019. We can change our time period for the data to look over the short-run, as did Friedman and Phelps in 1967, whom asserted that the Phillips curve was only applicable over the short-term."
   ]
  },
  {
   "cell_type": "markdown",
   "metadata": {},
   "source": [
    "# Thiel-Sen and RANSAC Robust Regressors\n",
    "\n",
    "PROBIT regressor not applicable as it is form of logistic regression.\n",
    "\n",
    "TOBIT regressor is linear regression, but we do want to include our negative values ie: negative % change in CPI."
   ]
  },
  {
   "cell_type": "code",
   "execution_count": 203,
   "metadata": {},
   "outputs": [
    {
     "name": "stdout",
     "output_type": "stream",
     "text": [
      "coefficients: [0.00014509]\n",
      "intercept: 0.0018962303762151782\n",
      "score: 1.4832076634108125e-05\n"
     ]
    }
   ],
   "source": [
    "from sklearn.linear_model import TheilSenRegressor\n",
    "ts = TheilSenRegressor()\n",
    "\n",
    "ts.fit(X, Y)\n",
    "\n",
    "print('coefficients: ' + str(ts.coef_))\n",
    "print('intercept: ' + str(ts.intercept_))\n",
    "print('score: ' + str(ts.score(X,Y)))"
   ]
  },
  {
   "cell_type": "code",
   "execution_count": 204,
   "metadata": {},
   "outputs": [],
   "source": [
    "robust = [ts.coef_[0] * i + ts.intercept_ for i in range(-6, 10)]\n",
    "linear = [lm.coef_[0] * i + lm.intercept_ for i in range(-6, 10)]"
   ]
  },
  {
   "cell_type": "code",
   "execution_count": 211,
   "metadata": {},
   "outputs": [
    {
     "data": {
      "image/png": "[encoded data removed]",
      "text/plain": [
       "<Figure size 1080x720 with 1 Axes>"
      ]
     },
     "metadata": {},
     "output_type": "display_data"
    }
   ],
   "source": [
    "plt.rcParams['figure.figsize'] = (15, 10)\n",
    "\n",
    "plt.scatter(x=df.unrate, y=df.cpi, label='Raw Data')\n",
    "\n",
    "plt.plot(range(-6,10), robust, label='Robust')\n",
    "plt.plot(range(-6,10), linear, 'r', label='Linear')\n",
    "plt.legend()\n",
    "plt.title('Change in CPI vs Unemployment Rate')\n",
    "plt.xlabel('Unemployment Rate %')\n",
    "plt.ylabel('Change in CPI')\n",
    "\n",
    "xmin = min(df.unrate)\n",
    "ymin = min(df.cpi)\n",
    "xmax = max(df.unrate)\n",
    "ymax = max(df.cpi)\n",
    "\n",
    "plt.xlim(xmin - 0.3, xmax + 0.3)\n",
    "plt.ylim(ymin - 0.005, ymax + 0.005)\n",
    "\n",
    "plt.show()"
   ]
  },
  {
   "cell_type": "code",
   "execution_count": 206,
   "metadata": {},
   "outputs": [
    {
     "name": "stdout",
     "output_type": "stream",
     "text": [
      "coefficients: [-0.00047205]\n",
      "intercept: 0.00558670651667988\n",
      "score: -0.06993829701572674\n"
     ]
    }
   ],
   "source": [
    "from sklearn.linear_model import RANSACRegressor\n",
    "ransac = RANSACRegressor()\n",
    "\n",
    "ransac.fit(X, Y)\n",
    "\n",
    "#print('coefficients: ' + str(ransac.coef_))\n",
    "#print('intercept: ' + str(ransac.intercept_))\n",
    "\n",
    "print('coefficients: ' + str(ransac.estimator_.coef_))\n",
    "print('intercept: ' + str(ransac.estimator_.intercept_))\n",
    "print('score: ' + str(ransac.score(X,Y)))"
   ]
  },
  {
   "cell_type": "code",
   "execution_count": 207,
   "metadata": {},
   "outputs": [],
   "source": [
    "robust = [ransac.estimator_.coef_[0] * i + ransac.estimator_.intercept_ for i in range(-6, 10)]\n",
    "linear = [lm.coef_[0] * i + lm.intercept_ for i in range(-6, 10)]"
   ]
  },
  {
   "cell_type": "code",
   "execution_count": 212,
   "metadata": {},
   "outputs": [
    {
     "data": {
      "image/png": "[encoded data removed]",
      "text/plain": [
       "<Figure size 1080x720 with 1 Axes>"
      ]
     },
     "metadata": {},
     "output_type": "display_data"
    }
   ],
   "source": [
    "plt.rcParams['figure.figsize'] = (15, 10)\n",
    "\n",
    "plt.scatter(x=df.unrate, y=df.cpi, label='Raw Data')\n",
    "\n",
    "plt.plot(range(-6,10), robust, label='Robust')\n",
    "plt.plot(range(-6,10), linear, 'r', label='Linear')\n",
    "plt.legend()\n",
    "plt.title('Change in CPI vs Unemployment Rate')\n",
    "plt.xlabel('Unemployment Rate %')\n",
    "plt.ylabel('Change in CPI')\n",
    "\n",
    "xmin = min(df.unrate)\n",
    "ymin = min(df.cpi)\n",
    "xmax = max(df.unrate)\n",
    "ymax = max(df.cpi)\n",
    "\n",
    "plt.xlim(xmin - 0.3, xmax + 0.3)\n",
    "plt.ylim(ymin - 0.005, ymax + 0.005)\n",
    "\n",
    "plt.show()"
   ]
  },
  {
   "cell_type": "code",
   "execution_count": null,
   "metadata": {},
   "outputs": [],
   "source": []
  }
 ],
 "metadata": {
  "kernelspec": {
   "display_name": "Python 3",
   "language": "python",
   "name": "python3"
  },
  "language_info": {
   "codemirror_mode": {
    "name": "ipython",
    "version": 3
   },
   "file_extension": ".py",
   "mimetype": "text/x-python",
   "name": "python",
   "nbconvert_exporter": "python",
   "pygments_lexer": "ipython3",
   "version": "3.7.0"
  }
 },
 "nbformat": 4,
 "nbformat_minor": 2
}
