{
 "cells": [
  {
   "cell_type": "markdown",
   "metadata": {},
   "source": [
    "# Time Series Analysis\n",
    "\n",
    "Using a different time series data set (either from [FRED](https://fred.stlouisfed.org/) or elsewhere, go about the process of time series modeling. Specifically generate the following things:\n",
    "\n",
    "1. Plot the time series, along with any logical or necessary differences to get a stationary dataset\n",
    "2. Generate and interpret a PACF for the time series (and/or its differences)\n",
    "3. Generate 5 ARIMA specifications and evaluate their efficacy at modeling your data\n",
    "4. Finally choose one specification and make the case for that as a logical model for your dataset.\n",
    "\n",
    "This should come in the form of a notebook with the necessary prose to explain your process. Remember to use the tools of text, visuals, and analysis to tell a clear and concise story with your data."
   ]
  },
  {
   "cell_type": "code",
   "execution_count": 21,
   "metadata": {},
   "outputs": [],
   "source": [
    "import pandas as pd\n",
    "import numpy as np\n",
    "import matplotlib.pyplot as plt\n",
    "%matplotlib inline\n",
    "import datetime as dt\n",
    "\n",
    "from sklearn import linear_model\n",
    "\n",
    "from pandas.tools.plotting import autocorrelation_plot\n",
    "from statsmodels.tsa.stattools import pacf\n",
    "from statsmodels.tsa.arima_model import ARIMA"
   ]
  },
  {
   "cell_type": "code",
   "execution_count": 2,
   "metadata": {},
   "outputs": [
    {
     "data": {
      "text/html": [
       "<div>\n",
       "<style scoped>\n",
       "    .dataframe tbody tr th:only-of-type {\n",
       "        vertical-align: middle;\n",
       "    }\n",
       "\n",
       "    .dataframe tbody tr th {\n",
       "        vertical-align: top;\n",
       "    }\n",
       "\n",
       "    .dataframe thead th {\n",
       "        text-align: right;\n",
       "    }\n",
       "</style>\n",
       "<table border=\"1\" class=\"dataframe\">\n",
       "  <thead>\n",
       "    <tr style=\"text-align: right;\">\n",
       "      <th></th>\n",
       "      <th>DCOILWTICO</th>\n",
       "      <th>Unnamed: 1</th>\n",
       "    </tr>\n",
       "  </thead>\n",
       "  <tbody>\n",
       "    <tr>\n",
       "      <th>0</th>\n",
       "      <td>lin</td>\n",
       "      <td>Dollars per Barrel</td>\n",
       "    </tr>\n",
       "    <tr>\n",
       "      <th>1</th>\n",
       "      <td>D</td>\n",
       "      <td>Daily</td>\n",
       "    </tr>\n",
       "    <tr>\n",
       "      <th>2</th>\n",
       "      <td>01/01/1900</td>\n",
       "      <td>1986-01-02 to 2019-04-01</td>\n",
       "    </tr>\n",
       "    <tr>\n",
       "      <th>3</th>\n",
       "      <td>Crude Oil Prices: West Texas Intermediate (WTI...</td>\n",
       "      <td>NaN</td>\n",
       "    </tr>\n",
       "    <tr>\n",
       "      <th>4</th>\n",
       "      <td>U.S. Energy Information Administration</td>\n",
       "      <td>NaN</td>\n",
       "    </tr>\n",
       "    <tr>\n",
       "      <th>5</th>\n",
       "      <td>date</td>\n",
       "      <td>value</td>\n",
       "    </tr>\n",
       "    <tr>\n",
       "      <th>6</th>\n",
       "      <td>01/02/1986</td>\n",
       "      <td>25.6</td>\n",
       "    </tr>\n",
       "    <tr>\n",
       "      <th>7</th>\n",
       "      <td>01/03/1986</td>\n",
       "      <td>26.0</td>\n",
       "    </tr>\n",
       "    <tr>\n",
       "      <th>8</th>\n",
       "      <td>01/06/1986</td>\n",
       "      <td>26.5</td>\n",
       "    </tr>\n",
       "    <tr>\n",
       "      <th>9</th>\n",
       "      <td>01/07/1986</td>\n",
       "      <td>25.9</td>\n",
       "    </tr>\n",
       "  </tbody>\n",
       "</table>\n",
       "</div>"
      ],
      "text/plain": [
       "                                          DCOILWTICO                Unnamed: 1\n",
       "0                                                lin        Dollars per Barrel\n",
       "1                                                  D                     Daily\n",
       "2                                         01/01/1900  1986-01-02 to 2019-04-01\n",
       "3  Crude Oil Prices: West Texas Intermediate (WTI...                       NaN\n",
       "4             U.S. Energy Information Administration                       NaN\n",
       "5                                               date                     value\n",
       "6                                         01/02/1986                      25.6\n",
       "7                                         01/03/1986                      26.0\n",
       "8                                         01/06/1986                      26.5\n",
       "9                                         01/07/1986                      25.9"
      ]
     },
     "execution_count": 2,
     "metadata": {},
     "output_type": "execute_result"
    }
   ],
   "source": [
    "raw_data = pd.read_csv('~/src/data/fredData/dcoilwtico.csv')\n",
    "raw_data.iloc[:10]"
   ]
  },
  {
   "cell_type": "code",
   "execution_count": 3,
   "metadata": {},
   "outputs": [
    {
     "data": {
      "text/html": [
       "<div>\n",
       "<style scoped>\n",
       "    .dataframe tbody tr th:only-of-type {\n",
       "        vertical-align: middle;\n",
       "    }\n",
       "\n",
       "    .dataframe tbody tr th {\n",
       "        vertical-align: top;\n",
       "    }\n",
       "\n",
       "    .dataframe thead th {\n",
       "        text-align: right;\n",
       "    }\n",
       "</style>\n",
       "<table border=\"1\" class=\"dataframe\">\n",
       "  <thead>\n",
       "    <tr style=\"text-align: right;\">\n",
       "      <th></th>\n",
       "      <th>DCOILWTICO</th>\n",
       "      <th>Unnamed: 1</th>\n",
       "    </tr>\n",
       "  </thead>\n",
       "  <tbody>\n",
       "    <tr>\n",
       "      <th>0</th>\n",
       "      <td>lin</td>\n",
       "      <td>Dollars per Barrel</td>\n",
       "    </tr>\n",
       "    <tr>\n",
       "      <th>1</th>\n",
       "      <td>D</td>\n",
       "      <td>Daily</td>\n",
       "    </tr>\n",
       "    <tr>\n",
       "      <th>2</th>\n",
       "      <td>01/01/1900</td>\n",
       "      <td>1986-01-02 to 2019-04-01</td>\n",
       "    </tr>\n",
       "    <tr>\n",
       "      <th>3</th>\n",
       "      <td>Crude Oil Prices: West Texas Intermediate (WTI...</td>\n",
       "      <td>NaN</td>\n",
       "    </tr>\n",
       "    <tr>\n",
       "      <th>4</th>\n",
       "      <td>U.S. Energy Information Administration</td>\n",
       "      <td>NaN</td>\n",
       "    </tr>\n",
       "  </tbody>\n",
       "</table>\n",
       "</div>"
      ],
      "text/plain": [
       "                                          DCOILWTICO                Unnamed: 1\n",
       "0                                                lin        Dollars per Barrel\n",
       "1                                                  D                     Daily\n",
       "2                                         01/01/1900  1986-01-02 to 2019-04-01\n",
       "3  Crude Oil Prices: West Texas Intermediate (WTI...                       NaN\n",
       "4             U.S. Energy Information Administration                       NaN"
      ]
     },
     "execution_count": 3,
     "metadata": {},
     "output_type": "execute_result"
    }
   ],
   "source": [
    "raw_data.head()"
   ]
  },
  {
   "cell_type": "code",
   "execution_count": 4,
   "metadata": {},
   "outputs": [
    {
     "data": {
      "text/html": [
       "<div>\n",
       "<style scoped>\n",
       "    .dataframe tbody tr th:only-of-type {\n",
       "        vertical-align: middle;\n",
       "    }\n",
       "\n",
       "    .dataframe tbody tr th {\n",
       "        vertical-align: top;\n",
       "    }\n",
       "\n",
       "    .dataframe thead th {\n",
       "        text-align: right;\n",
       "    }\n",
       "</style>\n",
       "<table border=\"1\" class=\"dataframe\">\n",
       "  <thead>\n",
       "    <tr style=\"text-align: right;\">\n",
       "      <th></th>\n",
       "      <th>date</th>\n",
       "      <th>value</th>\n",
       "    </tr>\n",
       "  </thead>\n",
       "  <tbody>\n",
       "    <tr>\n",
       "      <th>0</th>\n",
       "      <td>01/02/1986</td>\n",
       "      <td>25.6</td>\n",
       "    </tr>\n",
       "    <tr>\n",
       "      <th>1</th>\n",
       "      <td>01/03/1986</td>\n",
       "      <td>26.0</td>\n",
       "    </tr>\n",
       "    <tr>\n",
       "      <th>2</th>\n",
       "      <td>01/06/1986</td>\n",
       "      <td>26.5</td>\n",
       "    </tr>\n",
       "    <tr>\n",
       "      <th>3</th>\n",
       "      <td>01/07/1986</td>\n",
       "      <td>25.9</td>\n",
       "    </tr>\n",
       "    <tr>\n",
       "      <th>4</th>\n",
       "      <td>01/08/1986</td>\n",
       "      <td>25.9</td>\n",
       "    </tr>\n",
       "  </tbody>\n",
       "</table>\n",
       "</div>"
      ],
      "text/plain": [
       "         date value\n",
       "0  01/02/1986  25.6\n",
       "1  01/03/1986  26.0\n",
       "2  01/06/1986  26.5\n",
       "3  01/07/1986  25.9\n",
       "4  01/08/1986  25.9"
      ]
     },
     "execution_count": 4,
     "metadata": {},
     "output_type": "execute_result"
    }
   ],
   "source": [
    "df = raw_data.drop([0, 1, 2, 3, 4 ,5])\n",
    "df = df.reset_index(drop=True)\n",
    "df = df.rename(columns={\"DCOILWTICO\": \"date\", \"Unnamed: 1\": \"value\"})\n",
    "df.head()"
   ]
  },
  {
   "cell_type": "code",
   "execution_count": 5,
   "metadata": {},
   "outputs": [
    {
     "data": {
      "text/plain": [
       "date     object\n",
       "value    object\n",
       "dtype: object"
      ]
     },
     "execution_count": 5,
     "metadata": {},
     "output_type": "execute_result"
    }
   ],
   "source": [
    "df.dtypes"
   ]
  },
  {
   "cell_type": "code",
   "execution_count": 6,
   "metadata": {},
   "outputs": [
    {
     "data": {
      "text/plain": [
       "date       0\n",
       "value    292\n",
       "dtype: int64"
      ]
     },
     "execution_count": 6,
     "metadata": {},
     "output_type": "execute_result"
    }
   ],
   "source": [
    "df.isnull().sum()"
   ]
  },
  {
   "cell_type": "code",
   "execution_count": 7,
   "metadata": {},
   "outputs": [
    {
     "data": {
      "text/html": [
       "<div>\n",
       "<style scoped>\n",
       "    .dataframe tbody tr th:only-of-type {\n",
       "        vertical-align: middle;\n",
       "    }\n",
       "\n",
       "    .dataframe tbody tr th {\n",
       "        vertical-align: top;\n",
       "    }\n",
       "\n",
       "    .dataframe thead th {\n",
       "        text-align: right;\n",
       "    }\n",
       "</style>\n",
       "<table border=\"1\" class=\"dataframe\">\n",
       "  <thead>\n",
       "    <tr style=\"text-align: right;\">\n",
       "      <th></th>\n",
       "      <th>date</th>\n",
       "      <th>price</th>\n",
       "    </tr>\n",
       "    <tr>\n",
       "      <th>date</th>\n",
       "      <th></th>\n",
       "      <th></th>\n",
       "    </tr>\n",
       "  </thead>\n",
       "  <tbody>\n",
       "    <tr>\n",
       "      <th>1986-01-02</th>\n",
       "      <td>01/02/1986</td>\n",
       "      <td>25.6</td>\n",
       "    </tr>\n",
       "    <tr>\n",
       "      <th>1986-01-03</th>\n",
       "      <td>01/03/1986</td>\n",
       "      <td>26.0</td>\n",
       "    </tr>\n",
       "    <tr>\n",
       "      <th>1986-01-06</th>\n",
       "      <td>01/06/1986</td>\n",
       "      <td>26.5</td>\n",
       "    </tr>\n",
       "    <tr>\n",
       "      <th>1986-01-07</th>\n",
       "      <td>01/07/1986</td>\n",
       "      <td>25.9</td>\n",
       "    </tr>\n",
       "    <tr>\n",
       "      <th>1986-01-08</th>\n",
       "      <td>01/08/1986</td>\n",
       "      <td>25.9</td>\n",
       "    </tr>\n",
       "  </tbody>\n",
       "</table>\n",
       "</div>"
      ],
      "text/plain": [
       "                  date  price\n",
       "date                         \n",
       "1986-01-02  01/02/1986   25.6\n",
       "1986-01-03  01/03/1986   26.0\n",
       "1986-01-06  01/06/1986   26.5\n",
       "1986-01-07  01/07/1986   25.9\n",
       "1986-01-08  01/08/1986   25.9"
      ]
     },
     "execution_count": 7,
     "metadata": {},
     "output_type": "execute_result"
    }
   ],
   "source": [
    "# Convert oil price to a number, with coersion to throw NA's if conversion not possible.\n",
    "df['price'] = pd.to_numeric(df.value, errors = 'coerce')\n",
    "\n",
    "# Remove NA's.\n",
    "df.dropna(inplace = True)\n",
    "\n",
    "# Create date-based index.\n",
    "df.index = pd.to_datetime(df.date)\n",
    "\n",
    "# Removing \"value\".\n",
    "df = df.drop(['value'], axis = 1)\n",
    "\n",
    "# View.\n",
    "df.head()"
   ]
  },
  {
   "cell_type": "code",
   "execution_count": 8,
   "metadata": {},
   "outputs": [
    {
     "data": {
      "text/plain": [
       "date      object\n",
       "price    float64\n",
       "dtype: object"
      ]
     },
     "execution_count": 8,
     "metadata": {},
     "output_type": "execute_result"
    }
   ],
   "source": [
    "df.dtypes"
   ]
  },
  {
   "cell_type": "markdown",
   "metadata": {},
   "source": [
    "## Viewing our data"
   ]
  },
  {
   "cell_type": "code",
   "execution_count": 9,
   "metadata": {},
   "outputs": [
    {
     "data": {
      "image/png": "[encoded data removed]",
      "text/plain": [
       "<Figure size 1080x720 with 1 Axes>"
      ]
     },
     "metadata": {},
     "output_type": "display_data"
    }
   ],
   "source": [
    "plt.rcParams['figure.figsize'] = (15, 10)\n",
    "plt.plot(df.index, df.price, '-')\n",
    "plt.xticks(rotation=75)\n",
    "plt.title('Dollars Per Barrel of Oil')\n",
    "plt.legend()\n",
    "plt.show()"
   ]
  },
  {
   "cell_type": "code",
   "execution_count": 10,
   "metadata": {},
   "outputs": [
    {
     "data": {
      "image/png": "[encoded data removed]",
      "text/plain": [
       "<Figure size 1080x720 with 1 Axes>"
      ]
     },
     "metadata": {},
     "output_type": "display_data"
    }
   ],
   "source": [
    "plt.rcParams['figure.figsize'] = (15, 10)\n",
    "df['diff_1'] = df.price - df.price.shift()\n",
    "df.plot(y='diff_1')\n",
    "plt.title('Oil Time Series')\n",
    "plt.show()"
   ]
  },
  {
   "cell_type": "markdown",
   "metadata": {},
   "source": [
    "## ACF: AutoCorrelation Function"
   ]
  },
  {
   "cell_type": "code",
   "execution_count": 11,
   "metadata": {},
   "outputs": [
    {
     "name": "stderr",
     "output_type": "stream",
     "text": [
      "c:\\users\\mewing_user\\appdata\\local\\programs\\python\\python37\\lib\\site-packages\\ipykernel_launcher.py:9: FutureWarning: 'pandas.tools.plotting.autocorrelation_plot' is deprecated, import 'pandas.plotting.autocorrelation_plot' instead.\n",
      "  if __name__ == '__main__':\n"
     ]
    },
    {
     "data": {
      "image/png": "[encoded data removed]",
      "text/plain": [
       "<Figure size 1080x720 with 1 Axes>"
      ]
     },
     "metadata": {},
     "output_type": "display_data"
    }
   ],
   "source": [
    "# Autocorrelation plot.\n",
    "# https://machinelearningmastery.com/arima-for-time-series-forecasting-with-python/\n",
    "\n",
    "\"\"\"Autocorrelation plots used for checking randomness in time series. If time series is random,\n",
    " such autocorrelations should be near zero for any and all time-lag separations. If time series\n",
    " is non-random then one or more of the autocorrelations will be significantly non-zero.\"\"\"\n",
    "\n",
    "from pandas.tools.plotting import autocorrelation_plot\n",
    "autocorrelation_plot(df['price'])\n",
    "plt.title(\"Autocorrelation Plot for Oil Prices\")\n",
    "plt.xlim(1500, 9000)\n",
    "plt.ylim(-0.5, 0.5)\n",
    "plt.xticks(rotation=75)\n",
    "plt.show()"
   ]
  },
  {
   "cell_type": "markdown",
   "metadata": {},
   "source": [
    "Dashed line is 99% confidence band, whereas grey lines are 95%. The higher the Lag, the more non-zero autocorrelations are present (see around ~8300), implying this aspect of our time series data is non-random. \n",
    "\n",
    "p-value == ~ 2300"
   ]
  },
  {
   "cell_type": "markdown",
   "metadata": {},
   "source": [
    "## PACF: Partial AutoCorrelation Function"
   ]
  },
  {
   "cell_type": "code",
   "execution_count": 16,
   "metadata": {},
   "outputs": [
    {
     "data": {
      "text/plain": [
       "Text(0.5,1,'Oil PACF')"
      ]
     },
     "execution_count": 16,
     "metadata": {},
     "output_type": "execute_result"
    },
    {
     "data": {
      "image/png": "[encoded data removed]",
      "text/plain": [
       "<Figure size 1080x720 with 1 Axes>"
      ]
     },
     "metadata": {},
     "output_type": "display_data"
    }
   ],
   "source": [
    "from statsmodels.tsa.stattools import pacf\n",
    "x_acf = pd.DataFrame(pacf(df.price))\n",
    "x_acf.plot(kind='bar')\n",
    "plt.title(\"Oil PACF\")"
   ]
  },
  {
   "cell_type": "code",
   "execution_count": 20,
   "metadata": {},
   "outputs": [
    {
     "data": {
      "text/plain": [
       "<matplotlib.legend.Legend at 0x260a211a2e8>"
      ]
     },
     "execution_count": 20,
     "metadata": {},
     "output_type": "execute_result"
    },
    {
     "data": {
      "image/png": "[encoded data removed]",
      "text/plain": [
       "<Figure size 1080x720 with 1 Axes>"
      ]
     },
     "metadata": {},
     "output_type": "display_data"
    }
   ],
   "source": [
    "x_acf = pd.DataFrame(pacf(df.diff_1[1:])) #as first indexed val is NaN due to lag\n",
    "x_acf.plot(kind='bar')\n",
    "plt.title(\"Oil Diff PACF\")\n",
    "plt.legend(['difference'])"
   ]
  },
  {
   "cell_type": "markdown",
   "metadata": {},
   "source": [
    "## ARIMA (0, 1, 0)"
   ]
  },
  {
   "cell_type": "code",
   "execution_count": 40,
   "metadata": {},
   "outputs": [],
   "source": [
    "def run_arima(a, b, c, vals):\n",
    "    from statsmodels.tsa.arima_model import ARIMA\n",
    "    model = ARIMA(vals, order=(a, b, c))\n",
    "    model_fit = model.fit()\n",
    "    summary = model_fit.summary()\n",
    "    residuals = model_fit.resid.describe()\n",
    "    print(summary)\n",
    "    print('Residuals Description:')\n",
    "    print(residuals)"
   ]
  },
  {
   "cell_type": "code",
   "execution_count": 45,
   "metadata": {
    "scrolled": false
   },
   "outputs": [
    {
     "name": "stderr",
     "output_type": "stream",
     "text": [
      "c:\\users\\mewing_user\\appdata\\local\\programs\\python\\python37\\lib\\site-packages\\statsmodels\\tsa\\base\\tsa_model.py:225: ValueWarning: A date index has been provided, but it has no associated frequency information and so will be ignored when e.g. forecasting.\n",
      "  ' ignored when e.g. forecasting.', ValueWarning)\n",
      "c:\\users\\mewing_user\\appdata\\local\\programs\\python\\python37\\lib\\site-packages\\scipy\\signal\\signaltools.py:1341: FutureWarning: Using a non-tuple sequence for multidimensional indexing is deprecated; use `arr[tuple(seq)]` instead of `arr[seq]`. In the future this will be interpreted as an array index, `arr[np.array(seq)]`, which will result either in an error or a different result.\n",
      "  out_full[ind] += zi\n",
      "c:\\users\\mewing_user\\appdata\\local\\programs\\python\\python37\\lib\\site-packages\\scipy\\signal\\signaltools.py:1344: FutureWarning: Using a non-tuple sequence for multidimensional indexing is deprecated; use `arr[tuple(seq)]` instead of `arr[seq]`. In the future this will be interpreted as an array index, `arr[np.array(seq)]`, which will result either in an error or a different result.\n",
      "  out = out_full[ind]\n",
      "c:\\users\\mewing_user\\appdata\\local\\programs\\python\\python37\\lib\\site-packages\\scipy\\signal\\signaltools.py:1350: FutureWarning: Using a non-tuple sequence for multidimensional indexing is deprecated; use `arr[tuple(seq)]` instead of `arr[seq]`. In the future this will be interpreted as an array index, `arr[np.array(seq)]`, which will result either in an error or a different result.\n",
      "  zf = out_full[ind]\n",
      "c:\\users\\mewing_user\\appdata\\local\\programs\\python\\python37\\lib\\site-packages\\statsmodels\\tsa\\base\\tsa_model.py:225: ValueWarning: A date index has been provided, but it has no associated frequency information and so will be ignored when e.g. forecasting.\n",
      "  ' ignored when e.g. forecasting.', ValueWarning)\n"
     ]
    },
    {
     "name": "stdout",
     "output_type": "stream",
     "text": [
      "                              ARMA Model Results                              \n",
      "==============================================================================\n",
      "Dep. Variable:                  price   No. Observations:                 8381\n",
      "Model:                     ARMA(0, 0)   Log Likelihood              -40245.242\n",
      "Method:                           css   S.D. of innovations             29.460\n",
      "Date:                Tue, 09 Apr 2019   AIC                          80494.484\n",
      "Time:                        19:59:32   BIC                          80508.551\n",
      "Sample:                             0   HQIC                         80499.288\n",
      "                                                                              \n",
      "==============================================================================\n",
      "                 coef    std err          z      P>|z|      [0.025      0.975]\n",
      "------------------------------------------------------------------------------\n",
      "const         43.8616      0.322    136.303      0.000      43.231      44.492\n",
      "==============================================================================\n",
      "Residuals Description:\n",
      "count    8.381000e+03\n",
      "mean    -1.752576e-14\n",
      "std      2.946146e+01\n",
      "min     -3.356163e+01\n",
      "25%     -2.426163e+01\n",
      "50%     -1.366163e+01\n",
      "75%      2.003837e+01\n",
      "max      1.014384e+02\n",
      "dtype: float64\n",
      "                              ARMA Model Results                              \n",
      "==============================================================================\n",
      "Dep. Variable:                  price   No. Observations:                 8381\n",
      "Model:                     ARMA(0, 1)   Log Likelihood              -34683.042\n",
      "Method:                       css-mle   S.D. of innovations             15.168\n",
      "Date:                Tue, 09 Apr 2019   AIC                          69372.085\n",
      "Time:                        19:59:32   BIC                          69393.186\n",
      "Sample:                             0   HQIC                         69379.291\n",
      "                                                                              \n",
      "===============================================================================\n",
      "                  coef    std err          z      P>|z|      [0.025      0.975]\n",
      "-------------------------------------------------------------------------------\n",
      "const          43.8614      0.327    134.322      0.000      43.221      44.501\n",
      "ma.L1.price     0.9710      0.002    507.786      0.000       0.967       0.975\n",
      "                                    Roots                                    \n",
      "=============================================================================\n",
      "                  Real          Imaginary           Modulus         Frequency\n",
      "-----------------------------------------------------------------------------\n",
      "MA.1           -1.0299           +0.0000j            1.0299            0.5000\n",
      "-----------------------------------------------------------------------------\n",
      "Residuals Description:\n",
      "count    8381.000000\n",
      "mean       -0.001253\n",
      "std        15.170507\n",
      "min       -18.808896\n",
      "25%       -12.324028\n",
      "50%        -6.933141\n",
      "75%        10.590790\n",
      "max        55.280298\n",
      "dtype: float64\n"
     ]
    },
    {
     "name": "stderr",
     "output_type": "stream",
     "text": [
      "c:\\users\\mewing_user\\appdata\\local\\programs\\python\\python37\\lib\\site-packages\\statsmodels\\tsa\\base\\tsa_model.py:225: ValueWarning: A date index has been provided, but it has no associated frequency information and so will be ignored when e.g. forecasting.\n",
      "  ' ignored when e.g. forecasting.', ValueWarning)\n"
     ]
    },
    {
     "name": "stdout",
     "output_type": "stream",
     "text": [
      "                              ARMA Model Results                              \n",
      "==============================================================================\n",
      "Dep. Variable:                  price   No. Observations:                 8381\n",
      "Model:                     ARMA(0, 2)   Log Likelihood              -30024.159\n",
      "Method:                       css-mle   S.D. of innovations              8.699\n",
      "Date:                Tue, 09 Apr 2019   AIC                          60056.318\n",
      "Time:                        19:59:33   BIC                          60084.452\n",
      "Sample:                             0   HQIC                         60065.925\n",
      "                                                                              \n",
      "===============================================================================\n",
      "                  coef    std err          z      P>|z|      [0.025      0.975]\n",
      "-------------------------------------------------------------------------------\n",
      "const          43.8616      0.341    128.735      0.000      43.194      44.529\n",
      "ma.L1.price     1.6848      0.005    329.644      0.000       1.675       1.695\n",
      "ma.L2.price     0.9014      0.004    248.450      0.000       0.894       0.908\n",
      "                                    Roots                                    \n",
      "=============================================================================\n",
      "                  Real          Imaginary           Modulus         Frequency\n",
      "-----------------------------------------------------------------------------\n",
      "MA.1           -0.9346           -0.4858j            1.0533           -0.4237\n",
      "MA.2           -0.9346           +0.4858j            1.0533            0.4237\n",
      "-----------------------------------------------------------------------------\n",
      "Residuals Description:\n",
      "count    8381.000000\n",
      "mean       -0.001531\n",
      "std         8.701837\n",
      "min       -20.238667\n",
      "25%        -6.861362\n",
      "50%        -3.843060\n",
      "75%         5.819228\n",
      "max        39.586032\n",
      "dtype: float64\n"
     ]
    },
    {
     "name": "stderr",
     "output_type": "stream",
     "text": [
      "c:\\users\\mewing_user\\appdata\\local\\programs\\python\\python37\\lib\\site-packages\\statsmodels\\tsa\\base\\tsa_model.py:225: ValueWarning: A date index has been provided, but it has no associated frequency information and so will be ignored when e.g. forecasting.\n",
      "  ' ignored when e.g. forecasting.', ValueWarning)\n"
     ]
    },
    {
     "name": "stdout",
     "output_type": "stream",
     "text": [
      "                              ARMA Model Results                              \n",
      "==============================================================================\n",
      "Dep. Variable:                  price   No. Observations:                 8381\n",
      "Model:                     ARMA(1, 0)   Log Likelihood              -13040.360\n",
      "Method:                       css-mle   S.D. of innovations              1.146\n",
      "Date:                Tue, 09 Apr 2019   AIC                          26086.720\n",
      "Time:                        19:59:33   BIC                          26107.822\n",
      "Sample:                             0   HQIC                         26093.926\n",
      "                                                                              \n",
      "===============================================================================\n",
      "                  coef    std err          z      P>|z|      [0.025      0.975]\n",
      "-------------------------------------------------------------------------------\n",
      "const          43.7961     13.403      3.268      0.001      17.528      70.065\n",
      "ar.L1.price     0.9992      0.000   2502.484      0.000       0.998       1.000\n",
      "                                    Roots                                    \n",
      "=============================================================================\n",
      "                  Real          Imaginary           Modulus         Frequency\n",
      "-----------------------------------------------------------------------------\n",
      "AR.1            1.0008           +0.0000j            1.0008            0.0000\n",
      "-----------------------------------------------------------------------------\n",
      "Residuals Description:\n",
      "count    8381.000000\n",
      "mean        0.002177\n",
      "std         1.163537\n",
      "min       -18.196073\n",
      "25%        -0.413489\n",
      "50%        -0.015628\n",
      "75%         0.413002\n",
      "max        18.549611\n",
      "dtype: float64\n",
      "                             ARIMA Model Results                              \n",
      "==============================================================================\n",
      "Dep. Variable:                D.price   No. Observations:                 8380\n",
      "Model:                 ARIMA(1, 1, 0)   Log Likelihood              -13028.996\n",
      "Method:                       css-mle   S.D. of innovations              1.145\n",
      "Date:                Tue, 09 Apr 2019   AIC                          26063.993\n",
      "Time:                        19:59:33   BIC                          26085.094\n",
      "Sample:                             1   HQIC                         26071.198\n",
      "                                                                              \n",
      "=================================================================================\n",
      "                    coef    std err          z      P>|z|      [0.025      0.975]\n",
      "---------------------------------------------------------------------------------\n",
      "const             0.0043      0.012      0.358      0.720      -0.019       0.028\n",
      "ar.L1.D.price    -0.0448      0.011     -4.105      0.000      -0.066      -0.023\n",
      "                                    Roots                                    \n",
      "=============================================================================\n",
      "                  Real          Imaginary           Modulus         Frequency\n",
      "-----------------------------------------------------------------------------\n",
      "AR.1          -22.3220           +0.0000j           22.3220            0.5000\n",
      "-----------------------------------------------------------------------------\n",
      "Residuals Description:\n",
      "count    8380.000000\n",
      "mean        0.000002\n",
      "std         1.145560\n",
      "min       -13.875698\n",
      "25%        -0.399999\n",
      "50%         0.004481\n",
      "75%         0.417921\n",
      "max        18.791194\n",
      "dtype: float64\n"
     ]
    },
    {
     "name": "stderr",
     "output_type": "stream",
     "text": [
      "c:\\users\\mewing_user\\appdata\\local\\programs\\python\\python37\\lib\\site-packages\\statsmodels\\tsa\\base\\tsa_model.py:225: ValueWarning: A date index has been provided, but it has no associated frequency information and so will be ignored when e.g. forecasting.\n",
      "  ' ignored when e.g. forecasting.', ValueWarning)\n",
      "c:\\users\\mewing_user\\appdata\\local\\programs\\python\\python37\\lib\\site-packages\\statsmodels\\tsa\\base\\tsa_model.py:225: ValueWarning: A date index has been provided, but it has no associated frequency information and so will be ignored when e.g. forecasting.\n",
      "  ' ignored when e.g. forecasting.', ValueWarning)\n",
      "c:\\users\\mewing_user\\appdata\\local\\programs\\python\\python37\\lib\\site-packages\\statsmodels\\tsa\\base\\tsa_model.py:225: ValueWarning: A date index has been provided, but it has no associated frequency information and so will be ignored when e.g. forecasting.\n",
      "  ' ignored when e.g. forecasting.', ValueWarning)\n",
      "c:\\users\\mewing_user\\appdata\\local\\programs\\python\\python37\\lib\\site-packages\\statsmodels\\tsa\\base\\tsa_model.py:225: ValueWarning: A date index has been provided, but it has no associated frequency information and so will be ignored when e.g. forecasting.\n",
      "  ' ignored when e.g. forecasting.', ValueWarning)\n"
     ]
    },
    {
     "name": "stdout",
     "output_type": "stream",
     "text": [
      "                             ARIMA Model Results                              \n",
      "==============================================================================\n",
      "Dep. Variable:                D.price   No. Observations:                 8380\n",
      "Model:                 ARIMA(0, 1, 2)   Log Likelihood              -13026.502\n",
      "Method:                       css-mle   S.D. of innovations              1.145\n",
      "Date:                Tue, 09 Apr 2019   AIC                          26061.005\n",
      "Time:                        19:59:33   BIC                          26089.139\n",
      "Sample:                             1   HQIC                         26070.612\n",
      "                                                                              \n",
      "=================================================================================\n",
      "                    coef    std err          z      P>|z|      [0.025      0.975]\n",
      "---------------------------------------------------------------------------------\n",
      "const             0.0043      0.012      0.367      0.714      -0.019       0.027\n",
      "ma.L1.D.price    -0.0454      0.011     -4.153      0.000      -0.067      -0.024\n",
      "ma.L2.D.price    -0.0217      0.011     -2.032      0.042      -0.043      -0.001\n",
      "                                    Roots                                    \n",
      "=============================================================================\n",
      "                  Real          Imaginary           Modulus         Frequency\n",
      "-----------------------------------------------------------------------------\n",
      "MA.1            5.8177           +0.0000j            5.8177            0.0000\n",
      "MA.2           -7.9042           +0.0000j            7.9042            0.5000\n",
      "-----------------------------------------------------------------------------\n",
      "Residuals Description:\n",
      "count    8380.000000\n",
      "mean        0.000005\n",
      "std         1.145219\n",
      "min       -13.704641\n",
      "25%        -0.399110\n",
      "50%         0.006138\n",
      "75%         0.421358\n",
      "max        18.806590\n",
      "dtype: float64\n"
     ]
    },
    {
     "name": "stderr",
     "output_type": "stream",
     "text": [
      "c:\\users\\mewing_user\\appdata\\local\\programs\\python\\python37\\lib\\site-packages\\statsmodels\\tsa\\base\\tsa_model.py:225: ValueWarning: A date index has been provided, but it has no associated frequency information and so will be ignored when e.g. forecasting.\n",
      "  ' ignored when e.g. forecasting.', ValueWarning)\n",
      "c:\\users\\mewing_user\\appdata\\local\\programs\\python\\python37\\lib\\site-packages\\statsmodels\\tsa\\base\\tsa_model.py:225: ValueWarning: A date index has been provided, but it has no associated frequency information and so will be ignored when e.g. forecasting.\n",
      "  ' ignored when e.g. forecasting.', ValueWarning)\n"
     ]
    },
    {
     "name": "stdout",
     "output_type": "stream",
     "text": [
      "                             ARIMA Model Results                              \n",
      "==============================================================================\n",
      "Dep. Variable:               D2.price   No. Observations:                 8379\n",
      "Model:                 ARIMA(0, 2, 1)   Log Likelihood              -13040.876\n",
      "Method:                       css-mle   S.D. of innovations              1.147\n",
      "Date:                Tue, 09 Apr 2019   AIC                          26087.751\n",
      "Time:                        19:59:35   BIC                          26108.852\n",
      "Sample:                             2   HQIC                         26094.957\n",
      "                                                                              \n",
      "==================================================================================\n",
      "                     coef    std err          z      P>|z|      [0.025      0.975]\n",
      "----------------------------------------------------------------------------------\n",
      "const          -4.727e-08   5.18e-06     -0.009      0.993   -1.02e-05    1.01e-05\n",
      "ma.L1.D2.price    -1.0000      0.000  -2892.334      0.000      -1.001      -0.999\n",
      "                                    Roots                                    \n",
      "=============================================================================\n",
      "                  Real          Imaginary           Modulus         Frequency\n",
      "-----------------------------------------------------------------------------\n",
      "MA.1            1.0000           +0.0000j            1.0000            0.0000\n",
      "-----------------------------------------------------------------------------\n",
      "Residuals Description:\n",
      "count    8379.000000\n",
      "mean        0.006656\n",
      "std         1.147020\n",
      "min       -14.716831\n",
      "25%        -0.397751\n",
      "50%         0.004158\n",
      "75%         0.406622\n",
      "max        18.486405\n",
      "dtype: float64\n"
     ]
    },
    {
     "name": "stderr",
     "output_type": "stream",
     "text": [
      "c:\\users\\mewing_user\\appdata\\local\\programs\\python\\python37\\lib\\site-packages\\statsmodels\\tsa\\base\\tsa_model.py:225: ValueWarning: A date index has been provided, but it has no associated frequency information and so will be ignored when e.g. forecasting.\n",
      "  ' ignored when e.g. forecasting.', ValueWarning)\n"
     ]
    },
    {
     "name": "stdout",
     "output_type": "stream",
     "text": [
      "                              ARMA Model Results                              \n",
      "==============================================================================\n",
      "Dep. Variable:                  price   No. Observations:                 8381\n",
      "Model:                     ARMA(1, 2)   Log Likelihood              -13029.662\n",
      "Method:                       css-mle   S.D. of innovations              1.145\n",
      "Date:                Tue, 09 Apr 2019   AIC                          26069.325\n",
      "Time:                        19:59:37   BIC                          26104.494\n",
      "Sample:                             0   HQIC                         26081.335\n",
      "                                                                              \n",
      "===============================================================================\n",
      "                  coef    std err          z      P>|z|      [0.025      0.975]\n",
      "-------------------------------------------------------------------------------\n",
      "const          43.7926     14.005      3.127      0.002      16.343      71.242\n",
      "ar.L1.price     0.9993      0.000   2699.643      0.000       0.999       1.000\n",
      "ma.L1.price    -0.0450      0.011     -4.119      0.000      -0.066      -0.024\n",
      "ma.L2.price    -0.0214      0.011     -2.002      0.045      -0.042      -0.000\n",
      "                                    Roots                                    \n",
      "=============================================================================\n",
      "                  Real          Imaginary           Modulus         Frequency\n",
      "-----------------------------------------------------------------------------\n",
      "AR.1            1.0007           +0.0000j            1.0007            0.0000\n",
      "MA.1            5.8611           +0.0000j            5.8611            0.0000\n",
      "MA.2           -7.9630           +0.0000j            7.9630            0.5000\n",
      "-----------------------------------------------------------------------------\n",
      "Residuals Description:\n",
      "count    8381.000000\n",
      "mean        0.002467\n",
      "std         1.162089\n",
      "min       -18.192576\n",
      "25%        -0.403599\n",
      "50%        -0.003412\n",
      "75%         0.425315\n",
      "max        18.855074\n",
      "dtype: float64\n",
      "                             ARIMA Model Results                              \n",
      "==============================================================================\n",
      "Dep. Variable:               D2.price   No. Observations:                 8379\n",
      "Model:                 ARIMA(1, 2, 0)   Log Likelihood              -14861.717\n",
      "Method:                       css-mle   S.D. of innovations              1.426\n",
      "Date:                Tue, 09 Apr 2019   AIC                          29729.435\n",
      "Time:                        19:59:38   BIC                          29750.535\n",
      "Sample:                             2   HQIC                         29736.641\n",
      "                                                                              \n",
      "==================================================================================\n",
      "                     coef    std err          z      P>|z|      [0.025      0.975]\n",
      "----------------------------------------------------------------------------------\n",
      "const           9.516e-05      0.010      0.009      0.993      -0.020       0.020\n",
      "ar.L1.D2.price    -0.5099      0.009    -54.269      0.000      -0.528      -0.492\n",
      "                                    Roots                                    \n",
      "=============================================================================\n",
      "                  Real          Imaginary           Modulus         Frequency\n",
      "-----------------------------------------------------------------------------\n",
      "AR.1           -1.9611           +0.0000j            1.9611            0.5000\n",
      "-----------------------------------------------------------------------------\n",
      "Residuals Description:\n",
      "count    8379.000000\n",
      "mean        0.000006\n",
      "std         1.425881\n",
      "min       -27.132057\n",
      "25%        -0.512740\n",
      "50%        -0.002128\n",
      "75%         0.505810\n",
      "max        15.214358\n",
      "dtype: float64\n"
     ]
    },
    {
     "name": "stderr",
     "output_type": "stream",
     "text": [
      "c:\\users\\mewing_user\\appdata\\local\\programs\\python\\python37\\lib\\site-packages\\statsmodels\\tsa\\base\\tsa_model.py:225: ValueWarning: A date index has been provided, but it has no associated frequency information and so will be ignored when e.g. forecasting.\n",
      "  ' ignored when e.g. forecasting.', ValueWarning)\n",
      "c:\\users\\mewing_user\\appdata\\local\\programs\\python\\python37\\lib\\site-packages\\statsmodels\\tsa\\base\\tsa_model.py:225: ValueWarning: A date index has been provided, but it has no associated frequency information and so will be ignored when e.g. forecasting.\n",
      "  ' ignored when e.g. forecasting.', ValueWarning)\n",
      "c:\\users\\mewing_user\\appdata\\local\\programs\\python\\python37\\lib\\site-packages\\statsmodels\\tsa\\base\\tsa_model.py:225: ValueWarning: A date index has been provided, but it has no associated frequency information and so will be ignored when e.g. forecasting.\n",
      "  ' ignored when e.g. forecasting.', ValueWarning)\n"
     ]
    },
    {
     "name": "stdout",
     "output_type": "stream",
     "text": [
      "                              ARMA Model Results                              \n",
      "==============================================================================\n",
      "Dep. Variable:                  price   No. Observations:                 8381\n",
      "Model:                     ARMA(2, 1)   Log Likelihood              -13030.558\n",
      "Method:                       css-mle   S.D. of innovations              1.145\n",
      "Date:                Tue, 09 Apr 2019   AIC                          26071.116\n",
      "Time:                        19:59:39   BIC                          26106.284\n",
      "Sample:                             0   HQIC                         26083.125\n",
      "                                                                              \n",
      "===============================================================================\n",
      "                  coef    std err          z      P>|z|      [0.025      0.975]\n",
      "-------------------------------------------------------------------------------\n",
      "const          43.7682     13.964      3.134      0.002      16.399      71.138\n",
      "ar.L1.price     1.2415      0.040     30.876      0.000       1.163       1.320\n",
      "ar.L2.price    -0.2420      0.040     -6.024      0.000      -0.321      -0.163\n",
      "ma.L1.price    -0.2892      0.041     -7.069      0.000      -0.369      -0.209\n",
      "                                    Roots                                    \n",
      "=============================================================================\n",
      "                  Real          Imaginary           Modulus         Frequency\n",
      "-----------------------------------------------------------------------------\n",
      "AR.1            1.0007           +0.0000j            1.0007            0.0000\n",
      "AR.2            4.1289           +0.0000j            4.1289            0.0000\n",
      "MA.1            3.4577           +0.0000j            3.4577            0.0000\n",
      "-----------------------------------------------------------------------------\n",
      "Residuals Description:\n",
      "count    8381.000000\n",
      "mean        0.002469\n",
      "std         1.162165\n",
      "min       -18.168247\n",
      "25%        -0.404905\n",
      "50%        -0.004166\n",
      "75%         0.426645\n",
      "max        18.874977\n",
      "dtype: float64\n",
      "                             ARIMA Model Results                              \n",
      "==============================================================================\n",
      "Dep. Variable:                D.price   No. Observations:                 8380\n",
      "Model:                 ARIMA(2, 1, 0)   Log Likelihood              -13026.152\n",
      "Method:                       css-mle   S.D. of innovations              1.145\n",
      "Date:                Tue, 09 Apr 2019   AIC                          26060.305\n",
      "Time:                        19:59:40   BIC                          26088.439\n",
      "Sample:                             1   HQIC                         26069.912\n",
      "                                                                              \n",
      "=================================================================================\n",
      "                    coef    std err          z      P>|z|      [0.025      0.975]\n",
      "---------------------------------------------------------------------------------\n",
      "const             0.0043      0.012      0.367      0.714      -0.019       0.027\n",
      "ar.L1.D.price    -0.0460      0.011     -4.209      0.000      -0.067      -0.025\n",
      "ar.L2.D.price    -0.0260      0.011     -2.385      0.017      -0.047      -0.005\n",
      "                                    Roots                                    \n",
      "=============================================================================\n",
      "                  Real          Imaginary           Modulus         Frequency\n",
      "-----------------------------------------------------------------------------\n",
      "AR.1           -0.8823           -6.1327j            6.1958           -0.2727\n",
      "AR.2           -0.8823           +6.1327j            6.1958            0.2727\n",
      "-----------------------------------------------------------------------------\n",
      "Residuals Description:\n",
      "count    8380.000000\n",
      "mean        0.000005\n",
      "std         1.145172\n",
      "min       -13.682220\n",
      "25%        -0.398349\n",
      "50%         0.006600\n",
      "75%         0.422383\n",
      "max        18.801419\n",
      "dtype: float64\n"
     ]
    },
    {
     "name": "stderr",
     "output_type": "stream",
     "text": [
      "c:\\users\\mewing_user\\appdata\\local\\programs\\python\\python37\\lib\\site-packages\\statsmodels\\tsa\\base\\tsa_model.py:225: ValueWarning: A date index has been provided, but it has no associated frequency information and so will be ignored when e.g. forecasting.\n",
      "  ' ignored when e.g. forecasting.', ValueWarning)\n",
      "c:\\users\\mewing_user\\appdata\\local\\programs\\python\\python37\\lib\\site-packages\\statsmodels\\tsa\\base\\tsa_model.py:225: ValueWarning: A date index has been provided, but it has no associated frequency information and so will be ignored when e.g. forecasting.\n",
      "  ' ignored when e.g. forecasting.', ValueWarning)\n"
     ]
    }
   ],
   "source": [
    "import itertools\n",
    "\n",
    "##itertools.permutations##\n",
    "##itertools.combinations##\n",
    "\n",
    "run_arima(0, 0, 0, df.price)\n",
    "run_arima(0, 0, 1, df.price)\n",
    "run_arima(0, 0, 2, df.price)\n",
    "run_arima(1, 0, 0, df.price)\n",
    "run_arima(1, 1, 0, df.price)\n",
    "\n",
    "run_arima(0, 1, 2, df.price)\n",
    "run_arima(0, 2, 1, df.price)\n",
    "run_arima(1, 0, 2, df.price)\n",
    "run_arima(1, 2, 0, df.price)\n",
    "run_arima(2, 0, 1, df.price)\n",
    "run_arima(2, 1, 0, df.price)"
   ]
  },
  {
   "cell_type": "code",
   "execution_count": 47,
   "metadata": {},
   "outputs": [
    {
     "name": "stdout",
     "output_type": "stream",
     "text": [
      "[(0, 1, 2), (0, 2, 1), (1, 0, 2), (1, 2, 0), (2, 0, 1), (2, 1, 0)]\n",
      "[(0, 1, 2)]\n"
     ]
    }
   ],
   "source": [
    "import itertools\n",
    "print(list(itertools.permutations([0, 1, 2], 3)))\n",
    "print(list(itertools.combinations([0, 1, 2], 3)))"
   ]
  },
  {
   "cell_type": "code",
   "execution_count": 39,
   "metadata": {},
   "outputs": [
    {
     "name": "stdout",
     "output_type": "stream",
     "text": [
      "                             ARIMA Model Results                              \n",
      "==============================================================================\n",
      "Dep. Variable:                D.price   No. Observations:                 8380\n",
      "Model:                 ARIMA(0, 1, 0)   Log Likelihood              -13037.413\n",
      "Method:                           css   S.D. of innovations              1.147\n",
      "Date:                Tue, 09 Apr 2019   AIC                          26078.827\n",
      "Time:                        19:54:57   BIC                          26092.894\n",
      "Sample:                             1   HQIC                         26083.630\n",
      "                                                                              \n",
      "==============================================================================\n",
      "                 coef    std err          z      P>|z|      [0.025      0.975]\n",
      "------------------------------------------------------------------------------\n",
      "const          0.0043      0.013      0.343      0.732      -0.020       0.029\n",
      "==============================================================================\n",
      "Residuals Description\n",
      "count    8.380000e+03\n",
      "mean     6.910418e-13\n",
      "std      1.146712e+00\n",
      "min     -1.470430e+01\n",
      "25%     -4.042959e-01\n",
      "50%     -4.295943e-03\n",
      "75%      3.957041e-01\n",
      "max      1.849570e+01\n",
      "dtype: float64\n"
     ]
    },
    {
     "name": "stderr",
     "output_type": "stream",
     "text": [
      "c:\\users\\mewing_user\\appdata\\local\\programs\\python\\python37\\lib\\site-packages\\statsmodels\\tsa\\base\\tsa_model.py:225: ValueWarning: A date index has been provided, but it has no associated frequency information and so will be ignored when e.g. forecasting.\n",
      "  ' ignored when e.g. forecasting.', ValueWarning)\n",
      "c:\\users\\mewing_user\\appdata\\local\\programs\\python\\python37\\lib\\site-packages\\statsmodels\\tsa\\base\\tsa_model.py:225: ValueWarning: A date index has been provided, but it has no associated frequency information and so will be ignored when e.g. forecasting.\n",
      "  ' ignored when e.g. forecasting.', ValueWarning)\n",
      "c:\\users\\mewing_user\\appdata\\local\\programs\\python\\python37\\lib\\site-packages\\scipy\\signal\\signaltools.py:1341: FutureWarning: Using a non-tuple sequence for multidimensional indexing is deprecated; use `arr[tuple(seq)]` instead of `arr[seq]`. In the future this will be interpreted as an array index, `arr[np.array(seq)]`, which will result either in an error or a different result.\n",
      "  out_full[ind] += zi\n",
      "c:\\users\\mewing_user\\appdata\\local\\programs\\python\\python37\\lib\\site-packages\\scipy\\signal\\signaltools.py:1344: FutureWarning: Using a non-tuple sequence for multidimensional indexing is deprecated; use `arr[tuple(seq)]` instead of `arr[seq]`. In the future this will be interpreted as an array index, `arr[np.array(seq)]`, which will result either in an error or a different result.\n",
      "  out = out_full[ind]\n",
      "c:\\users\\mewing_user\\appdata\\local\\programs\\python\\python37\\lib\\site-packages\\scipy\\signal\\signaltools.py:1350: FutureWarning: Using a non-tuple sequence for multidimensional indexing is deprecated; use `arr[tuple(seq)]` instead of `arr[seq]`. In the future this will be interpreted as an array index, `arr[np.array(seq)]`, which will result either in an error or a different result.\n",
      "  zf = out_full[ind]\n"
     ]
    }
   ],
   "source": [
    "from statsmodels.tsa.arima_model import ARIMA\n",
    "model = ARIMA(df.price, order=(0, 1, 0))\n",
    "model_fit = model.fit()\n",
    "print(model_fit.summary())\n",
    "print('Residuals Description')\n",
    "print(model_fit.resid.describe())"
   ]
  },
  {
   "cell_type": "code",
   "execution_count": null,
   "metadata": {},
   "outputs": [],
   "source": []
  }
 ],
 "metadata": {
  "kernelspec": {
   "display_name": "Python 3",
   "language": "python",
   "name": "python3"
  },
  "language_info": {
   "codemirror_mode": {
    "name": "ipython",
    "version": 3
   },
   "file_extension": ".py",
   "mimetype": "text/x-python",
   "name": "python",
   "nbconvert_exporter": "python",
   "pygments_lexer": "ipython3",
   "version": "3.7.0"
  }
 },
 "nbformat": 4,
 "nbformat_minor": 2
}
