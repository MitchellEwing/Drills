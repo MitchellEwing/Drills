{
 "cells": [
  {
   "cell_type": "markdown",
   "metadata": {},
   "source": [
    "# DRILL: Implement a Binary Tree\n",
    "\n",
    "Fill with 15 pieces of random data. <br>\n",
    "Then write a program to traverse the tree using a breadth first traversal. <br>\n",
    "**breadth first** - explore the full breadth of a layer, 1 layer at a time starting from the root. <br>\n",
    "\n",
    "Breadth first - ABCDEFG\n",
    "<br>\n",
    "Depth first - ABDECFG"
   ]
  },
  {
   "cell_type": "markdown",
   "metadata": {},
   "source": [
    "# Trees\n",
    "\n",
    "**Full Binary Tree** - all parent nodes have 2 children. The leaves don't all have to be in pairs and it can still be binary."
   ]
  },
  {
   "cell_type": "code",
   "execution_count": 1,
   "metadata": {},
   "outputs": [],
   "source": [
    "# Build the tree.\n",
    "class Node:\n",
    "    def __init__(self, val):\n",
    "        self.left = None\n",
    "        self.right = None\n",
    "        self.val = val\n",
    "    \n",
    "    def printNode(self):\n",
    "        print(self.val)"
   ]
  },
  {
   "cell_type": "code",
   "execution_count": 2,
   "metadata": {},
   "outputs": [],
   "source": [
    "# Establish the initial root node and children\n",
    "root = Node('A')\n",
    "root.left = Node('B')\n",
    "root.right = Node('C')\n",
    "\n",
    "# Add the appropriate children for ‘B’ and ‘C’\n",
    "root.left.left = Node('D')\n",
    "root.left.right = Node('E')\n",
    "root.right.left = Node('F')\n",
    "root.right.right = Node('G')\n",
    "\n",
    "root.left.left.left = Node('H')\n",
    "root.left.left.right = Node('I')\n",
    "root.left.right.left = Node('J')\n",
    "root.left.right.right = Node('K')\n",
    "\n",
    "root.right.left.left = Node('L')\n",
    "root.right.left.right = Node('M')\n",
    "root.right.right.left = Node('N')\n",
    "root.right.right.right = Node('O')"
   ]
  },
  {
   "cell_type": "code",
   "execution_count": 3,
   "metadata": {},
   "outputs": [
    {
     "name": "stdout",
     "output_type": "stream",
     "text": [
      "A\n"
     ]
    }
   ],
   "source": [
    "root.printNode()"
   ]
  },
  {
   "cell_type": "code",
   "execution_count": 4,
   "metadata": {},
   "outputs": [
    {
     "name": "stdout",
     "output_type": "stream",
     "text": [
      "A\n",
      "B\n",
      "C\n",
      "D\n",
      "E\n",
      "F\n",
      "G\n",
      "H\n",
      "I\n",
      "J\n",
      "K\n",
      "L\n",
      "M\n",
      "N\n",
      "O\n"
     ]
    }
   ],
   "source": [
    "# Breadth First (FIFO)\n",
    "def fifo(node):\n",
    "    nodesList = []\n",
    "    nodesList.append(node)\n",
    "    while len(nodesList) > 0:\n",
    "        cur_node = nodesList[0]\n",
    "        print(cur_node.val)\n",
    "        if cur_node.left != None:\n",
    "            nodesList.append(cur_node.left)\n",
    "        if cur_node.right != None:\n",
    "            nodesList.append(cur_node.right)\n",
    "        nodesList = nodesList[1:]\n",
    "\n",
    "# View.\n",
    "fifo(root)"
   ]
  },
  {
   "cell_type": "code",
   "execution_count": 5,
   "metadata": {},
   "outputs": [
    {
     "name": "stdout",
     "output_type": "stream",
     "text": [
      "A\n",
      "B\n",
      "D\n",
      "H\n",
      "I\n",
      "E\n",
      "J\n",
      "K\n",
      "C\n",
      "F\n",
      "L\n",
      "M\n",
      "G\n",
      "N\n",
      "O\n"
     ]
    }
   ],
   "source": [
    "# Depth First (LIFO)\n",
    "def lifo(node):\n",
    "    nodesList = []\n",
    "    nodesList.append(node)\n",
    "    cur_node = nodesList[0]\n",
    "    while len(nodesList) > 0:\n",
    "        print(cur_node.val)\n",
    "        if cur_node.right != None:\n",
    "            nodesList.append(cur_node.right)\n",
    "        if cur_node.left !=None:\n",
    "            nodesList.append(cur_node.left) \n",
    "        cur_node = nodesList[-1]\n",
    "        nodesList = nodesList[:-1]\n",
    "\n",
    "# View.\n",
    "lifo(root)"
   ]
  },
  {
   "cell_type": "code",
   "execution_count": null,
   "metadata": {},
   "outputs": [],
   "source": []
  }
 ],
 "metadata": {
  "kernelspec": {
   "display_name": "Python 3",
   "language": "python",
   "name": "python3"
  },
  "language_info": {
   "codemirror_mode": {
    "name": "ipython",
    "version": 3
   },
   "file_extension": ".py",
   "mimetype": "text/x-python",
   "name": "python",
   "nbconvert_exporter": "python",
   "pygments_lexer": "ipython3",
   "version": "3.7.0"
  }
 },
 "nbformat": 4,
 "nbformat_minor": 2
}
