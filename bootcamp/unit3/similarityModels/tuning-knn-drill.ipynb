{
 "cells": [
  {
   "cell_type": "markdown",
   "metadata": {},
   "source": [
    "# DRILL:\n",
    "\n",
    "Let's say we work at a credit card company and we're trying to figure out if people are going to pay their bills on time. We have everyone's purchases, split into 4 main categories: groceries, dining out, utilities, and entertainment. What are some ways you might use KNN to create this model? What aspects of KNN would be useful? Write up your thoughts and submit a link below.\n",
    "\n",
    "For creating our model, we can add in a binary variable (1/0) for on-time bill payment. Each of the 4 spending categories can be treated as a feature and amount spent/billed in each cateogory as dimension. "
   ]
  },
  {
   "cell_type": "code",
   "execution_count": 6,
   "metadata": {},
   "outputs": [
    {
     "data": {
      "text/html": [
       "<div>\n",
       "<style scoped>\n",
       "    .dataframe tbody tr th:only-of-type {\n",
       "        vertical-align: middle;\n",
       "    }\n",
       "\n",
       "    .dataframe tbody tr th {\n",
       "        vertical-align: top;\n",
       "    }\n",
       "\n",
       "    .dataframe thead th {\n",
       "        text-align: right;\n",
       "    }\n",
       "</style>\n",
       "<table border=\"1\" class=\"dataframe\">\n",
       "  <thead>\n",
       "    <tr style=\"text-align: right;\">\n",
       "      <th></th>\n",
       "      <th>default</th>\n",
       "      <th>groceries</th>\n",
       "      <th>dining_out</th>\n",
       "      <th>utilities</th>\n",
       "      <th>entertainment</th>\n",
       "    </tr>\n",
       "  </thead>\n",
       "  <tbody>\n",
       "    <tr>\n",
       "      <th>0</th>\n",
       "      <td>0</td>\n",
       "      <td>8</td>\n",
       "      <td>6</td>\n",
       "      <td>2</td>\n",
       "      <td>4</td>\n",
       "    </tr>\n",
       "    <tr>\n",
       "      <th>1</th>\n",
       "      <td>0</td>\n",
       "      <td>9</td>\n",
       "      <td>7</td>\n",
       "      <td>3</td>\n",
       "      <td>5</td>\n",
       "    </tr>\n",
       "    <tr>\n",
       "      <th>2</th>\n",
       "      <td>0</td>\n",
       "      <td>9</td>\n",
       "      <td>7</td>\n",
       "      <td>3</td>\n",
       "      <td>5</td>\n",
       "    </tr>\n",
       "    <tr>\n",
       "      <th>3</th>\n",
       "      <td>1</td>\n",
       "      <td>4</td>\n",
       "      <td>9</td>\n",
       "      <td>2</td>\n",
       "      <td>7</td>\n",
       "    </tr>\n",
       "    <tr>\n",
       "      <th>4</th>\n",
       "      <td>1</td>\n",
       "      <td>5</td>\n",
       "      <td>10</td>\n",
       "      <td>3</td>\n",
       "      <td>8</td>\n",
       "    </tr>\n",
       "    <tr>\n",
       "      <th>5</th>\n",
       "      <td>1</td>\n",
       "      <td>5</td>\n",
       "      <td>10</td>\n",
       "      <td>3</td>\n",
       "      <td>8</td>\n",
       "    </tr>\n",
       "  </tbody>\n",
       "</table>\n",
       "</div>"
      ],
      "text/plain": [
       "   default  groceries  dining_out  utilities  entertainment\n",
       "0        0          8           6          2              4\n",
       "1        0          9           7          3              5\n",
       "2        0          9           7          3              5\n",
       "3        1          4           9          2              7\n",
       "4        1          5          10          3              8\n",
       "5        1          5          10          3              8"
      ]
     },
     "execution_count": 6,
     "metadata": {},
     "output_type": "execute_result"
    }
   ],
   "source": [
    "import numpy as np\n",
    "import pandas as pd\n",
    "import matplotlib.pyplot as plt\n",
    "import scipy\n",
    "from sklearn.neighbors import KNeighborsClassifier\n",
    "from scipy import stats\n",
    "%matplotlib inline\n",
    "\n",
    "# Sample data\n",
    "credit = pd.DataFrame()\n",
    "credit['default'] = [0, 0, 0, 1, 1, 1] #1 indicating customer defaulted\n",
    "credit['groceries'] = [8, 9, 9, 4, 5, 5]\n",
    "credit['dining_out'] = [6, 7, 7, 9, 10, 10]\n",
    "credit['utilities'] = [2, 3, 3, 2, 3, 3]\n",
    "credit['entertainment'] = [4, 5, 5, 7, 8, 8]\n",
    "credit.head(6)"
   ]
  },
  {
   "cell_type": "code",
   "execution_count": 12,
   "metadata": {},
   "outputs": [
    {
     "data": {
      "text/plain": [
       "array([0], dtype=int64)"
      ]
     },
     "execution_count": 12,
     "metadata": {},
     "output_type": "execute_result"
    }
   ],
   "source": [
    "neighbors = KNeighborsClassifier(n_neighbors=3)\n",
    "X = credit[['groceries', 'dining_out', 'utilities', 'entertainment']]\n",
    "Y = credit.default\n",
    "neighbors.fit(X, Y)\n",
    "\n",
    "# Predict for a customer default with:\n",
    "#    groceries: 6\n",
    "#    dining_out: 8\n",
    "#    utilities: 3\n",
    "#    entertainment: 6\n",
    "\n",
    "neighbors.predict([[6, 7, 3, 6]])    "
   ]
  },
  {
   "cell_type": "markdown",
   "metadata": {},
   "source": [
    "We can customize our dimensions as such:"
   ]
  },
  {
   "cell_type": "code",
   "execution_count": 17,
   "metadata": {},
   "outputs": [
    {
     "name": "stdout",
     "output_type": "stream",
     "text": [
      "[0]\n",
      "[1]\n",
      "[0]\n"
     ]
    }
   ],
   "source": [
    "neighbors = KNeighborsClassifier(n_neighbors=3)\n",
    "X = credit[['groceries', 'dining_out']]\n",
    "Y = credit.default\n",
    "neighbors.fit(X, Y)\n",
    "print(neighbors.predict([[6, 7]]))\n",
    "\n",
    "X = credit[['utilities', 'entertainment']]\n",
    "neighbors.fit(X, Y)\n",
    "print(neighbors.predict([[6, 7]]))\n",
    "\n",
    "X = credit[['groceries', 'dining_out', 'entertainment']]\n",
    "neighbors.fit(X, Y)\n",
    "print(neighbors.predict([[6, 7, 6]]))"
   ]
  },
  {
   "cell_type": "markdown",
   "metadata": {},
   "source": [
    "We can group groceries & dining_out spending to a \"food\" dimension:"
   ]
  },
  {
   "cell_type": "code",
   "execution_count": 25,
   "metadata": {},
   "outputs": [],
   "source": [
    "credit['food'] = credit.apply(lambda row:\n",
    "                              row.groceries + row.dining_out, axis=1)"
   ]
  },
  {
   "cell_type": "code",
   "execution_count": 26,
   "metadata": {},
   "outputs": [
    {
     "name": "stdout",
     "output_type": "stream",
     "text": [
      "[1]\n"
     ]
    }
   ],
   "source": [
    "X = credit[['utilities', 'entertainment', 'food']]\n",
    "neighbors.fit(X, Y)\n",
    "print(neighbors.predict([[6, 7, 15]]))"
   ]
  },
  {
   "cell_type": "markdown",
   "metadata": {},
   "source": [
    "Additionally, we could look into customer income and create dimensions of spending category as a % of total income. KNN is useful as we are able to explicitly view the decision point as to whether the customer will default or not."
   ]
  },
  {
   "cell_type": "code",
   "execution_count": null,
   "metadata": {},
   "outputs": [],
   "source": []
  }
 ],
 "metadata": {
  "kernelspec": {
   "display_name": "Python 3",
   "language": "python",
   "name": "python3"
  },
  "language_info": {
   "codemirror_mode": {
    "name": "ipython",
    "version": 3
   },
   "file_extension": ".py",
   "mimetype": "text/x-python",
   "name": "python",
   "nbconvert_exporter": "python",
   "pygments_lexer": "ipython3",
   "version": "3.7.0"
  }
 },
 "nbformat": 4,
 "nbformat_minor": 2
}
