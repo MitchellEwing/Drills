{
 "cells": [
  {
   "cell_type": "markdown",
   "metadata": {},
   "source": [
    "# Comparing KNN to OLS Regression\n",
    "\n",
    "Find a dataset and build a KNN regression and an OLS regression. Compare the two. How similar are they? Do they miss in different ways? At the end in a markdown cell write a few paragraphs to describe the models' behaviors and why you favor one model or the other. Try to determine whether there is a situation where you would change your mind, or whether one is unambiguously better than the other. Lastly, try to note what it is about the data that causes the better model to outperform the weaker model.\n",
    "\n",
    "[Data](https://archive.ics.uci.edu/ml/datasets/Stock+portfolio+performance#)"
   ]
  },
  {
   "cell_type": "code",
   "execution_count": 44,
   "metadata": {},
   "outputs": [],
   "source": [
    "# Import modules.\n",
    "\n",
    "import numpy as np\n",
    "import pandas as pd\n",
    "import matplotlib.pyplot as plt\n",
    "import seaborn as sns\n",
    "import scipy\n",
    "from scipy import stats\n",
    "from sklearn import neighbors\n",
    "from sklearn.neighbors import KNeighborsClassifier\n",
    "from sklearn.model_selection import cross_val_score\n",
    "from sklearn.model_selection import train_test_split\n",
    "from sklearn import linear_model\n",
    "\n",
    "# Set aesthetics\n",
    "%matplotlib inline\n",
    "sns.set_style('white')\n",
    "from matplotlib.colors import ListedColormap\n",
    "cmap_light = ListedColormap(['#FFAAAA', '#AAFFAA', '#AAAAFF'])\n",
    "cmap_bold = ListedColormap(['#FF0000', '#00FF00', '#0000FF'])"
   ]
  },
  {
   "cell_type": "code",
   "execution_count": 45,
   "metadata": {},
   "outputs": [
    {
     "name": "stdout",
     "output_type": "stream",
     "text": [
      "(63, 19)\n"
     ]
    },
    {
     "data": {
      "text/html": [
       "<div>\n",
       "<style scoped>\n",
       "    .dataframe tbody tr th:only-of-type {\n",
       "        vertical-align: middle;\n",
       "    }\n",
       "\n",
       "    .dataframe tbody tr th {\n",
       "        vertical-align: top;\n",
       "    }\n",
       "\n",
       "    .dataframe thead th {\n",
       "        text-align: right;\n",
       "    }\n",
       "</style>\n",
       "<table border=\"1\" class=\"dataframe\">\n",
       "  <thead>\n",
       "    <tr style=\"text-align: right;\">\n",
       "      <th></th>\n",
       "      <th>ID</th>\n",
       "      <th>Large B/P</th>\n",
       "      <th>Large ROE</th>\n",
       "      <th>Large S/P</th>\n",
       "      <th>Large Return Rate in the last quarter</th>\n",
       "      <th>Large Market Value</th>\n",
       "      <th>Small systematic Risk</th>\n",
       "      <th>Annual Return</th>\n",
       "      <th>Excess Return</th>\n",
       "      <th>Systematic Risk</th>\n",
       "      <th>Total Risk</th>\n",
       "      <th>Abs. Win Rate</th>\n",
       "      <th>Rel. Win Rate</th>\n",
       "      <th>Annual Return.1</th>\n",
       "      <th>Excess Return.1</th>\n",
       "      <th>Systematic Risk.1</th>\n",
       "      <th>Total Risk.1</th>\n",
       "      <th>Abs. Win Rate.1</th>\n",
       "      <th>Rel. Win Rate.1</th>\n",
       "    </tr>\n",
       "  </thead>\n",
       "  <tbody>\n",
       "    <tr>\n",
       "      <th>0</th>\n",
       "      <td>1</td>\n",
       "      <td>1.0</td>\n",
       "      <td>0.0</td>\n",
       "      <td>0.0</td>\n",
       "      <td>0.0</td>\n",
       "      <td>0.0</td>\n",
       "      <td>0.0</td>\n",
       "      <td>0.139</td>\n",
       "      <td>0.010</td>\n",
       "      <td>1.33</td>\n",
       "      <td>0.149</td>\n",
       "      <td>0.663</td>\n",
       "      <td>0.525</td>\n",
       "      <td>0.531875</td>\n",
       "      <td>0.478116</td>\n",
       "      <td>0.738015</td>\n",
       "      <td>0.800000</td>\n",
       "      <td>0.52</td>\n",
       "      <td>0.411765</td>\n",
       "    </tr>\n",
       "    <tr>\n",
       "      <th>1</th>\n",
       "      <td>2</td>\n",
       "      <td>0.0</td>\n",
       "      <td>1.0</td>\n",
       "      <td>0.0</td>\n",
       "      <td>0.0</td>\n",
       "      <td>0.0</td>\n",
       "      <td>0.0</td>\n",
       "      <td>0.143</td>\n",
       "      <td>0.010</td>\n",
       "      <td>1.17</td>\n",
       "      <td>0.108</td>\n",
       "      <td>0.663</td>\n",
       "      <td>0.650</td>\n",
       "      <td>0.549712</td>\n",
       "      <td>0.487595</td>\n",
       "      <td>0.571579</td>\n",
       "      <td>0.412231</td>\n",
       "      <td>0.52</td>\n",
       "      <td>0.764706</td>\n",
       "    </tr>\n",
       "    <tr>\n",
       "      <th>2</th>\n",
       "      <td>3</td>\n",
       "      <td>0.0</td>\n",
       "      <td>0.0</td>\n",
       "      <td>1.0</td>\n",
       "      <td>0.0</td>\n",
       "      <td>0.0</td>\n",
       "      <td>0.0</td>\n",
       "      <td>0.173</td>\n",
       "      <td>0.018</td>\n",
       "      <td>1.30</td>\n",
       "      <td>0.144</td>\n",
       "      <td>0.638</td>\n",
       "      <td>0.513</td>\n",
       "      <td>0.692625</td>\n",
       "      <td>0.629895</td>\n",
       "      <td>0.703051</td>\n",
       "      <td>0.756879</td>\n",
       "      <td>0.44</td>\n",
       "      <td>0.376471</td>\n",
       "    </tr>\n",
       "    <tr>\n",
       "      <th>3</th>\n",
       "      <td>4</td>\n",
       "      <td>0.0</td>\n",
       "      <td>0.0</td>\n",
       "      <td>0.0</td>\n",
       "      <td>1.0</td>\n",
       "      <td>0.0</td>\n",
       "      <td>0.0</td>\n",
       "      <td>0.096</td>\n",
       "      <td>-0.002</td>\n",
       "      <td>1.39</td>\n",
       "      <td>0.144</td>\n",
       "      <td>0.613</td>\n",
       "      <td>0.475</td>\n",
       "      <td>0.324351</td>\n",
       "      <td>0.255634</td>\n",
       "      <td>0.800000</td>\n",
       "      <td>0.756046</td>\n",
       "      <td>0.36</td>\n",
       "      <td>0.270588</td>\n",
       "    </tr>\n",
       "    <tr>\n",
       "      <th>4</th>\n",
       "      <td>5</td>\n",
       "      <td>0.0</td>\n",
       "      <td>0.0</td>\n",
       "      <td>0.0</td>\n",
       "      <td>0.0</td>\n",
       "      <td>1.0</td>\n",
       "      <td>0.0</td>\n",
       "      <td>0.096</td>\n",
       "      <td>0.001</td>\n",
       "      <td>1.04</td>\n",
       "      <td>0.087</td>\n",
       "      <td>0.725</td>\n",
       "      <td>0.538</td>\n",
       "      <td>0.326615</td>\n",
       "      <td>0.306501</td>\n",
       "      <td>0.432452</td>\n",
       "      <td>0.209289</td>\n",
       "      <td>0.72</td>\n",
       "      <td>0.447059</td>\n",
       "    </tr>\n",
       "  </tbody>\n",
       "</table>\n",
       "</div>"
      ],
      "text/plain": [
       "   ID   Large B/P    Large ROE    Large S/P   \\\n",
       "0   1          1.0          0.0          0.0   \n",
       "1   2          0.0          1.0          0.0   \n",
       "2   3          0.0          0.0          1.0   \n",
       "3   4          0.0          0.0          0.0   \n",
       "4   5          0.0          0.0          0.0   \n",
       "\n",
       "    Large Return Rate in the last quarter    Large Market Value   \\\n",
       "0                                      0.0                   0.0   \n",
       "1                                      0.0                   0.0   \n",
       "2                                      0.0                   0.0   \n",
       "3                                      1.0                   0.0   \n",
       "4                                      0.0                   1.0   \n",
       "\n",
       "    Small systematic Risk  Annual Return  Excess Return  Systematic Risk  \\\n",
       "0                     0.0          0.139          0.010             1.33   \n",
       "1                     0.0          0.143          0.010             1.17   \n",
       "2                     0.0          0.173          0.018             1.30   \n",
       "3                     0.0          0.096         -0.002             1.39   \n",
       "4                     0.0          0.096          0.001             1.04   \n",
       "\n",
       "   Total Risk  Abs. Win Rate  Rel. Win Rate  Annual Return.1  Excess Return.1  \\\n",
       "0       0.149          0.663          0.525         0.531875         0.478116   \n",
       "1       0.108          0.663          0.650         0.549712         0.487595   \n",
       "2       0.144          0.638          0.513         0.692625         0.629895   \n",
       "3       0.144          0.613          0.475         0.324351         0.255634   \n",
       "4       0.087          0.725          0.538         0.326615         0.306501   \n",
       "\n",
       "   Systematic Risk.1  Total Risk.1  Abs. Win Rate.1  Rel. Win Rate.1  \n",
       "0           0.738015      0.800000             0.52         0.411765  \n",
       "1           0.571579      0.412231             0.52         0.764706  \n",
       "2           0.703051      0.756879             0.44         0.376471  \n",
       "3           0.800000      0.756046             0.36         0.270588  \n",
       "4           0.432452      0.209289             0.72         0.447059  "
      ]
     },
     "execution_count": 45,
     "metadata": {},
     "output_type": "execute_result"
    }
   ],
   "source": [
    "data = pd.read_csv('~/src/data/unit3/portfolio-performance-20-years.csv')\n",
    "print(data.shape)\n",
    "data.head()"
   ]
  },
  {
   "cell_type": "code",
   "execution_count": 46,
   "metadata": {},
   "outputs": [
    {
     "data": {
      "text/plain": [
       "Index(['ID', ' Large B/P ', ' Large ROE ', ' Large S/P ',\n",
       "       ' Large Return Rate in the last quarter ', ' Large Market Value ',\n",
       "       ' Small systematic Risk', 'Annual Return', 'Excess Return',\n",
       "       'Systematic Risk', 'Total Risk', 'Abs. Win Rate', 'Rel. Win Rate',\n",
       "       'Annual Return.1', 'Excess Return.1', 'Systematic Risk.1',\n",
       "       'Total Risk.1', 'Abs. Win Rate.1', 'Rel. Win Rate.1'],\n",
       "      dtype='object')"
      ]
     },
     "execution_count": 46,
     "metadata": {},
     "output_type": "execute_result"
    }
   ],
   "source": [
    "data.columns"
   ]
  },
  {
   "cell_type": "code",
   "execution_count": 47,
   "metadata": {},
   "outputs": [
    {
     "data": {
      "text/html": [
       "<div>\n",
       "<style scoped>\n",
       "    .dataframe tbody tr th:only-of-type {\n",
       "        vertical-align: middle;\n",
       "    }\n",
       "\n",
       "    .dataframe tbody tr th {\n",
       "        vertical-align: top;\n",
       "    }\n",
       "\n",
       "    .dataframe thead th {\n",
       "        text-align: right;\n",
       "    }\n",
       "</style>\n",
       "<table border=\"1\" class=\"dataframe\">\n",
       "  <thead>\n",
       "    <tr style=\"text-align: right;\">\n",
       "      <th></th>\n",
       "      <th>Large B/P</th>\n",
       "      <th>Large ROE</th>\n",
       "      <th>Large S/P</th>\n",
       "      <th>Large Return Rate in the last quarter</th>\n",
       "      <th>Large Market Value</th>\n",
       "      <th>Small systematic Risk</th>\n",
       "      <th>Annual Return.1</th>\n",
       "      <th>Excess Return.1</th>\n",
       "      <th>Systematic Risk.1</th>\n",
       "      <th>Total Risk.1</th>\n",
       "      <th>Abs. Win Rate.1</th>\n",
       "      <th>Rel. Win Rate.1</th>\n",
       "    </tr>\n",
       "  </thead>\n",
       "  <tbody>\n",
       "    <tr>\n",
       "      <th>0</th>\n",
       "      <td>1.0</td>\n",
       "      <td>0.0</td>\n",
       "      <td>0.0</td>\n",
       "      <td>0.0</td>\n",
       "      <td>0.0</td>\n",
       "      <td>0.0</td>\n",
       "      <td>0.531875</td>\n",
       "      <td>0.478116</td>\n",
       "      <td>0.738015</td>\n",
       "      <td>0.800000</td>\n",
       "      <td>0.52</td>\n",
       "      <td>0.411765</td>\n",
       "    </tr>\n",
       "    <tr>\n",
       "      <th>1</th>\n",
       "      <td>0.0</td>\n",
       "      <td>1.0</td>\n",
       "      <td>0.0</td>\n",
       "      <td>0.0</td>\n",
       "      <td>0.0</td>\n",
       "      <td>0.0</td>\n",
       "      <td>0.549712</td>\n",
       "      <td>0.487595</td>\n",
       "      <td>0.571579</td>\n",
       "      <td>0.412231</td>\n",
       "      <td>0.52</td>\n",
       "      <td>0.764706</td>\n",
       "    </tr>\n",
       "    <tr>\n",
       "      <th>2</th>\n",
       "      <td>0.0</td>\n",
       "      <td>0.0</td>\n",
       "      <td>1.0</td>\n",
       "      <td>0.0</td>\n",
       "      <td>0.0</td>\n",
       "      <td>0.0</td>\n",
       "      <td>0.692625</td>\n",
       "      <td>0.629895</td>\n",
       "      <td>0.703051</td>\n",
       "      <td>0.756879</td>\n",
       "      <td>0.44</td>\n",
       "      <td>0.376471</td>\n",
       "    </tr>\n",
       "    <tr>\n",
       "      <th>3</th>\n",
       "      <td>0.0</td>\n",
       "      <td>0.0</td>\n",
       "      <td>0.0</td>\n",
       "      <td>1.0</td>\n",
       "      <td>0.0</td>\n",
       "      <td>0.0</td>\n",
       "      <td>0.324351</td>\n",
       "      <td>0.255634</td>\n",
       "      <td>0.800000</td>\n",
       "      <td>0.756046</td>\n",
       "      <td>0.36</td>\n",
       "      <td>0.270588</td>\n",
       "    </tr>\n",
       "    <tr>\n",
       "      <th>4</th>\n",
       "      <td>0.0</td>\n",
       "      <td>0.0</td>\n",
       "      <td>0.0</td>\n",
       "      <td>0.0</td>\n",
       "      <td>1.0</td>\n",
       "      <td>0.0</td>\n",
       "      <td>0.326615</td>\n",
       "      <td>0.306501</td>\n",
       "      <td>0.432452</td>\n",
       "      <td>0.209289</td>\n",
       "      <td>0.72</td>\n",
       "      <td>0.447059</td>\n",
       "    </tr>\n",
       "  </tbody>\n",
       "</table>\n",
       "</div>"
      ],
      "text/plain": [
       "    Large B/P    Large ROE    Large S/P   \\\n",
       "0          1.0          0.0          0.0   \n",
       "1          0.0          1.0          0.0   \n",
       "2          0.0          0.0          1.0   \n",
       "3          0.0          0.0          0.0   \n",
       "4          0.0          0.0          0.0   \n",
       "\n",
       "    Large Return Rate in the last quarter    Large Market Value   \\\n",
       "0                                      0.0                   0.0   \n",
       "1                                      0.0                   0.0   \n",
       "2                                      0.0                   0.0   \n",
       "3                                      1.0                   0.0   \n",
       "4                                      0.0                   1.0   \n",
       "\n",
       "    Small systematic Risk  Annual Return.1  Excess Return.1  \\\n",
       "0                     0.0         0.531875         0.478116   \n",
       "1                     0.0         0.549712         0.487595   \n",
       "2                     0.0         0.692625         0.629895   \n",
       "3                     0.0         0.324351         0.255634   \n",
       "4                     0.0         0.326615         0.306501   \n",
       "\n",
       "   Systematic Risk.1  Total Risk.1  Abs. Win Rate.1  Rel. Win Rate.1  \n",
       "0           0.738015      0.800000             0.52         0.411765  \n",
       "1           0.571579      0.412231             0.52         0.764706  \n",
       "2           0.703051      0.756879             0.44         0.376471  \n",
       "3           0.800000      0.756046             0.36         0.270588  \n",
       "4           0.432452      0.209289             0.72         0.447059  "
      ]
     },
     "execution_count": 47,
     "metadata": {},
     "output_type": "execute_result"
    }
   ],
   "source": [
    "cols_to_drop = ['ID', 'Annual Return', 'Excess Return', 'Systematic Risk',\n",
    "                'Total Risk', 'Abs. Win Rate', 'Rel. Win Rate']\n",
    "df = data.drop(cols_to_drop, axis=1)\n",
    "df.head()"
   ]
  },
  {
   "cell_type": "code",
   "execution_count": 48,
   "metadata": {},
   "outputs": [
    {
     "data": {
      "text/plain": [
       "Index([' Large B/P ', ' Large ROE ', ' Large S/P ',\n",
       "       ' Large Return Rate in the last quarter ', ' Large Market Value ',\n",
       "       ' Small systematic Risk', 'Annual Return.1', 'Excess Return.1',\n",
       "       'Systematic Risk.1', 'Total Risk.1', 'Abs. Win Rate.1',\n",
       "       'Rel. Win Rate.1'],\n",
       "      dtype='object')"
      ]
     },
     "execution_count": 48,
     "metadata": {},
     "output_type": "execute_result"
    }
   ],
   "source": [
    "df.columns"
   ]
  },
  {
   "cell_type": "code",
   "execution_count": 49,
   "metadata": {},
   "outputs": [
    {
     "data": {
      "text/plain": [
       "Index(['LargeB/P', 'LargeROE', 'LargeS/P', 'LargeReturnRateinthelastquarter',\n",
       "       'LargeMarketValue', 'SmallsystematicRisk', 'AnnualReturn1',\n",
       "       'ExcessReturn1', 'SystematicRisk1', 'TotalRisk1', 'AbsWinRate1',\n",
       "       'RelWinRate1'],\n",
       "      dtype='object')"
      ]
     },
     "execution_count": 49,
     "metadata": {},
     "output_type": "execute_result"
    }
   ],
   "source": [
    "df.columns = df.columns.str.replace(' ', '')\n",
    "df.columns = df.columns.str.replace('.', '')\n",
    "df.columns"
   ]
  },
  {
   "cell_type": "code",
   "execution_count": 50,
   "metadata": {},
   "outputs": [
    {
     "name": "stdout",
     "output_type": "stream",
     "text": [
      "<class 'pandas.core.frame.DataFrame'>\n",
      "RangeIndex: 63 entries, 0 to 62\n",
      "Data columns (total 12 columns):\n",
      "LargeB/P                           63 non-null float64\n",
      "LargeROE                           63 non-null float64\n",
      "LargeS/P                           63 non-null float64\n",
      "LargeReturnRateinthelastquarter    63 non-null float64\n",
      "LargeMarketValue                   63 non-null float64\n",
      "SmallsystematicRisk                63 non-null float64\n",
      "AnnualReturn1                      63 non-null float64\n",
      "ExcessReturn1                      63 non-null float64\n",
      "SystematicRisk1                    63 non-null float64\n",
      "TotalRisk1                         63 non-null float64\n",
      "AbsWinRate1                        63 non-null float64\n",
      "RelWinRate1                        63 non-null float64\n",
      "dtypes: float64(12)\n",
      "memory usage: 6.0 KB\n"
     ]
    }
   ],
   "source": [
    "df.info()"
   ]
  },
  {
   "cell_type": "code",
   "execution_count": 51,
   "metadata": {},
   "outputs": [
    {
     "data": {
      "text/html": [
       "<div>\n",
       "<style scoped>\n",
       "    .dataframe tbody tr th:only-of-type {\n",
       "        vertical-align: middle;\n",
       "    }\n",
       "\n",
       "    .dataframe tbody tr th {\n",
       "        vertical-align: top;\n",
       "    }\n",
       "\n",
       "    .dataframe thead th {\n",
       "        text-align: right;\n",
       "    }\n",
       "</style>\n",
       "<table border=\"1\" class=\"dataframe\">\n",
       "  <thead>\n",
       "    <tr style=\"text-align: right;\">\n",
       "      <th></th>\n",
       "      <th>LargeB/P</th>\n",
       "      <th>LargeROE</th>\n",
       "      <th>LargeS/P</th>\n",
       "      <th>LargeReturnRateinthelastquarter</th>\n",
       "      <th>LargeMarketValue</th>\n",
       "      <th>SmallsystematicRisk</th>\n",
       "      <th>AnnualReturn1</th>\n",
       "      <th>ExcessReturn1</th>\n",
       "      <th>SystematicRisk1</th>\n",
       "      <th>TotalRisk1</th>\n",
       "      <th>AbsWinRate1</th>\n",
       "      <th>RelWinRate1</th>\n",
       "    </tr>\n",
       "  </thead>\n",
       "  <tbody>\n",
       "    <tr>\n",
       "      <th>count</th>\n",
       "      <td>63.000000</td>\n",
       "      <td>63.000000</td>\n",
       "      <td>63.000000</td>\n",
       "      <td>63.000000</td>\n",
       "      <td>63.000000</td>\n",
       "      <td>63.000000</td>\n",
       "      <td>63.000000</td>\n",
       "      <td>63.000000</td>\n",
       "      <td>63.000000</td>\n",
       "      <td>63.000000</td>\n",
       "      <td>63.000000</td>\n",
       "      <td>63.000000</td>\n",
       "    </tr>\n",
       "    <tr>\n",
       "      <th>mean</th>\n",
       "      <td>0.166619</td>\n",
       "      <td>0.166619</td>\n",
       "      <td>0.166619</td>\n",
       "      <td>0.166619</td>\n",
       "      <td>0.166619</td>\n",
       "      <td>0.166619</td>\n",
       "      <td>0.580151</td>\n",
       "      <td>0.576170</td>\n",
       "      <td>0.426494</td>\n",
       "      <td>0.391749</td>\n",
       "      <td>0.566984</td>\n",
       "      <td>0.547899</td>\n",
       "    </tr>\n",
       "    <tr>\n",
       "      <th>std</th>\n",
       "      <td>0.199304</td>\n",
       "      <td>0.199304</td>\n",
       "      <td>0.199304</td>\n",
       "      <td>0.199304</td>\n",
       "      <td>0.199304</td>\n",
       "      <td>0.199304</td>\n",
       "      <td>0.133358</td>\n",
       "      <td>0.137047</td>\n",
       "      <td>0.118178</td>\n",
       "      <td>0.136653</td>\n",
       "      <td>0.112803</td>\n",
       "      <td>0.159468</td>\n",
       "    </tr>\n",
       "    <tr>\n",
       "      <th>min</th>\n",
       "      <td>0.000000</td>\n",
       "      <td>0.000000</td>\n",
       "      <td>0.000000</td>\n",
       "      <td>0.000000</td>\n",
       "      <td>0.000000</td>\n",
       "      <td>0.000000</td>\n",
       "      <td>0.200000</td>\n",
       "      <td>0.200000</td>\n",
       "      <td>0.200000</td>\n",
       "      <td>0.200000</td>\n",
       "      <td>0.200000</td>\n",
       "      <td>0.200000</td>\n",
       "    </tr>\n",
       "    <tr>\n",
       "      <th>25%</th>\n",
       "      <td>0.000000</td>\n",
       "      <td>0.000000</td>\n",
       "      <td>0.000000</td>\n",
       "      <td>0.000000</td>\n",
       "      <td>0.000000</td>\n",
       "      <td>0.000000</td>\n",
       "      <td>0.525811</td>\n",
       "      <td>0.519093</td>\n",
       "      <td>0.358600</td>\n",
       "      <td>0.297324</td>\n",
       "      <td>0.520000</td>\n",
       "      <td>0.411765</td>\n",
       "    </tr>\n",
       "    <tr>\n",
       "      <th>50%</th>\n",
       "      <td>0.167000</td>\n",
       "      <td>0.167000</td>\n",
       "      <td>0.167000</td>\n",
       "      <td>0.167000</td>\n",
       "      <td>0.167000</td>\n",
       "      <td>0.167000</td>\n",
       "      <td>0.598516</td>\n",
       "      <td>0.587148</td>\n",
       "      <td>0.403418</td>\n",
       "      <td>0.368958</td>\n",
       "      <td>0.560000</td>\n",
       "      <td>0.552941</td>\n",
       "    </tr>\n",
       "    <tr>\n",
       "      <th>75%</th>\n",
       "      <td>0.291500</td>\n",
       "      <td>0.291500</td>\n",
       "      <td>0.291500</td>\n",
       "      <td>0.291500</td>\n",
       "      <td>0.291500</td>\n",
       "      <td>0.291500</td>\n",
       "      <td>0.679636</td>\n",
       "      <td>0.669294</td>\n",
       "      <td>0.470571</td>\n",
       "      <td>0.457749</td>\n",
       "      <td>0.640000</td>\n",
       "      <td>0.694118</td>\n",
       "    </tr>\n",
       "    <tr>\n",
       "      <th>max</th>\n",
       "      <td>1.000000</td>\n",
       "      <td>1.000000</td>\n",
       "      <td>1.000000</td>\n",
       "      <td>1.000000</td>\n",
       "      <td>1.000000</td>\n",
       "      <td>1.000000</td>\n",
       "      <td>0.800000</td>\n",
       "      <td>0.800000</td>\n",
       "      <td>0.800000</td>\n",
       "      <td>0.800000</td>\n",
       "      <td>0.800000</td>\n",
       "      <td>0.800000</td>\n",
       "    </tr>\n",
       "  </tbody>\n",
       "</table>\n",
       "</div>"
      ],
      "text/plain": [
       "        LargeB/P   LargeROE   LargeS/P  LargeReturnRateinthelastquarter  \\\n",
       "count  63.000000  63.000000  63.000000                        63.000000   \n",
       "mean    0.166619   0.166619   0.166619                         0.166619   \n",
       "std     0.199304   0.199304   0.199304                         0.199304   \n",
       "min     0.000000   0.000000   0.000000                         0.000000   \n",
       "25%     0.000000   0.000000   0.000000                         0.000000   \n",
       "50%     0.167000   0.167000   0.167000                         0.167000   \n",
       "75%     0.291500   0.291500   0.291500                         0.291500   \n",
       "max     1.000000   1.000000   1.000000                         1.000000   \n",
       "\n",
       "       LargeMarketValue  SmallsystematicRisk  AnnualReturn1  ExcessReturn1  \\\n",
       "count         63.000000            63.000000      63.000000      63.000000   \n",
       "mean           0.166619             0.166619       0.580151       0.576170   \n",
       "std            0.199304             0.199304       0.133358       0.137047   \n",
       "min            0.000000             0.000000       0.200000       0.200000   \n",
       "25%            0.000000             0.000000       0.525811       0.519093   \n",
       "50%            0.167000             0.167000       0.598516       0.587148   \n",
       "75%            0.291500             0.291500       0.679636       0.669294   \n",
       "max            1.000000             1.000000       0.800000       0.800000   \n",
       "\n",
       "       SystematicRisk1  TotalRisk1  AbsWinRate1  RelWinRate1  \n",
       "count        63.000000   63.000000    63.000000    63.000000  \n",
       "mean          0.426494    0.391749     0.566984     0.547899  \n",
       "std           0.118178    0.136653     0.112803     0.159468  \n",
       "min           0.200000    0.200000     0.200000     0.200000  \n",
       "25%           0.358600    0.297324     0.520000     0.411765  \n",
       "50%           0.403418    0.368958     0.560000     0.552941  \n",
       "75%           0.470571    0.457749     0.640000     0.694118  \n",
       "max           0.800000    0.800000     0.800000     0.800000  "
      ]
     },
     "execution_count": 51,
     "metadata": {},
     "output_type": "execute_result"
    }
   ],
   "source": [
    "df.describe()"
   ]
  },
  {
   "cell_type": "markdown",
   "metadata": {},
   "source": [
    "## OLS regression"
   ]
  },
  {
   "cell_type": "code",
   "execution_count": 52,
   "metadata": {},
   "outputs": [],
   "source": [
    "X_train, X_test, Y_train, Y_test = train_test_split(\n",
    "    df.iloc[:, 7:10], df.RelWinRate1, test_size=0.4, random_state=0)"
   ]
  },
  {
   "cell_type": "code",
   "execution_count": 53,
   "metadata": {},
   "outputs": [
    {
     "name": "stdout",
     "output_type": "stream",
     "text": [
      "Coefficients \n",
      " [ 1.09572552  1.7667181  -1.76172071]\n",
      "Intercept \n",
      " -0.13275753893278064\n",
      "R-squared \n",
      " 0.7516929257632667\n"
     ]
    }
   ],
   "source": [
    "regr = linear_model.LinearRegression()\n",
    "#Y = df['RelWinRate1'].values.reshape(-1, 1)\n",
    "#X = df[['ExcessReturn1', 'SystematicRisk1', 'TotalRisk1']]\n",
    "regr.fit(X_train, Y_train)\n",
    "\n",
    "# Inspect the results.\n",
    "print('Coefficients \\n', regr.coef_)\n",
    "print('Intercept \\n', regr.intercept_)\n",
    "print('R-squared \\n', regr.score(X_train, Y_train))"
   ]
  },
  {
   "cell_type": "code",
   "execution_count": 54,
   "metadata": {},
   "outputs": [
    {
     "name": "stdout",
     "output_type": "stream",
     "text": [
      "OLS Accuracy: 0.62 (+/- 0.28)\n"
     ]
    }
   ],
   "source": [
    "score = cross_val_score(regr, X_train, Y_train, cv=5)\n",
    "print(\"OLS Accuracy: %0.2f (+/- %0.2f)\" % (score.mean(), score.std() * 2))"
   ]
  },
  {
   "cell_type": "code",
   "execution_count": 55,
   "metadata": {},
   "outputs": [],
   "source": [
    "predicted = regr.predict(X_test).ravel()\n",
    "actual = Y_test\n",
    "residual = actual - predicted"
   ]
  },
  {
   "cell_type": "code",
   "execution_count": 56,
   "metadata": {},
   "outputs": [
    {
     "data": {
      "image/png": "[encoded data removed]",
      "text/plain": [
       "<Figure size 432x288 with 1 Axes>"
      ]
     },
     "metadata": {},
     "output_type": "display_data"
    },
    {
     "data": {
      "image/png": "[encoded data removed]",
      "text/plain": [
       "<Figure size 432x288 with 1 Axes>"
      ]
     },
     "metadata": {},
     "output_type": "display_data"
    }
   ],
   "source": [
    "plt.hist(residual)\n",
    "plt.title('Residual counts')\n",
    "plt.xlabel('Residual')\n",
    "plt.ylabel('Count')\n",
    "plt.show()\n",
    "\n",
    "plt.scatter(predicted, residual)\n",
    "plt.xlabel('Predicted')\n",
    "plt.ylabel('Residual')\n",
    "plt.axhline(y=0)\n",
    "plt.title('Residual vs. Predicted')\n",
    "plt.show()"
   ]
  },
  {
   "cell_type": "markdown",
   "metadata": {},
   "source": [
    "## KNN Regression"
   ]
  },
  {
   "cell_type": "code",
   "execution_count": 57,
   "metadata": {},
   "outputs": [],
   "source": [
    "knn = neighbors.KNeighborsRegressor(n_neighbors=5)"
   ]
  },
  {
   "cell_type": "code",
   "execution_count": 58,
   "metadata": {},
   "outputs": [
    {
     "data": {
      "text/plain": [
       "KNeighborsRegressor(algorithm='auto', leaf_size=30, metric='minkowski',\n",
       "          metric_params=None, n_jobs=1, n_neighbors=5, p=2,\n",
       "          weights='uniform')"
      ]
     },
     "execution_count": 58,
     "metadata": {},
     "output_type": "execute_result"
    }
   ],
   "source": [
    "knn.fit(X_train, Y_train)"
   ]
  },
  {
   "cell_type": "code",
   "execution_count": 59,
   "metadata": {},
   "outputs": [
    {
     "name": "stdout",
     "output_type": "stream",
     "text": [
      "Unweighted Accuracy: 0.13 (+/- 0.61)\n"
     ]
    }
   ],
   "source": [
    "score = cross_val_score(knn, X_train, Y_train, cv=5)\n",
    "print(\"Unweighted Accuracy: %0.2f (+/- %0.2f)\" % (score.mean(), score.std() * 2))"
   ]
  },
  {
   "cell_type": "code",
   "execution_count": 60,
   "metadata": {},
   "outputs": [
    {
     "name": "stdout",
     "output_type": "stream",
     "text": [
      "\n",
      "R-squared:\n",
      "0.6242858852960241\n"
     ]
    }
   ],
   "source": [
    "print('\\nR-squared:')\n",
    "print(knn.score(X_train, Y_train))"
   ]
  },
  {
   "cell_type": "code",
   "execution_count": 61,
   "metadata": {},
   "outputs": [],
   "source": [
    "predicted = knn.predict(X_test).ravel()\n",
    "actual = Y_test"
   ]
  },
  {
   "cell_type": "code",
   "execution_count": 62,
   "metadata": {},
   "outputs": [],
   "source": [
    "residual = actual - predicted"
   ]
  },
  {
   "cell_type": "code",
   "execution_count": 63,
   "metadata": {},
   "outputs": [
    {
     "data": {
      "image/png": "[encoded data removed]",
      "text/plain": [
       "<Figure size 432x288 with 1 Axes>"
      ]
     },
     "metadata": {},
     "output_type": "display_data"
    },
    {
     "data": {
      "image/png": "[encoded data removed]",
      "text/plain": [
       "<Figure size 432x288 with 1 Axes>"
      ]
     },
     "metadata": {},
     "output_type": "display_data"
    }
   ],
   "source": [
    "plt.hist(residual)\n",
    "plt.title('Residual counts')\n",
    "plt.xlabel('Residual')\n",
    "plt.ylabel('Count')\n",
    "plt.show()\n",
    "\n",
    "plt.scatter(predicted, residual)\n",
    "plt.xlabel('Predicted')\n",
    "plt.ylabel('Residual')\n",
    "plt.axhline(y=0)\n",
    "plt.title('Residual vs. Predicted')\n",
    "plt.show()"
   ]
  },
  {
   "cell_type": "code",
   "execution_count": null,
   "metadata": {},
   "outputs": [],
   "source": []
  },
  {
   "cell_type": "code",
   "execution_count": null,
   "metadata": {},
   "outputs": [],
   "source": []
  },
  {
   "cell_type": "code",
   "execution_count": null,
   "metadata": {},
   "outputs": [],
   "source": []
  },
  {
   "cell_type": "code",
   "execution_count": null,
   "metadata": {},
   "outputs": [],
   "source": []
  }
 ],
 "metadata": {
  "kernelspec": {
   "display_name": "Python 3",
   "language": "python",
   "name": "python3"
  },
  "language_info": {
   "codemirror_mode": {
    "name": "ipython",
    "version": 3
   },
   "file_extension": ".py",
   "mimetype": "text/x-python",
   "name": "python",
   "nbconvert_exporter": "python",
   "pygments_lexer": "ipython3",
   "version": "3.7.0"
  }
 },
 "nbformat": 4,
 "nbformat_minor": 2
}
