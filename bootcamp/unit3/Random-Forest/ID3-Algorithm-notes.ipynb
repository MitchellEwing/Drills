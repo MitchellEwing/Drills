{
 "cells": [
  {
   "cell_type": "code",
   "execution_count": 1,
   "metadata": {},
   "outputs": [],
   "source": [
    "from math import log2\n",
    "\n",
    "boys = 12\n",
    "boys_t = 4\n",
    "boys_m = 6\n",
    "boys_s = 2\n",
    "\n",
    "girls = 8\n",
    "girls_t = 1\n",
    "girls_m = 2\n",
    "girls_s = 5\n",
    "\n",
    "boys_not_m = boys_t + boys_s\n",
    "boys_not_t = boys_m + boys_s\n",
    "\n",
    "girls_not_m = girls_t + girls_s\n",
    "girls_not_t = girls_m + girls_s\n",
    "\n",
    "all_t = boys_t + girls_t\n",
    "all_m = boys_m + girls_m\n",
    "\n",
    "all_not_t = boys_m + boys_s + girls_m + girls_s\n",
    "all_not_m = boys_t + boys_s + girls_t + girls_s\n",
    "\n",
    "total = boys + girls"
   ]
  },
  {
   "cell_type": "code",
   "execution_count": 2,
   "metadata": {},
   "outputs": [
    {
     "data": {
      "text/plain": [
       "0.9280757477080679"
      ]
     },
     "execution_count": 2,
     "metadata": {},
     "output_type": "execute_result"
    }
   ],
   "source": [
    "# Rule: Height = Tall\n",
    "\n",
    "htall = boys_t/all_t * log2(all_t/boys_t) + girls_t/all_t * log2(all_t/girls_t)\n",
    "hnottall = boys_not_t/all_not_t * log2(all_not_t/boys_not_t) + girls_not_t/all_not_t * log2(all_not_t/girls_not_t)\n",
    "H_Tall = all_t/total * htall + all_not_t/total * hnottall\n",
    "H_Tall"
   ]
  },
  {
   "cell_type": "code",
   "execution_count": 3,
   "metadata": {},
   "outputs": [
    {
     "data": {
      "text/plain": [
       "0.9245112497836531"
      ]
     },
     "execution_count": 3,
     "metadata": {},
     "output_type": "execute_result"
    }
   ],
   "source": [
    "# Rule: Height = Medium\n",
    "hmed = boys_m/all_m * log2(all_m/boys_m) + girls_m/all_m * log2(all_m/girls_m)\n",
    "hnotmed = boys_not_m/all_not_m * log2(all_not_m/boys_not_m) + girls_not_m/all_not_m * log2(all_not_m/girls_not_m)\n",
    "H_Med = all_m/total * hmed + all_not_m/total * hnotmed\n",
    "H_Med"
   ]
  },
  {
   "cell_type": "code",
   "execution_count": null,
   "metadata": {},
   "outputs": [],
   "source": []
  }
 ],
 "metadata": {
  "kernelspec": {
   "display_name": "Python 3",
   "language": "python",
   "name": "python3"
  },
  "language_info": {
   "codemirror_mode": {
    "name": "ipython",
    "version": 3
   },
   "file_extension": ".py",
   "mimetype": "text/x-python",
   "name": "python",
   "nbconvert_exporter": "python",
   "pygments_lexer": "ipython3",
   "version": "3.7.0"
  }
 },
 "nbformat": 4,
 "nbformat_minor": 2
}
