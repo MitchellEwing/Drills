{
 "cells": [
  {
   "cell_type": "markdown",
   "metadata": {},
   "source": [
    "# Iterate & Evaluate Classifier"
   ]
  },
  {
   "cell_type": "code",
   "execution_count": 125,
   "metadata": {},
   "outputs": [],
   "source": [
    "# Load modules.\n",
    "\n",
    "%matplotlib inline\n",
    "import pandas as pd\n",
    "import numpy as np\n",
    "import matplotlib.pyplot as plt\n",
    "import math\n",
    "import seaborn as sns\n",
    "import scipy\n",
    "import sklearn\n",
    "from sklearn.metrics import confusion_matrix\n",
    "from sklearn.model_selection import cross_val_score\n",
    "from sklearn.metrics import accuracy_score"
   ]
  },
  {
   "cell_type": "code",
   "execution_count": 126,
   "metadata": {},
   "outputs": [
    {
     "name": "stdout",
     "output_type": "stream",
     "text": [
      "(1000, 2)\n"
     ]
    },
    {
     "data": {
      "text/html": [
       "<div>\n",
       "<style scoped>\n",
       "    .dataframe tbody tr th:only-of-type {\n",
       "        vertical-align: middle;\n",
       "    }\n",
       "\n",
       "    .dataframe tbody tr th {\n",
       "        vertical-align: top;\n",
       "    }\n",
       "\n",
       "    .dataframe thead th {\n",
       "        text-align: right;\n",
       "    }\n",
       "</style>\n",
       "<table border=\"1\" class=\"dataframe\">\n",
       "  <thead>\n",
       "    <tr style=\"text-align: right;\">\n",
       "      <th></th>\n",
       "      <th>comment</th>\n",
       "      <th>sentiment_score</th>\n",
       "    </tr>\n",
       "  </thead>\n",
       "  <tbody>\n",
       "    <tr>\n",
       "      <th>0</th>\n",
       "      <td>So there is no way for me to plug it in here i...</td>\n",
       "      <td>0</td>\n",
       "    </tr>\n",
       "    <tr>\n",
       "      <th>1</th>\n",
       "      <td>Good case, Excellent value.</td>\n",
       "      <td>1</td>\n",
       "    </tr>\n",
       "    <tr>\n",
       "      <th>2</th>\n",
       "      <td>Great for the jawbone.</td>\n",
       "      <td>1</td>\n",
       "    </tr>\n",
       "    <tr>\n",
       "      <th>3</th>\n",
       "      <td>Tied to charger for conversations lasting more...</td>\n",
       "      <td>0</td>\n",
       "    </tr>\n",
       "    <tr>\n",
       "      <th>4</th>\n",
       "      <td>The mic is great.</td>\n",
       "      <td>1</td>\n",
       "    </tr>\n",
       "  </tbody>\n",
       "</table>\n",
       "</div>"
      ],
      "text/plain": [
       "                                             comment  sentiment_score\n",
       "0  So there is no way for me to plug it in here i...                0\n",
       "1                        Good case, Excellent value.                1\n",
       "2                             Great for the jawbone.                1\n",
       "3  Tied to charger for conversations lasting more...                0\n",
       "4                                  The mic is great.                1"
      ]
     },
     "execution_count": 126,
     "metadata": {},
     "output_type": "execute_result"
    }
   ],
   "source": [
    "# Load data.\n",
    "\n",
    "amazon = pd.read_table('~/src/data/feedbackAnalysis/amazon_cells_labelled.txt', header=None)\n",
    "amazon.columns = ['comment', 'sentiment_score']\n",
    "print(amazon.shape)\n",
    "amazon.head()"
   ]
  },
  {
   "cell_type": "markdown",
   "metadata": {},
   "source": [
    "# Keywords Classifier:"
   ]
  },
  {
   "cell_type": "code",
   "execution_count": 127,
   "metadata": {},
   "outputs": [],
   "source": [
    "# 18 positive\n",
    "keywords1 = ['great', 'good', 'really good', 'love', 'loved', 'excellent', 'best', 'strong',\n",
    "            'wonderful', 'new', 'right', 'beautiful', 'pleased', 'tremendous', 'awesome',\n",
    "            'incredible', 'brilliant', 'impressed']\n",
    "\n",
    "# 18 negative\n",
    "keywords2 = ['bad', 'terrible', 'horrible', 'hate', 'not', 'poor', 'disappointed', 'awful',\n",
    "             'slow', 'below', 'under', 'lack', 'broken', 'waste', 'junk', 'dirty',\n",
    "             'worst', 'issues']\n",
    "\n",
    "# 1st 9 positive, 1st 9 negative\n",
    "keywords3 = ['great', 'good', 'really good', 'love', 'loved', 'excellent', 'best', 'strong',\n",
    "            'wonderful', 'bad', 'terrible', 'horrible', 'hate', 'not', 'poor', 'disappointed',\n",
    "             'awful', 'slow']\n",
    "\n",
    "# 2nd 9 positive, 2nd 9 negative\n",
    "keywords4 = ['new', 'right', 'beautiful', 'pleased', 'tremendous', 'awesome', 'incredible',\n",
    "             'brilliant', 'impressed', 'below', 'under', 'lack', 'broken', 'waste', 'junk',\n",
    "             'dirty', 'worst', 'issues']\n",
    "\n",
    "# hand-picked 9pos 9neg\n",
    "keywords5 = ['great', 'good', 'love', 'excellent', 'best', 'awesome', 'incredible', 'beautiful',\n",
    "             'new', 'bad', 'issues', 'worst', 'broken', 'poor', 'horrible', 'terrible',\n",
    "             'disappointed', 'broken']"
   ]
  },
  {
   "cell_type": "code",
   "execution_count": 128,
   "metadata": {},
   "outputs": [],
   "source": [
    "keywords = keywords5"
   ]
  },
  {
   "cell_type": "markdown",
   "metadata": {},
   "source": [
    "# Run the Model:"
   ]
  },
  {
   "cell_type": "code",
   "execution_count": 129,
   "metadata": {},
   "outputs": [
    {
     "data": {
      "image/png": "[encoded data removed]",
      "text/plain": [
       "<Figure size 720x432 with 2 Axes>"
      ]
     },
     "metadata": {},
     "output_type": "display_data"
    }
   ],
   "source": [
    "# Adding boolean columns for our keywords to dataframe.\n",
    "for key in keywords:\n",
    "    amazon[str(key)] = amazon.comment.str.contains('' + str(key) + '', case=False)\n",
    "\n",
    "# Turn sentiment_score column into boolean. \n",
    "amazon['sentiment_score'] = (amazon['sentiment_score'] == 1)\n",
    "\n",
    "# Creating a correlation heatmap.\n",
    "sns.set(style='white')\n",
    "plt.figure(figsize=(10, 6))\n",
    "sns.heatmap(amazon.corr(), linewidths=.1, cmap='Blues')\n",
    "\n",
    "# Lower correlation between the variables, will use Naive Bayes Classifier Model.\n",
    "data = amazon[keywords]\n",
    "target = amazon['sentiment_score']\n",
    "\n",
    "# Boolean data, importing Bernoulli classifier.\n",
    "from sklearn.naive_bayes import BernoulliNB\n",
    "bnb = BernoulliNB()\n",
    "bnb.fit(data, target)\n",
    "y_pred = bnb.predict(data)\n",
    "\n",
    "# Calculating Sensitivity & Specificity.\n",
    "confmatrix = confusion_matrix(target, y_pred)\n",
    "sensativityVal = 100*confmatrix[1, 1] / (confmatrix[1, 1] + confmatrix[1, 0])\n",
    "specificityVal = 100*confmatrix[0, 0] / (confmatrix[0, 0] + confmatrix[0, 1])"
   ]
  },
  {
   "cell_type": "markdown",
   "metadata": {},
   "source": [
    "# Model Result:"
   ]
  },
  {
   "cell_type": "code",
   "execution_count": 130,
   "metadata": {},
   "outputs": [
    {
     "name": "stdout",
     "output_type": "stream",
     "text": [
      "Bernoulli Classifier Model Accuracy:  0.701\n",
      "Confusion Matrix:\n",
      "[[471  29]\n",
      " [270 230]]\n",
      "Sensitivity - The percentage of positives correctly identified:  46.0 %\n",
      "Specificity - The percentage of negatives correctly identified:  94.2 %\n",
      "Cross-Validation Accuracy Scores:  [0.76 0.73 0.78 0.71 0.7  0.68 0.64 0.69 0.71 0.61]\n"
     ]
    }
   ],
   "source": [
    "print('Bernoulli Classifier Model Accuracy: ', accuracy_score(target, y_pred))\n",
    "print('Confusion Matrix:')\n",
    "print(confmatrix)\n",
    "print('Sensitivity - The percentage of positives correctly identified: ', sensativityVal, '%')\n",
    "print('Specificity - The percentage of negatives correctly identified: ', specificityVal, '%')\n",
    "print('Cross-Validation Accuracy Scores: ', cross_val_score(bnb, data, target, cv=10))"
   ]
  },
  {
   "cell_type": "markdown",
   "metadata": {},
   "source": [
    "# Results from 5 versions:"
   ]
  },
  {
   "cell_type": "markdown",
   "metadata": {},
   "source": [
    "### 18 Positive Adjectives:\n",
    "Bernoulli Classifier Model Accuracy:  0.709\n",
    "<br>Confusion Matrix:\n",
    "<br>[[470  30]\n",
    "<br> [261 239]]\n",
    "<br>Sensitivity - The percentage of positives correctly identified:  47.8 %\n",
    "<br>Specificity - The percentage of negatives correctly identified:  94.0 %\n",
    "<br>Cross-Validation Accuracy Scores:  [0.76 0.74 0.79 0.71 0.69 0.69 0.63 0.67 0.72 0.61]"
   ]
  },
  {
   "cell_type": "markdown",
   "metadata": {},
   "source": [
    "### 18 Negative Adjectives:\n",
    "Bernoulli Classifier Model Accuracy:  0.693\n",
    "<br>Confusion Matrix:\n",
    "<br>[[213 287]\n",
    "<br> [ 20 480]]\n",
    "<br>Sensitivity - The percentage of positives correctly identified:  96.0 %\n",
    "<br>Specificity - The percentage of negatives correctly identified:  42.6 %\n",
    "<br>Cross-Validation Accuracy Scores:  [0.67 0.73 0.73 0.69 0.74 0.64 0.66 0.62 0.7  0.67]"
   ]
  },
  {
   "cell_type": "markdown",
   "metadata": {},
   "source": [
    "### 1st 9 Positive, 1st 9 Negative Ajdectives:\n",
    "Bernoulli Classifier Model Accuracy:  0.697\n",
    "<br>Confusion Matrix:\n",
    "<br>[[486  14]\n",
    "<br> [289 211]]\n",
    "<br>Sensitivity - The percentage of positives correctly identified:  42.2 %\n",
    "<br>Specificity - The percentage of negatives correctly identified:  97.2 %\n",
    "<br>Cross-Validation Accuracy Scores:  [0.74 0.72 0.78 0.71 0.68 0.68 0.59 0.67 0.73 0.61]"
   ]
  },
  {
   "cell_type": "markdown",
   "metadata": {},
   "source": [
    "### 2nd 9 Positive, 2nd 9 Negative Adjectives:\n",
    "Bernoulli Classifier Model Accuracy:  0.544\n",
    "<br>Confusion Matrix:\n",
    "<br>[[ 49 451]\n",
    "<br> [  5 495]]\n",
    "<br>Sensitivity - The percentage of positives correctly identified:  99.0 %\n",
    "<br>Specificity - The percentage of negatives correctly identified:  9.8 %\n",
    "<br>Cross-Validation Accuracy Scores:  [0.52 0.51 0.55 0.56 0.52 0.55 0.5  0.5  0.55 0.53]"
   ]
  },
  {
   "cell_type": "markdown",
   "metadata": {},
   "source": [
    "### Hand-Picked, 9 Positive & 9 Negative Adjectives:\n",
    "Bernoulli Classifier Model Accuracy:  0.701\n",
    "<br>Confusion Matrix:\n",
    "<br>[[471  29]\n",
    "<br> [270 230]]\n",
    "<br>Sensitivity - The percentage of positives correctly identified:  46.0 %\n",
    "<br>Specificity - The percentage of negatives correctly identified:  94.2 %\n",
    "<br>Cross-Validation Accuracy Scores:  [0.76 0.73 0.78 0.71 0.7  0.68 0.64 0.69 0.71 0.61]"
   ]
  }
 ],
 "metadata": {
  "kernelspec": {
   "display_name": "Python 3",
   "language": "python",
   "name": "python3"
  },
  "language_info": {
   "codemirror_mode": {
    "name": "ipython",
    "version": 3
   },
   "file_extension": ".py",
   "mimetype": "text/x-python",
   "name": "python",
   "nbconvert_exporter": "python",
   "pygments_lexer": "ipython3",
   "version": "3.7.0"
  }
 },
 "nbformat": 4,
 "nbformat_minor": 2
}
