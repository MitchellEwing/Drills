{
 "cells": [
  {
   "cell_type": "code",
   "execution_count": 2,
   "metadata": {},
   "outputs": [],
   "source": [
    "# Import modules.\n",
    "import math\n",
    "import warnings\n",
    "from matplotlib import pyplot as plt\n",
    "import numpy as np\n",
    "import pandas as pd\n",
    "import seaborn as sns\n",
    "from sklearn import linear_model\n",
    "from sklearn.cross_decomposition import PLSRegression\n",
    "\n",
    "# Plot aesthetics.\n",
    "%matplotlib inline\n",
    "sns.set_style('white')\n",
    "\n",
    "# Suppress harmless error.\n",
    "warnings.filterwarnings(\n",
    "    action=\"ignore\",\n",
    "    module=\"scipy\",\n",
    "    message=\"^internal gelsd\"\n",
    ")"
   ]
  },
  {
   "cell_type": "code",
   "execution_count": 3,
   "metadata": {},
   "outputs": [],
   "source": [
    "# Number of datapoints in outcome.\n",
    "n = 1000\n",
    "\n",
    "# Number of features.\n",
    "p=10\n",
    "\n",
    "# Create random normally distribted data for parameters.\n",
    "X = np.random.normal(size=n * p).reshape((n, p))\n",
    "\n",
    "# Create normally distributed outcome realted to parameters but with noise.\n",
    "y = X[:, 0] + 2 * X[:, 1] + np.random.normal(size=n * 1) + 5"
   ]
  },
  {
   "cell_type": "code",
   "execution_count": 4,
   "metadata": {},
   "outputs": [
    {
     "data": {
      "image/png": "[encoded data removed]",
      "text/plain": [
       "<Figure size 864x648 with 2 Axes>"
      ]
     },
     "metadata": {},
     "output_type": "display_data"
    }
   ],
   "source": [
    "# Check out correlations. First column in the outcome.\n",
    "f, ax = plt.subplots(figsize=(12, 9))\n",
    "corrmat = pd.DataFrame(np.insert(X, 0, y, axis=1)).corr()\n",
    "\n",
    "# Draw the heatmap using seaborn.\n",
    "sns.heatmap(corrmat, vmax=.8, square=True, cmap='RdBu_r')\n",
    "plt.show()"
   ]
  },
  {
   "cell_type": "code",
   "execution_count": 5,
   "metadata": {},
   "outputs": [
    {
     "name": "stdout",
     "output_type": "stream",
     "text": [
      "R-squared regression: 0.8269827758441829\n",
      "R-squared PLSR: 0.8269825876019251\n"
     ]
    },
    {
     "data": {
      "image/png": "[encoded data removed]",
      "text/plain": [
       "<Figure size 432x288 with 1 Axes>"
      ]
     },
     "metadata": {},
     "output_type": "display_data"
    }
   ],
   "source": [
    "# Fit a linear model with all 10 features.\n",
    "regr = linear_model.LinearRegression()\n",
    "regr.fit(X, y)\n",
    "\n",
    "# Save predicted values.\n",
    "Y_pred = regr.predict(X)\n",
    "print('R-squared regression:', regr.score(X, y))\n",
    "\n",
    "# Fit a linear model using Partial Least Squares Regression.\n",
    "# Reduce feature space to 3 dimensions.\n",
    "pls3 = PLSRegression(n_components=3)\n",
    "\n",
    "# Reduce X to R(X) and regress on y.\n",
    "pls3.fit(X, y)\n",
    "\n",
    "# Save predicted values.\n",
    "Y_PLS_pred = pls3.predict(X)\n",
    "print('R-squared PLSR:', pls3.score(X, y))\n",
    "\n",
    "# Compare the predictions of the top 2 models.\n",
    "plt.scatter(Y_pred, Y_PLS_pred)\n",
    "plt.xlabel('Predicted by original 10 features')\n",
    "plt.ylabel('Predicted by 3 features')\n",
    "plt.title('Comparing LR and PLSR predictions')\n",
    "plt.show()"
   ]
  },
  {
   "cell_type": "code",
   "execution_count": 6,
   "metadata": {},
   "outputs": [
    {
     "name": "stdout",
     "output_type": "stream",
     "text": [
      "R-squared PLSR (4 components): 0.8269827754946796\n",
      "R-squared PLSR (5 components): 0.8269827758433034\n",
      "R-squared PLSR (6 components): 0.8269827758441759\n",
      "R-squared PLSR (7 components): 0.8269827758441829\n"
     ]
    }
   ],
   "source": [
    "# 4 components\n",
    "pls4 = PLSRegression(n_components=4)\n",
    "pls4.fit(X, y)\n",
    "Y_PLS_pred = pls4.predict(X)\n",
    "print('R-squared PLSR (4 components):', pls4.score(X, y))\n",
    "\n",
    "# 5 components\n",
    "pls5 = PLSRegression(n_components=5)\n",
    "pls5.fit(X, y)\n",
    "Y_PLS_pred = pls5.predict(X)\n",
    "print('R-squared PLSR (5 components):', pls5.score(X, y))\n",
    "\n",
    "# 6 components\n",
    "pls6 = PLSRegression(n_components=6)\n",
    "pls6.fit(X, y)\n",
    "Y_PLS_pred = pls6.predict(X)\n",
    "print('R-squared PLSR (6 components):', pls6.score(X, y))\n",
    "\n",
    "# 7 components\n",
    "pls7 = PLSRegression(n_components=7)\n",
    "pls7.fit(X, y)\n",
    "Y_PLS_pred = pls7.predict(X)\n",
    "print('R-squared PLSR (7 components):', pls7.score(X, y))"
   ]
  }
 ],
 "metadata": {
  "kernelspec": {
   "display_name": "Python 3",
   "language": "python",
   "name": "python3"
  },
  "language_info": {
   "codemirror_mode": {
    "name": "ipython",
    "version": 3
   },
   "file_extension": ".py",
   "mimetype": "text/x-python",
   "name": "python",
   "nbconvert_exporter": "python",
   "pygments_lexer": "ipython3",
   "version": "3.7.0"
  }
 },
 "nbformat": 4,
 "nbformat_minor": 2
}
