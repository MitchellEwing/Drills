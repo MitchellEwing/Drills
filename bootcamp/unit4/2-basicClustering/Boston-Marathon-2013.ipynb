{
 "cells": [
  {
   "cell_type": "markdown",
   "metadata": {},
   "source": [
    "# Clustering & Eval\n",
    "\n",
    "Which clustering solution, including number of clusters & algorithm used, is best for the marathon data.\n",
    "\n",
    "Once an acceptable solution is found, write a data story, including visualizations, where you teach the reader something about the marathon based on the clusters."
   ]
  },
  {
   "cell_type": "code",
   "execution_count": 1,
   "metadata": {},
   "outputs": [],
   "source": [
    "# Import modules.\n",
    "import pandas as pd\n",
    "import numpy as np\n",
    "import time\n",
    "import matplotlib.pyplot as plt\n",
    "import seaborn as sns\n",
    "import scipy\n",
    "from scipy import stats\n",
    "from sklearn.preprocessing import normalize\n",
    "from sklearn.model_selection import train_test_split\n",
    "from sklearn.decomposition import PCA\n",
    "from sklearn import metrics\n",
    "\n",
    "# Clustering module imports.\n",
    "from sklearn.cluster import MiniBatchKMeans\n",
    "from sklearn.cluster import KMeans\n",
    "from sklearn.cluster import MeanShift\n",
    "from sklearn.cluster import estimate_bandwidth\n",
    "from sklearn.cluster import SpectralClustering\n",
    "from sklearn.cluster import AffinityPropagation\n",
    "from itertools import cycle\n",
    "\n",
    "# Aesthetics.\n",
    "%matplotlib inline\n",
    "sns.set_style('darkgrid')"
   ]
  },
  {
   "cell_type": "code",
   "execution_count": 2,
   "metadata": {},
   "outputs": [
    {
     "name": "stdout",
     "output_type": "stream",
     "text": [
      "(16164, 21)\n",
      "Index(['25k', 'age', 'name', 'division', '10k', 'gender', 'half', 'official',\n",
      "       'bib', 'ctz', 'country', 'overall', 'pace', 'state', '30k', '5k',\n",
      "       'genderdiv', '20k', '35k', 'city', '40k'],\n",
      "      dtype='object')\n"
     ]
    },
    {
     "data": {
      "text/html": [
       "<div>\n",
       "<style scoped>\n",
       "    .dataframe tbody tr th:only-of-type {\n",
       "        vertical-align: middle;\n",
       "    }\n",
       "\n",
       "    .dataframe tbody tr th {\n",
       "        vertical-align: top;\n",
       "    }\n",
       "\n",
       "    .dataframe thead th {\n",
       "        text-align: right;\n",
       "    }\n",
       "</style>\n",
       "<table border=\"1\" class=\"dataframe\">\n",
       "  <thead>\n",
       "    <tr style=\"text-align: right;\">\n",
       "      <th></th>\n",
       "      <th>25k</th>\n",
       "      <th>age</th>\n",
       "      <th>name</th>\n",
       "      <th>division</th>\n",
       "      <th>10k</th>\n",
       "      <th>gender</th>\n",
       "      <th>half</th>\n",
       "      <th>official</th>\n",
       "      <th>bib</th>\n",
       "      <th>ctz</th>\n",
       "      <th>...</th>\n",
       "      <th>overall</th>\n",
       "      <th>pace</th>\n",
       "      <th>state</th>\n",
       "      <th>30k</th>\n",
       "      <th>5k</th>\n",
       "      <th>genderdiv</th>\n",
       "      <th>20k</th>\n",
       "      <th>35k</th>\n",
       "      <th>city</th>\n",
       "      <th>40k</th>\n",
       "    </tr>\n",
       "  </thead>\n",
       "  <tbody>\n",
       "    <tr>\n",
       "      <th>0</th>\n",
       "      <td>49.87</td>\n",
       "      <td>28</td>\n",
       "      <td>Cassidy, Josh R.</td>\n",
       "      <td>9</td>\n",
       "      <td>18.18</td>\n",
       "      <td>M</td>\n",
       "      <td>40.93</td>\n",
       "      <td>90.90</td>\n",
       "      <td>W1</td>\n",
       "      <td>NaN</td>\n",
       "      <td>...</td>\n",
       "      <td>9</td>\n",
       "      <td>3.47</td>\n",
       "      <td>ON</td>\n",
       "      <td>62.07</td>\n",
       "      <td>8.90</td>\n",
       "      <td>9</td>\n",
       "      <td>38.80</td>\n",
       "      <td>74.73</td>\n",
       "      <td>Toronto</td>\n",
       "      <td>85.55</td>\n",
       "    </tr>\n",
       "    <tr>\n",
       "      <th>1</th>\n",
       "      <td>77.27</td>\n",
       "      <td>30</td>\n",
       "      <td>Korir, Wesley</td>\n",
       "      <td>5</td>\n",
       "      <td>30.90</td>\n",
       "      <td>M</td>\n",
       "      <td>64.90</td>\n",
       "      <td>132.50</td>\n",
       "      <td>1</td>\n",
       "      <td>NaN</td>\n",
       "      <td>...</td>\n",
       "      <td>5</td>\n",
       "      <td>5.07</td>\n",
       "      <td>NaN</td>\n",
       "      <td>92.97</td>\n",
       "      <td>15.90</td>\n",
       "      <td>5</td>\n",
       "      <td>61.52</td>\n",
       "      <td>108.78</td>\n",
       "      <td>Kenya</td>\n",
       "      <td>124.77</td>\n",
       "    </tr>\n",
       "    <tr>\n",
       "      <th>2</th>\n",
       "      <td>77.23</td>\n",
       "      <td>23</td>\n",
       "      <td>Desisa, Lelisa</td>\n",
       "      <td>1</td>\n",
       "      <td>30.90</td>\n",
       "      <td>M</td>\n",
       "      <td>64.92</td>\n",
       "      <td>130.37</td>\n",
       "      <td>2</td>\n",
       "      <td>NaN</td>\n",
       "      <td>...</td>\n",
       "      <td>1</td>\n",
       "      <td>4.98</td>\n",
       "      <td>NaN</td>\n",
       "      <td>92.72</td>\n",
       "      <td>15.93</td>\n",
       "      <td>1</td>\n",
       "      <td>61.53</td>\n",
       "      <td>108.68</td>\n",
       "      <td>Ambo</td>\n",
       "      <td>123.78</td>\n",
       "    </tr>\n",
       "    <tr>\n",
       "      <th>3</th>\n",
       "      <td>50.50</td>\n",
       "      <td>32</td>\n",
       "      <td>Fearnley, Kurt H.</td>\n",
       "      <td>5</td>\n",
       "      <td>18.73</td>\n",
       "      <td>M</td>\n",
       "      <td>42.00</td>\n",
       "      <td>88.43</td>\n",
       "      <td>W2</td>\n",
       "      <td>NaN</td>\n",
       "      <td>...</td>\n",
       "      <td>5</td>\n",
       "      <td>3.38</td>\n",
       "      <td>NaN</td>\n",
       "      <td>61.35</td>\n",
       "      <td>8.98</td>\n",
       "      <td>5</td>\n",
       "      <td>39.88</td>\n",
       "      <td>73.00</td>\n",
       "      <td>Hamilton</td>\n",
       "      <td>83.43</td>\n",
       "    </tr>\n",
       "    <tr>\n",
       "      <th>4</th>\n",
       "      <td>48.75</td>\n",
       "      <td>39</td>\n",
       "      <td>Hokinoue, Kota</td>\n",
       "      <td>3</td>\n",
       "      <td>18.18</td>\n",
       "      <td>M</td>\n",
       "      <td>40.57</td>\n",
       "      <td>87.22</td>\n",
       "      <td>W3</td>\n",
       "      <td>NaN</td>\n",
       "      <td>...</td>\n",
       "      <td>3</td>\n",
       "      <td>3.33</td>\n",
       "      <td>NaN</td>\n",
       "      <td>59.92</td>\n",
       "      <td>8.92</td>\n",
       "      <td>3</td>\n",
       "      <td>38.55</td>\n",
       "      <td>71.68</td>\n",
       "      <td>Iizuka</td>\n",
       "      <td>81.88</td>\n",
       "    </tr>\n",
       "  </tbody>\n",
       "</table>\n",
       "<p>5 rows × 21 columns</p>\n",
       "</div>"
      ],
      "text/plain": [
       "     25k  age               name  division    10k gender   half  official bib  \\\n",
       "0  49.87   28   Cassidy, Josh R.         9  18.18      M  40.93     90.90  W1   \n",
       "1  77.27   30      Korir, Wesley         5  30.90      M  64.90    132.50   1   \n",
       "2  77.23   23     Desisa, Lelisa         1  30.90      M  64.92    130.37   2   \n",
       "3  50.50   32  Fearnley, Kurt H.         5  18.73      M  42.00     88.43  W2   \n",
       "4  48.75   39     Hokinoue, Kota         3  18.18      M  40.57     87.22  W3   \n",
       "\n",
       "   ctz   ...   overall  pace  state    30k     5k genderdiv    20k     35k  \\\n",
       "0  NaN   ...         9  3.47     ON  62.07   8.90         9  38.80   74.73   \n",
       "1  NaN   ...         5  5.07    NaN  92.97  15.90         5  61.52  108.78   \n",
       "2  NaN   ...         1  4.98    NaN  92.72  15.93         1  61.53  108.68   \n",
       "3  NaN   ...         5  3.38    NaN  61.35   8.98         5  39.88   73.00   \n",
       "4  NaN   ...         3  3.33    NaN  59.92   8.92         3  38.55   71.68   \n",
       "\n",
       "       city     40k  \n",
       "0   Toronto   85.55  \n",
       "1     Kenya  124.77  \n",
       "2      Ambo  123.78  \n",
       "3  Hamilton   83.43  \n",
       "4    Iizuka   81.88  \n",
       "\n",
       "[5 rows x 21 columns]"
      ]
     },
     "execution_count": 2,
     "metadata": {},
     "output_type": "execute_result"
    }
   ],
   "source": [
    "# Load dataset.\n",
    "raw_data = pd.read_csv('~/src/data/unit4/boston-results-2013.csv')\n",
    "\n",
    "# Rename to df.\n",
    "df = raw_data\n",
    "print(df.shape)\n",
    "print(df.columns)\n",
    "df.head()"
   ]
  },
  {
   "cell_type": "markdown",
   "metadata": {},
   "source": [
    "# EDA"
   ]
  },
  {
   "cell_type": "code",
   "execution_count": 3,
   "metadata": {},
   "outputs": [
    {
     "data": {
      "text/plain": [
       "25k           object\n",
       "age            int64\n",
       "name          object\n",
       "division       int64\n",
       "10k           object\n",
       "gender        object\n",
       "half          object\n",
       "official     float64\n",
       "bib           object\n",
       "ctz           object\n",
       "country       object\n",
       "overall        int64\n",
       "pace         float64\n",
       "state         object\n",
       "30k           object\n",
       "5k            object\n",
       "genderdiv      int64\n",
       "20k           object\n",
       "35k           object\n",
       "city          object\n",
       "40k           object\n",
       "dtype: object"
      ]
     },
     "execution_count": 3,
     "metadata": {},
     "output_type": "execute_result"
    }
   ],
   "source": [
    "df.dtypes"
   ]
  },
  {
   "cell_type": "code",
   "execution_count": 4,
   "metadata": {},
   "outputs": [
    {
     "data": {
      "image/png": "[encoded data removed]",
      "text/plain": [
       "<Figure size 432x288 with 1 Axes>"
      ]
     },
     "metadata": {},
     "output_type": "display_data"
    },
    {
     "name": "stderr",
     "output_type": "stream",
     "text": [
      "c:\\users\\mewing_user\\appdata\\local\\programs\\python\\python37\\lib\\site-packages\\scipy\\stats\\stats.py:1713: FutureWarning: Using a non-tuple sequence for multidimensional indexing is deprecated; use `arr[tuple(seq)]` instead of `arr[seq]`. In the future this will be interpreted as an array index, `arr[np.array(seq)]`, which will result either in an error or a different result.\n",
      "  return np.add.reduce(sorted[indexer] * weights, axis=axis) / sumval\n"
     ]
    },
    {
     "data": {
      "image/png": "[encoded data removed]",
      "text/plain": [
       "<Figure size 432x288 with 1 Axes>"
      ]
     },
     "metadata": {},
     "output_type": "display_data"
    },
    {
     "data": {
      "image/png": "[encoded data removed]",
      "text/plain": [
       "<Figure size 432x288 with 1 Axes>"
      ]
     },
     "metadata": {},
     "output_type": "display_data"
    }
   ],
   "source": [
    "# Age.\n",
    "g = sns.countplot('age', data=df)\n",
    "plt.show()\n",
    "\n",
    "# Age & Official.\n",
    "g = sns.lineplot(x='official', y='age', data=df)\n",
    "plt.show()\n",
    "\n",
    "# Age & Pace.\n",
    "g = sns.lineplot(x='pace', y='age', data=df)\n",
    "plt.show()"
   ]
  },
  {
   "cell_type": "code",
   "execution_count": 5,
   "metadata": {},
   "outputs": [
    {
     "data": {
      "text/html": [
       "<div>\n",
       "<style scoped>\n",
       "    .dataframe tbody tr th:only-of-type {\n",
       "        vertical-align: middle;\n",
       "    }\n",
       "\n",
       "    .dataframe tbody tr th {\n",
       "        vertical-align: top;\n",
       "    }\n",
       "\n",
       "    .dataframe thead th {\n",
       "        text-align: right;\n",
       "    }\n",
       "</style>\n",
       "<table border=\"1\" class=\"dataframe\">\n",
       "  <thead>\n",
       "    <tr style=\"text-align: right;\">\n",
       "      <th></th>\n",
       "      <th>age</th>\n",
       "      <th>division</th>\n",
       "      <th>official</th>\n",
       "      <th>overall</th>\n",
       "      <th>pace</th>\n",
       "      <th>genderdiv</th>\n",
       "    </tr>\n",
       "  </thead>\n",
       "  <tbody>\n",
       "    <tr>\n",
       "      <th>count</th>\n",
       "      <td>16164.000000</td>\n",
       "      <td>16164.000000</td>\n",
       "      <td>16164.000000</td>\n",
       "      <td>16164.000000</td>\n",
       "      <td>16164.000000</td>\n",
       "      <td>16164.000000</td>\n",
       "    </tr>\n",
       "    <tr>\n",
       "      <th>mean</th>\n",
       "      <td>41.638332</td>\n",
       "      <td>1100.967025</td>\n",
       "      <td>208.159470</td>\n",
       "      <td>8429.373422</td>\n",
       "      <td>7.947398</td>\n",
       "      <td>4351.684732</td>\n",
       "    </tr>\n",
       "    <tr>\n",
       "      <th>std</th>\n",
       "      <td>10.351311</td>\n",
       "      <td>942.114816</td>\n",
       "      <td>23.743608</td>\n",
       "      <td>5052.024116</td>\n",
       "      <td>0.905739</td>\n",
       "      <td>2772.398239</td>\n",
       "    </tr>\n",
       "    <tr>\n",
       "      <th>min</th>\n",
       "      <td>18.000000</td>\n",
       "      <td>1.000000</td>\n",
       "      <td>85.530000</td>\n",
       "      <td>1.000000</td>\n",
       "      <td>3.270000</td>\n",
       "      <td>1.000000</td>\n",
       "    </tr>\n",
       "    <tr>\n",
       "      <th>25%</th>\n",
       "      <td>34.000000</td>\n",
       "      <td>363.000000</td>\n",
       "      <td>191.727500</td>\n",
       "      <td>4061.750000</td>\n",
       "      <td>7.320000</td>\n",
       "      <td>2032.750000</td>\n",
       "    </tr>\n",
       "    <tr>\n",
       "      <th>50%</th>\n",
       "      <td>42.000000</td>\n",
       "      <td>842.000000</td>\n",
       "      <td>209.225000</td>\n",
       "      <td>8247.500000</td>\n",
       "      <td>7.980000</td>\n",
       "      <td>4113.500000</td>\n",
       "    </tr>\n",
       "    <tr>\n",
       "      <th>75%</th>\n",
       "      <td>49.000000</td>\n",
       "      <td>1560.000000</td>\n",
       "      <td>225.230000</td>\n",
       "      <td>12662.250000</td>\n",
       "      <td>8.600000</td>\n",
       "      <td>6316.000000</td>\n",
       "    </tr>\n",
       "    <tr>\n",
       "      <th>max</th>\n",
       "      <td>80.000000</td>\n",
       "      <td>3834.000000</td>\n",
       "      <td>284.230000</td>\n",
       "      <td>17598.000000</td>\n",
       "      <td>10.850000</td>\n",
       "      <td>10648.000000</td>\n",
       "    </tr>\n",
       "  </tbody>\n",
       "</table>\n",
       "</div>"
      ],
      "text/plain": [
       "                age      division      official       overall          pace  \\\n",
       "count  16164.000000  16164.000000  16164.000000  16164.000000  16164.000000   \n",
       "mean      41.638332   1100.967025    208.159470   8429.373422      7.947398   \n",
       "std       10.351311    942.114816     23.743608   5052.024116      0.905739   \n",
       "min       18.000000      1.000000     85.530000      1.000000      3.270000   \n",
       "25%       34.000000    363.000000    191.727500   4061.750000      7.320000   \n",
       "50%       42.000000    842.000000    209.225000   8247.500000      7.980000   \n",
       "75%       49.000000   1560.000000    225.230000  12662.250000      8.600000   \n",
       "max       80.000000   3834.000000    284.230000  17598.000000     10.850000   \n",
       "\n",
       "          genderdiv  \n",
       "count  16164.000000  \n",
       "mean    4351.684732  \n",
       "std     2772.398239  \n",
       "min        1.000000  \n",
       "25%     2032.750000  \n",
       "50%     4113.500000  \n",
       "75%     6316.000000  \n",
       "max    10648.000000  "
      ]
     },
     "execution_count": 5,
     "metadata": {},
     "output_type": "execute_result"
    }
   ],
   "source": [
    "df.describe()"
   ]
  },
  {
   "cell_type": "markdown",
   "metadata": {},
   "source": [
    "## Set target to \"official\", the feature for marathon running time"
   ]
  },
  {
   "cell_type": "code",
   "execution_count": 6,
   "metadata": {},
   "outputs": [
    {
     "name": "stdout",
     "output_type": "stream",
     "text": [
      "(16164, 6)\n",
      "Index(['age', 'division', 'official', 'overall', 'pace', 'genderdiv'], dtype='object')\n"
     ]
    },
    {
     "data": {
      "text/html": [
       "<div>\n",
       "<style scoped>\n",
       "    .dataframe tbody tr th:only-of-type {\n",
       "        vertical-align: middle;\n",
       "    }\n",
       "\n",
       "    .dataframe tbody tr th {\n",
       "        vertical-align: top;\n",
       "    }\n",
       "\n",
       "    .dataframe thead th {\n",
       "        text-align: right;\n",
       "    }\n",
       "</style>\n",
       "<table border=\"1\" class=\"dataframe\">\n",
       "  <thead>\n",
       "    <tr style=\"text-align: right;\">\n",
       "      <th></th>\n",
       "      <th>age</th>\n",
       "      <th>division</th>\n",
       "      <th>official</th>\n",
       "      <th>overall</th>\n",
       "      <th>pace</th>\n",
       "      <th>genderdiv</th>\n",
       "    </tr>\n",
       "  </thead>\n",
       "  <tbody>\n",
       "    <tr>\n",
       "      <th>0</th>\n",
       "      <td>28</td>\n",
       "      <td>9</td>\n",
       "      <td>90.90</td>\n",
       "      <td>9</td>\n",
       "      <td>3.47</td>\n",
       "      <td>9</td>\n",
       "    </tr>\n",
       "    <tr>\n",
       "      <th>1</th>\n",
       "      <td>30</td>\n",
       "      <td>5</td>\n",
       "      <td>132.50</td>\n",
       "      <td>5</td>\n",
       "      <td>5.07</td>\n",
       "      <td>5</td>\n",
       "    </tr>\n",
       "    <tr>\n",
       "      <th>2</th>\n",
       "      <td>23</td>\n",
       "      <td>1</td>\n",
       "      <td>130.37</td>\n",
       "      <td>1</td>\n",
       "      <td>4.98</td>\n",
       "      <td>1</td>\n",
       "    </tr>\n",
       "    <tr>\n",
       "      <th>3</th>\n",
       "      <td>32</td>\n",
       "      <td>5</td>\n",
       "      <td>88.43</td>\n",
       "      <td>5</td>\n",
       "      <td>3.38</td>\n",
       "      <td>5</td>\n",
       "    </tr>\n",
       "    <tr>\n",
       "      <th>4</th>\n",
       "      <td>39</td>\n",
       "      <td>3</td>\n",
       "      <td>87.22</td>\n",
       "      <td>3</td>\n",
       "      <td>3.33</td>\n",
       "      <td>3</td>\n",
       "    </tr>\n",
       "  </tbody>\n",
       "</table>\n",
       "</div>"
      ],
      "text/plain": [
       "   age  division  official  overall  pace  genderdiv\n",
       "0   28         9     90.90        9  3.47          9\n",
       "1   30         5    132.50        5  5.07          5\n",
       "2   23         1    130.37        1  4.98          1\n",
       "3   32         5     88.43        5  3.38          5\n",
       "4   39         3     87.22        3  3.33          3"
      ]
     },
     "execution_count": 6,
     "metadata": {},
     "output_type": "execute_result"
    }
   ],
   "source": [
    "# Select numeric data & create sep dataframe.\n",
    "numeric_df = df.select_dtypes(include=['int64', 'float64'])\n",
    "print(numeric_df.shape)\n",
    "print(numeric_df.columns)\n",
    "numeric_df.head()"
   ]
  },
  {
   "cell_type": "code",
   "execution_count": 7,
   "metadata": {},
   "outputs": [
    {
     "data": {
      "image/png": "[encoded data removed]",
      "text/plain": [
       "<Figure size 432x288 with 1 Axes>"
      ]
     },
     "metadata": {},
     "output_type": "display_data"
    },
    {
     "data": {
      "image/png": "[encoded data removed]",
      "text/plain": [
       "<Figure size 432x288 with 1 Axes>"
      ]
     },
     "metadata": {},
     "output_type": "display_data"
    },
    {
     "data": {
      "image/png": "[encoded data removed]",
      "text/plain": [
       "<Figure size 432x288 with 1 Axes>"
      ]
     },
     "metadata": {},
     "output_type": "display_data"
    },
    {
     "data": {
      "image/png": "[encoded data removed]",
      "text/plain": [
       "<Figure size 432x288 with 1 Axes>"
      ]
     },
     "metadata": {},
     "output_type": "display_data"
    },
    {
     "data": {
      "image/png": "[encoded data removed]",
      "text/plain": [
       "<Figure size 432x288 with 1 Axes>"
      ]
     },
     "metadata": {},
     "output_type": "display_data"
    },
    {
     "data": {
      "image/png": "[encoded data removed]",
      "text/plain": [
       "<Figure size 432x288 with 1 Axes>"
      ]
     },
     "metadata": {},
     "output_type": "display_data"
    }
   ],
   "source": [
    "# Check data for Gaussian distributions.\n",
    "def plotHist(df):\n",
    "    for col in df.columns:\n",
    "        plt.hist(df[col], data=df)\n",
    "        plt.title([col])\n",
    "        plt.show()\n",
    "        \n",
    "plotHist(numeric_df)"
   ]
  },
  {
   "cell_type": "code",
   "execution_count": 8,
   "metadata": {},
   "outputs": [],
   "source": [
    "# Rename again.\n",
    "model_df = numeric_df\n",
    "\n",
    "# Break into a set of features and variable for knwon outcome: \"overall\".\n",
    "X = model_df.loc[:, list(model_df.columns[0:3]) + list(model_df.columns[4:])]\n",
    "Y = model_df['overall']"
   ]
  },
  {
   "cell_type": "code",
   "execution_count": 9,
   "metadata": {},
   "outputs": [],
   "source": [
    "# Normalize the data.\n",
    "from sklearn.preprocessing import normalize\n",
    "X_norm = normalize(X)"
   ]
  },
  {
   "cell_type": "code",
   "execution_count": 10,
   "metadata": {},
   "outputs": [],
   "source": [
    "# Choose number of clusters.\n",
    "num_clust = 2"
   ]
  },
  {
   "cell_type": "code",
   "execution_count": 11,
   "metadata": {},
   "outputs": [],
   "source": [
    "# Create the 2 feature PCA.\n",
    "pca = PCA(n_components = 2)\n",
    "X_pca = pca.fit_transform(X_norm)"
   ]
  },
  {
   "cell_type": "code",
   "execution_count": 12,
   "metadata": {},
   "outputs": [],
   "source": [
    "# Split the data into 4 equally sized samples. First we break in half:\n",
    "X_half1, X_half2, X_pcahalf1, X_pcahalf2 = train_test_split(\n",
    "    X_norm,\n",
    "    X_pca,\n",
    "    test_size=0.5,\n",
    "    random_state=42)\n",
    "\n",
    "# Then we halve the halves.\n",
    "X1, X2, X_pca1, X_pca2 = train_test_split(\n",
    "    X_half1,\n",
    "    X_pcahalf1,\n",
    "    test_size=0.5,\n",
    "    random_state=42)\n",
    "X3, X4, X_pca3, X_pca4 = train_test_split(\n",
    "    X_half2,\n",
    "    X_pcahalf2,\n",
    "    test_size=0.5,\n",
    "    random_state=42)"
   ]
  },
  {
   "cell_type": "markdown",
   "metadata": {},
   "source": [
    "## Clustering models"
   ]
  },
  {
   "cell_type": "code",
   "execution_count": 13,
   "metadata": {},
   "outputs": [],
   "source": [
    "# Silhouette Coefficient.\n",
    "def kMeansSilCoeff():\n",
    "    from sklearn import metrics\n",
    "    from sklearn.metrics import pairwise_distances\n",
    "    scores = []\n",
    "    for sample in [X1, X2, X3, X4]:\n",
    "        model = KMeans(n_clusters=num_clust, random_state=42).fit(sample)\n",
    "        labels = model.labels_\n",
    "        scores.append(metrics.silhouette_score(sample, labels, metric='euclidean'))\n",
    "    print('\\nK-Means:')\n",
    "    print('Silhouette Score Mean:', np.mean(scores))\n",
    "    print('Silhouette Score StdDev:', np.std(scores))\n",
    "    \n",
    "def kMeansSilCoeffPCA():\n",
    "    from sklearn import metrics\n",
    "    from sklearn.metrics import pairwise_distances\n",
    "    scores_pca = []\n",
    "    for sample in [X_pca1, X_pca2, X_pca3, X_pca4]:\n",
    "        model = KMeans(n_clusters=num_clust, random_state=42).fit(sample)\n",
    "        labels = model.labels_\n",
    "        scores_pca.append(metrics.silhouette_score(sample, labels, metric='euclidean'))\n",
    "    print('Silhouette Score w/ PCA Mean:', np.mean(scores_pca))\n",
    "    print('Silhouette Score w/ PCA StdDev:', np.std(scores_pca))\n",
    "    \n",
    "def meanShiftSilCoeff():\n",
    "    from sklearn.cluster import MeanShift, estimate_bandwidth\n",
    "    scores = []\n",
    "    for sample in [X1, X2, X3, X4]:\n",
    "        bandwidth = estimate_bandwidth(sample, quantile=0.2, n_samples=500)\n",
    "        model = MeanShift(bandwidth=bandwidth, bin_seeding=True).fit(sample)\n",
    "        labels = model.labels_\n",
    "        scores.append(metrics.silhouette_score(sample, labels, metric='euclidean'))\n",
    "    print('\\nMean Shift:')\n",
    "    print('Silhouette Score Mean:', np.mean(scores))\n",
    "    print('Silhouette Score StdDev:', np.std(scores))\n",
    "    \n",
    "def meanShiftSilCoeffPCA():\n",
    "    from sklearn.cluster import MeanShift, estimate_bandwidth\n",
    "    scores_pca = []\n",
    "    for sample in [X_pca1, X_pca2, X_pca3, X_pca4]:\n",
    "        bandwidth = estimate_bandwidth(sample, quantile=0.2, n_samples=500)\n",
    "        model = MeanShift(bandwidth=bandwidth, bin_seeding=True).fit(sample)\n",
    "        labels = model.labels_\n",
    "        scores_pca.append(metrics.silhouette_score(sample, labels, metric='euclidean'))\n",
    "    print('Silhouette Score w/ PCA Mean:', np.mean(scores_pca))\n",
    "    print('Silhouette Score w/ PCA StdDev:', np.std(scores_pca))\n",
    "    \n",
    "def spectralClusterSilCoeff():\n",
    "    from sklearn.cluster import SpectralClustering\n",
    "    scores = []\n",
    "    for sample in [X1, X2, X3, X4]:\n",
    "        model = SpectralClustering(n_clusters=num_clust).fit(sample)\n",
    "        labels = model.labels_\n",
    "        scores.append(metrics.silhouette_score(sample, labels, metric='euclidean'))\n",
    "    print('\\nSpectral Clustering:')\n",
    "    print('Silhouette Score Mean:', np.mean(scores))\n",
    "    print('Silhouette Score StdDev:', np.std(scores))\n",
    "    \n",
    "def spectralClusterSilCoeffPCA():\n",
    "    from sklearn.cluster import SpectralClustering\n",
    "    scores_pca = []\n",
    "    for sample in [X_pca1, X_pca2, X_pca3, X_pca4]:\n",
    "        model = SpectralClustering(n_clusters=num_clust).fit(sample)\n",
    "        labels = model.labels_\n",
    "        scores_pca.append(metrics.silhouette_score(sample, labels, metric='euclidean'))\n",
    "    print('Silhouette Score w/ PCA Mean:', np.mean(scores_pca))\n",
    "    print('Silhouette Score w/ PCA StdDev:', np.std(scores_pca))\n",
    "    \n",
    "def affinitySilCoeff():\n",
    "    from sklearn.cluster import AffinityPropagation\n",
    "    from sklearn import metrics\n",
    "    scores = []\n",
    "    for sample in [X1, X2, X3, X4]:\n",
    "        model = AffinityPropagation().fit(sample)\n",
    "        labels = model.labels_\n",
    "        scores.append(metrics.silhouette_score(sample, labels, metric='euclidean'))\n",
    "    print('\\nAffinity Propagation:')\n",
    "    print('Silhouette Score Mean:', np.mean(scores))\n",
    "    print('Silhouette Score StdDev:', np.std(scores))\n",
    "    \n",
    "def affinitySilCoeffPCA():\n",
    "    from sklearn.cluster import AffinityPropagation\n",
    "    from sklearn import metrics\n",
    "    scores_pca = []\n",
    "    for sample in [X_pca1, X_pca2, X_pca3, X_pca4]:\n",
    "        model = AffinityPropagation().fit(sample)\n",
    "        labels = model.labels_\n",
    "        scores_pca.append(metrics.silhouette_score(sample, labels, metric='euclidean'))\n",
    "    print('Silhouette Score w/ PCA Mean:', np.mean(scores_pca))\n",
    "    print('Silhouette Score w/ PCA StdDev:', np.std(scores_pca))"
   ]
  },
  {
   "cell_type": "code",
   "execution_count": 14,
   "metadata": {},
   "outputs": [
    {
     "name": "stdout",
     "output_type": "stream",
     "text": [
      "\n",
      "K-Means:\n",
      "Silhouette Score Mean: 0.7297151903860846\n",
      "Silhouette Score StdDev: 0.004053962626368842\n",
      "Silhouette Score w/ PCA Mean: 0.7349148238292107\n",
      "Silhouette Score w/ PCA StdDev: 0.003906399936062317\n",
      "\n",
      "Mean Shift:\n",
      "Silhouette Score Mean: 0.7176660133835311\n",
      "Silhouette Score StdDev: 0.022918123633098805\n",
      "Silhouette Score w/ PCA Mean: 0.7373921459695514\n",
      "Silhouette Score w/ PCA StdDev: 0.022728185510277093\n",
      "\n",
      "Spectral Clustering:\n",
      "Silhouette Score Mean: 0.7296572010797956\n",
      "Silhouette Score StdDev: 0.004052945149773051\n",
      "Silhouette Score w/ PCA Mean: 0.7348655642527496\n",
      "Silhouette Score w/ PCA StdDev: 0.0039044504765729034\n",
      "\n",
      "Affinity Propagation:\n",
      "Silhouette Score Mean: 0.1164772039329344\n",
      "Silhouette Score StdDev: 0.05732691321277479\n",
      "Silhouette Score w/ PCA Mean: 0.12412563686234952\n",
      "Silhouette Score w/ PCA StdDev: 0.07066118170866095\n"
     ]
    }
   ],
   "source": [
    "# View results.\n",
    "kMeansSilCoeff()\n",
    "kMeansSilCoeffPCA()\n",
    "meanShiftSilCoeff()\n",
    "meanShiftSilCoeffPCA()\n",
    "spectralClusterSilCoeff()\n",
    "spectralClusterSilCoeffPCA()\n",
    "affinitySilCoeff()\n",
    "affinitySilCoeffPCA()"
   ]
  },
  {
   "cell_type": "code",
   "execution_count": 15,
   "metadata": {},
   "outputs": [],
   "source": [
    "# Visualizing the clusters.\n",
    "\n",
    "\n",
    "\n"
   ]
  }
 ],
 "metadata": {
  "kernelspec": {
   "display_name": "Python 3",
   "language": "python",
   "name": "python3"
  },
  "language_info": {
   "codemirror_mode": {
    "name": "ipython",
    "version": 3
   },
   "file_extension": ".py",
   "mimetype": "text/x-python",
   "name": "python",
   "nbconvert_exporter": "python",
   "pygments_lexer": "ipython3",
   "version": "3.7.0"
  }
 },
 "nbformat": 4,
 "nbformat_minor": 2
}
