{
 "cells": [
  {
   "cell_type": "markdown",
   "metadata": {},
   "source": [
    "# Build an NLP Model"
   ]
  },
  {
   "cell_type": "code",
   "execution_count": 1,
   "metadata": {},
   "outputs": [
    {
     "name": "stderr",
     "output_type": "stream",
     "text": [
      "c:\\users\\mewing_user\\appdata\\local\\programs\\python\\python37\\lib\\site-packages\\sklearn\\ensemble\\weight_boosting.py:29: DeprecationWarning: numpy.core.umath_tests is an internal NumPy module and should not be imported. It will be removed in a future NumPy release.\n",
      "  from numpy.core.umath_tests import inner1d\n"
     ]
    }
   ],
   "source": [
    "# Import Modules:\n",
    "import time\n",
    "import math\n",
    "import pandas as pd\n",
    "import numpy as np\n",
    "import seaborn as sns\n",
    "import matplotlib.pyplot as plt\n",
    "\n",
    "from scipy import stats\n",
    "from scipy.stats import norm\n",
    "from sklearn.preprocessing import StandardScaler\n",
    "from sklearn.model_selection import train_test_split\n",
    "from sklearn.model_selection import cross_val_score\n",
    "from sklearn.neighbors import KNeighborsClassifier\n",
    "from sklearn.metrics import f1_score, confusion_matrix\n",
    "from sklearn.metrics import roc_auc_score, auc, roc_curve\n",
    "from sklearn.ensemble import RandomForestClassifier\n",
    "from sklearn.decomposition import PCA\n",
    "from sklearn.linear_model import LogisticRegression\n",
    "from sklearn.svm import SVC\n",
    "from sklearn.ensemble import GradientBoostingClassifier\n",
    "\n",
    "import spacy\n",
    "# Source texts.\n",
    "from nltk.corpus import stopwords, gutenberg, inaugural\n",
    "from collections import Counter\n",
    "\n",
    "# Aesthetics.\n",
    "%matplotlib inline"
   ]
  },
  {
   "cell_type": "markdown",
   "metadata": {},
   "source": [
    "## Data cleaning / Processing / Language Processing"
   ]
  },
  {
   "cell_type": "code",
   "execution_count": 2,
   "metadata": {},
   "outputs": [
    {
     "name": "stdout",
     "output_type": "stream",
     "text": [
      "1789-Washington.txt\n",
      "1793-Washington.txt\n",
      "1797-Adams.txt\n",
      "1801-Jefferson.txt\n",
      "1805-Jefferson.txt\n",
      "1809-Madison.txt\n",
      "1813-Madison.txt\n",
      "1817-Monroe.txt\n",
      "1821-Monroe.txt\n",
      "1825-Adams.txt\n",
      "1829-Jackson.txt\n",
      "1833-Jackson.txt\n",
      "1837-VanBuren.txt\n",
      "1841-Harrison.txt\n",
      "1845-Polk.txt\n",
      "1849-Taylor.txt\n",
      "1853-Pierce.txt\n",
      "1857-Buchanan.txt\n",
      "1861-Lincoln.txt\n",
      "1865-Lincoln.txt\n",
      "1869-Grant.txt\n",
      "1873-Grant.txt\n",
      "1877-Hayes.txt\n",
      "1881-Garfield.txt\n",
      "1885-Cleveland.txt\n",
      "1889-Harrison.txt\n",
      "1893-Cleveland.txt\n",
      "1897-McKinley.txt\n",
      "1901-McKinley.txt\n",
      "1905-Roosevelt.txt\n",
      "1909-Taft.txt\n",
      "1913-Wilson.txt\n",
      "1917-Wilson.txt\n",
      "1921-Harding.txt\n",
      "1925-Coolidge.txt\n",
      "1929-Hoover.txt\n",
      "1933-Roosevelt.txt\n",
      "1937-Roosevelt.txt\n",
      "1941-Roosevelt.txt\n",
      "1945-Roosevelt.txt\n",
      "1949-Truman.txt\n",
      "1953-Eisenhower.txt\n",
      "1957-Eisenhower.txt\n",
      "1961-Kennedy.txt\n",
      "1965-Johnson.txt\n",
      "1969-Nixon.txt\n",
      "1973-Nixon.txt\n",
      "1977-Carter.txt\n",
      "1981-Reagan.txt\n",
      "1985-Reagan.txt\n",
      "1989-Bush.txt\n",
      "1993-Clinton.txt\n",
      "1997-Clinton.txt\n",
      "2001-Bush.txt\n",
      "2005-Bush.txt\n",
      "2009-Obama.txt\n"
     ]
    }
   ],
   "source": [
    "# Capture the speeches.\n",
    "gutenberg_addresses = inaugural.fileids()\n",
    "\n",
    "# We can view the available speeches.\n",
    "for speech in gutenberg_addresses:\n",
    "    print(speech)"
   ]
  },
  {
   "cell_type": "code",
   "execution_count": 3,
   "metadata": {},
   "outputs": [],
   "source": [
    "# Loading the speeches.\n",
    "# Data source: http://www.nltk.org/nltk_data/\n",
    "kennedy = inaugural.raw('1961-Kennedy.txt')\n",
    "johnson = inaugural.raw('1965-Johnson.txt')\n",
    "\n"
   ]
  },
  {
   "cell_type": "code",
   "execution_count": 4,
   "metadata": {},
   "outputs": [],
   "source": [
    "# Parse using SpaCy.\n",
    "#nlp = spacy.load('en')\n",
    "nlp = spacy.load('en_core_web_sm')\n",
    "kennedy_doc = nlp(kennedy)\n",
    "johnson_doc = nlp(johnson)"
   ]
  },
  {
   "cell_type": "code",
   "execution_count": 5,
   "metadata": {},
   "outputs": [],
   "source": [
    "# Group into sentences.\n",
    "kennedy_sents = [[sent, 'Kennedy'] for sent in kennedy_doc.sents]\n",
    "johnson_sents = [[sent, 'Johnson'] for sent in johnson_doc.sents]"
   ]
  },
  {
   "cell_type": "code",
   "execution_count": 6,
   "metadata": {},
   "outputs": [
    {
     "data": {
      "text/html": [
       "<div>\n",
       "<style scoped>\n",
       "    .dataframe tbody tr th:only-of-type {\n",
       "        vertical-align: middle;\n",
       "    }\n",
       "\n",
       "    .dataframe tbody tr th {\n",
       "        vertical-align: top;\n",
       "    }\n",
       "\n",
       "    .dataframe thead th {\n",
       "        text-align: right;\n",
       "    }\n",
       "</style>\n",
       "<table border=\"1\" class=\"dataframe\">\n",
       "  <thead>\n",
       "    <tr style=\"text-align: right;\">\n",
       "      <th></th>\n",
       "      <th>0</th>\n",
       "      <th>1</th>\n",
       "    </tr>\n",
       "  </thead>\n",
       "  <tbody>\n",
       "    <tr>\n",
       "      <th>0</th>\n",
       "      <td>(Vice, President, Johnson, ,, Mr., Speaker, ,,...</td>\n",
       "      <td>Kennedy</td>\n",
       "    </tr>\n",
       "    <tr>\n",
       "      <th>1</th>\n",
       "      <td>(For, I, have, sworn, I, before, you, and, Alm...</td>\n",
       "      <td>Kennedy</td>\n",
       "    </tr>\n",
       "    <tr>\n",
       "      <th>2</th>\n",
       "      <td>(The, world, is, very, different, now, .)</td>\n",
       "      <td>Kennedy</td>\n",
       "    </tr>\n",
       "    <tr>\n",
       "      <th>3</th>\n",
       "      <td>(For, man, holds, in, his, mortal, hands, the,...</td>\n",
       "      <td>Kennedy</td>\n",
       "    </tr>\n",
       "    <tr>\n",
       "      <th>4</th>\n",
       "      <td>(And, yet, the, same, revolutionary, beliefs, ...</td>\n",
       "      <td>Kennedy</td>\n",
       "    </tr>\n",
       "  </tbody>\n",
       "</table>\n",
       "</div>"
      ],
      "text/plain": [
       "                                                   0        1\n",
       "0  (Vice, President, Johnson, ,, Mr., Speaker, ,,...  Kennedy\n",
       "1  (For, I, have, sworn, I, before, you, and, Alm...  Kennedy\n",
       "2          (The, world, is, very, different, now, .)  Kennedy\n",
       "3  (For, man, holds, in, his, mortal, hands, the,...  Kennedy\n",
       "4  (And, yet, the, same, revolutionary, beliefs, ...  Kennedy"
      ]
     },
     "execution_count": 6,
     "metadata": {},
     "output_type": "execute_result"
    }
   ],
   "source": [
    "# Combine the sentences from the speeches into one dataframe.\n",
    "sentences = pd.DataFrame(kennedy_sents + johnson_sents)\n",
    "\n",
    "# View.\n",
    "sentences.head()"
   ]
  },
  {
   "cell_type": "code",
   "execution_count": 7,
   "metadata": {},
   "outputs": [
    {
     "data": {
      "text/html": [
       "<div>\n",
       "<style scoped>\n",
       "    .dataframe tbody tr th:only-of-type {\n",
       "        vertical-align: middle;\n",
       "    }\n",
       "\n",
       "    .dataframe tbody tr th {\n",
       "        vertical-align: top;\n",
       "    }\n",
       "\n",
       "    .dataframe thead th {\n",
       "        text-align: right;\n",
       "    }\n",
       "</style>\n",
       "<table border=\"1\" class=\"dataframe\">\n",
       "  <thead>\n",
       "    <tr style=\"text-align: right;\">\n",
       "      <th></th>\n",
       "      <th>0</th>\n",
       "      <th>1</th>\n",
       "    </tr>\n",
       "  </thead>\n",
       "  <tbody>\n",
       "    <tr>\n",
       "      <th>146</th>\n",
       "      <td>(We, welcome, it, --, and, we, will, bend, it,...</td>\n",
       "      <td>Johnson</td>\n",
       "    </tr>\n",
       "    <tr>\n",
       "      <th>147</th>\n",
       "      <td>(To, these, trusted, public, servants, and, to...</td>\n",
       "      <td>Johnson</td>\n",
       "    </tr>\n",
       "    <tr>\n",
       "      <th>148</th>\n",
       "      <td>(But, you, must, look, within, your, own, hear...</td>\n",
       "      <td>Johnson</td>\n",
       "    </tr>\n",
       "    <tr>\n",
       "      <th>149</th>\n",
       "      <td>(They, will, lead, you, best, of, all, ., \\n\\n)</td>\n",
       "      <td>Johnson</td>\n",
       "    </tr>\n",
       "    <tr>\n",
       "      <th>150</th>\n",
       "      <td>(For, myself, ,, I, ask, only, ,, in, the, wor...</td>\n",
       "      <td>Johnson</td>\n",
       "    </tr>\n",
       "  </tbody>\n",
       "</table>\n",
       "</div>"
      ],
      "text/plain": [
       "                                                     0        1\n",
       "146  (We, welcome, it, --, and, we, will, bend, it,...  Johnson\n",
       "147  (To, these, trusted, public, servants, and, to...  Johnson\n",
       "148  (But, you, must, look, within, your, own, hear...  Johnson\n",
       "149    (They, will, lead, you, best, of, all, ., \\n\\n)  Johnson\n",
       "150  (For, myself, ,, I, ask, only, ,, in, the, wor...  Johnson"
      ]
     },
     "execution_count": 7,
     "metadata": {},
     "output_type": "execute_result"
    }
   ],
   "source": [
    "sentences.tail()"
   ]
  },
  {
   "cell_type": "code",
   "execution_count": 8,
   "metadata": {},
   "outputs": [
    {
     "data": {
      "text/plain": [
       "Vice President Johnson, Mr. Speaker, Mr. Chief Justice, President Eisenhower, Vice President Nixon, President Truman, reverend clergy, fellow citizens, we observe today not a victory of party, but a celebration of freedom -- symbolizing an end, as well as a beginning -- signifying renewal, as well as change. For I have sworn I before you and Almighty God the same solemn oath our forebears l prescribed nearly a century and three quarters ago.\n",
       "\n",
       "The world is very different now. For man holds in his mortal"
      ]
     },
     "execution_count": 8,
     "metadata": {},
     "output_type": "execute_result"
    }
   ],
   "source": [
    "kennedy_doc[:100]"
   ]
  },
  {
   "cell_type": "code",
   "execution_count": 9,
   "metadata": {},
   "outputs": [
    {
     "data": {
      "text/plain": [
       "My fellow countrymen, on this occasion, the oath I have taken before you and before God is not mine alone, but ours together. We are one nation and one people. Our fate as a nation and our future as a people rest not upon one citizen, but upon all citizens.\n",
       "\n",
       "This is the majesty and the meaning of this moment.\n",
       "\n",
       "For every generation, there is a destiny. For some, history decides. For this generation, the choice must be our own.\n",
       "\n",
       "Even now,"
      ]
     },
     "execution_count": 9,
     "metadata": {},
     "output_type": "execute_result"
    }
   ],
   "source": [
    "johnson_doc[:100]"
   ]
  },
  {
   "cell_type": "markdown",
   "metadata": {},
   "source": [
    "## Create features using BoW"
   ]
  },
  {
   "cell_type": "code",
   "execution_count": 10,
   "metadata": {},
   "outputs": [],
   "source": [
    "# Utility function to create a list of the 500 most common words.\n",
    "def bag_of_words(text):\n",
    "    allwords = [token.lemma_\n",
    "                for token in text\n",
    "                if not token.is_punct\n",
    "                and not token.is_stop]\n",
    "    return [item[0] for item in Counter(allwords).most_common(500)]\n",
    "\n",
    "# Creates a data frame with features for each word in our common word set.\n",
    "# Each value is the count of the times the word appears in each sentence.\n",
    "def bow_features(sentences, common_words):\n",
    "    df = pd.DataFrame(columns=common_words)\n",
    "    df['text_sentence'] = sentences[0]\n",
    "    df['text_source'] = sentences[1]\n",
    "    df.loc[:, common_words] = 0\n",
    "    for i, sentence in enumerate(df['text_sentence']):\n",
    "        words = [token.lemma_\n",
    "                 for token in sentence\n",
    "                 if (\n",
    "                     not token.is_punct\n",
    "                     and not token.is_stop\n",
    "                     and token.lemma_ in common_words\n",
    "                 )]\n",
    "        for word in words:\n",
    "            df.loc[i, word] += 1\n",
    "        if i % 50 == 0:\n",
    "            print(\"Processing row {}\".format(i))\n",
    "    return df"
   ]
  },
  {
   "cell_type": "code",
   "execution_count": 11,
   "metadata": {},
   "outputs": [],
   "source": [
    "# Set up the bags.\n",
    "kennedy_words = bag_of_words(kennedy_doc)\n",
    "johnson_words = bag_of_words(johnson_doc)"
   ]
  },
  {
   "cell_type": "code",
   "execution_count": 12,
   "metadata": {},
   "outputs": [],
   "source": [
    "# Combine bags to create common set of unique words.\n",
    "common_words = set(kennedy_words + johnson_words)"
   ]
  },
  {
   "cell_type": "code",
   "execution_count": 13,
   "metadata": {},
   "outputs": [
    {
     "name": "stdout",
     "output_type": "stream",
     "text": [
      "Processing row 0\n",
      "Processing row 50\n",
      "Processing row 100\n",
      "Processing row 150\n"
     ]
    },
    {
     "data": {
      "text/html": [
       "<div>\n",
       "<style scoped>\n",
       "    .dataframe tbody tr th:only-of-type {\n",
       "        vertical-align: middle;\n",
       "    }\n",
       "\n",
       "    .dataframe tbody tr th {\n",
       "        vertical-align: top;\n",
       "    }\n",
       "\n",
       "    .dataframe thead th {\n",
       "        text-align: right;\n",
       "    }\n",
       "</style>\n",
       "<table border=\"1\" class=\"dataframe\">\n",
       "  <thead>\n",
       "    <tr style=\"text-align: right;\">\n",
       "      <th></th>\n",
       "      <th>dot</th>\n",
       "      <th>final</th>\n",
       "      <th>achieve</th>\n",
       "      <th>colonial</th>\n",
       "      <th>grant</th>\n",
       "      <th>scholar</th>\n",
       "      <th>help</th>\n",
       "      <th>defeat</th>\n",
       "      <th>hatred</th>\n",
       "      <th>assure</th>\n",
       "      <th>...</th>\n",
       "      <th>common</th>\n",
       "      <th>freedom</th>\n",
       "      <th>steady</th>\n",
       "      <th>lifetime</th>\n",
       "      <th>leader</th>\n",
       "      <th>overburden</th>\n",
       "      <th>conquer</th>\n",
       "      <th>fight</th>\n",
       "      <th>text_sentence</th>\n",
       "      <th>text_source</th>\n",
       "    </tr>\n",
       "  </thead>\n",
       "  <tbody>\n",
       "    <tr>\n",
       "      <th>0</th>\n",
       "      <td>0</td>\n",
       "      <td>0</td>\n",
       "      <td>0</td>\n",
       "      <td>0</td>\n",
       "      <td>0</td>\n",
       "      <td>0</td>\n",
       "      <td>0</td>\n",
       "      <td>0</td>\n",
       "      <td>0</td>\n",
       "      <td>0</td>\n",
       "      <td>...</td>\n",
       "      <td>0</td>\n",
       "      <td>1</td>\n",
       "      <td>0</td>\n",
       "      <td>0</td>\n",
       "      <td>0</td>\n",
       "      <td>0</td>\n",
       "      <td>0</td>\n",
       "      <td>0</td>\n",
       "      <td>(Vice, President, Johnson, ,, Mr., Speaker, ,,...</td>\n",
       "      <td>Kennedy</td>\n",
       "    </tr>\n",
       "    <tr>\n",
       "      <th>1</th>\n",
       "      <td>0</td>\n",
       "      <td>0</td>\n",
       "      <td>0</td>\n",
       "      <td>0</td>\n",
       "      <td>0</td>\n",
       "      <td>0</td>\n",
       "      <td>0</td>\n",
       "      <td>0</td>\n",
       "      <td>0</td>\n",
       "      <td>0</td>\n",
       "      <td>...</td>\n",
       "      <td>0</td>\n",
       "      <td>0</td>\n",
       "      <td>0</td>\n",
       "      <td>0</td>\n",
       "      <td>0</td>\n",
       "      <td>0</td>\n",
       "      <td>0</td>\n",
       "      <td>0</td>\n",
       "      <td>(For, I, have, sworn, I, before, you, and, Alm...</td>\n",
       "      <td>Kennedy</td>\n",
       "    </tr>\n",
       "    <tr>\n",
       "      <th>2</th>\n",
       "      <td>0</td>\n",
       "      <td>0</td>\n",
       "      <td>0</td>\n",
       "      <td>0</td>\n",
       "      <td>0</td>\n",
       "      <td>0</td>\n",
       "      <td>0</td>\n",
       "      <td>0</td>\n",
       "      <td>0</td>\n",
       "      <td>0</td>\n",
       "      <td>...</td>\n",
       "      <td>0</td>\n",
       "      <td>0</td>\n",
       "      <td>0</td>\n",
       "      <td>0</td>\n",
       "      <td>0</td>\n",
       "      <td>0</td>\n",
       "      <td>0</td>\n",
       "      <td>0</td>\n",
       "      <td>(The, world, is, very, different, now, .)</td>\n",
       "      <td>Kennedy</td>\n",
       "    </tr>\n",
       "    <tr>\n",
       "      <th>3</th>\n",
       "      <td>0</td>\n",
       "      <td>0</td>\n",
       "      <td>0</td>\n",
       "      <td>0</td>\n",
       "      <td>0</td>\n",
       "      <td>0</td>\n",
       "      <td>0</td>\n",
       "      <td>0</td>\n",
       "      <td>0</td>\n",
       "      <td>0</td>\n",
       "      <td>...</td>\n",
       "      <td>0</td>\n",
       "      <td>0</td>\n",
       "      <td>0</td>\n",
       "      <td>0</td>\n",
       "      <td>0</td>\n",
       "      <td>0</td>\n",
       "      <td>0</td>\n",
       "      <td>0</td>\n",
       "      <td>(For, man, holds, in, his, mortal, hands, the,...</td>\n",
       "      <td>Kennedy</td>\n",
       "    </tr>\n",
       "    <tr>\n",
       "      <th>4</th>\n",
       "      <td>0</td>\n",
       "      <td>0</td>\n",
       "      <td>0</td>\n",
       "      <td>0</td>\n",
       "      <td>0</td>\n",
       "      <td>0</td>\n",
       "      <td>0</td>\n",
       "      <td>0</td>\n",
       "      <td>0</td>\n",
       "      <td>0</td>\n",
       "      <td>...</td>\n",
       "      <td>0</td>\n",
       "      <td>0</td>\n",
       "      <td>0</td>\n",
       "      <td>0</td>\n",
       "      <td>0</td>\n",
       "      <td>0</td>\n",
       "      <td>0</td>\n",
       "      <td>1</td>\n",
       "      <td>(And, yet, the, same, revolutionary, beliefs, ...</td>\n",
       "      <td>Kennedy</td>\n",
       "    </tr>\n",
       "  </tbody>\n",
       "</table>\n",
       "<p>5 rows × 670 columns</p>\n",
       "</div>"
      ],
      "text/plain": [
       "  dot final achieve colonial grant scholar help defeat hatred assure  \\\n",
       "0   0     0       0        0     0       0    0      0      0      0   \n",
       "1   0     0       0        0     0       0    0      0      0      0   \n",
       "2   0     0       0        0     0       0    0      0      0      0   \n",
       "3   0     0       0        0     0       0    0      0      0      0   \n",
       "4   0     0       0        0     0       0    0      0      0      0   \n",
       "\n",
       "      ...     common freedom steady lifetime leader overburden conquer fight  \\\n",
       "0     ...          0       1      0        0      0          0       0     0   \n",
       "1     ...          0       0      0        0      0          0       0     0   \n",
       "2     ...          0       0      0        0      0          0       0     0   \n",
       "3     ...          0       0      0        0      0          0       0     0   \n",
       "4     ...          0       0      0        0      0          0       0     1   \n",
       "\n",
       "                                       text_sentence text_source  \n",
       "0  (Vice, President, Johnson, ,, Mr., Speaker, ,,...     Kennedy  \n",
       "1  (For, I, have, sworn, I, before, you, and, Alm...     Kennedy  \n",
       "2          (The, world, is, very, different, now, .)     Kennedy  \n",
       "3  (For, man, holds, in, his, mortal, hands, the,...     Kennedy  \n",
       "4  (And, yet, the, same, revolutionary, beliefs, ...     Kennedy  \n",
       "\n",
       "[5 rows x 670 columns]"
      ]
     },
     "execution_count": 13,
     "metadata": {},
     "output_type": "execute_result"
    }
   ],
   "source": [
    "# Create BoW features.\n",
    "word_counts = bow_features(sentences, common_words)\n",
    "word_counts.head()"
   ]
  },
  {
   "cell_type": "markdown",
   "metadata": {},
   "source": [
    "## Create features using TF-IDF"
   ]
  },
  {
   "cell_type": "code",
   "execution_count": 14,
   "metadata": {},
   "outputs": [],
   "source": [
    "# Loading the speeches, this time as sentences.\n",
    "# Data source: http://www.nltk.org/nltk_data/\n",
    "kennedy = inaugural.sents('1961-Kennedy.txt')\n",
    "johnson = inaugural.sents('1965-Johnson.txt')"
   ]
  },
  {
   "cell_type": "code",
   "execution_count": 15,
   "metadata": {},
   "outputs": [],
   "source": [
    "# Create list of text.\n",
    "kennedy_list = [\" \".join(sent) for sent in kennedy]\n",
    "johnson_list = [\" \".join(sent) for sent in johnson]"
   ]
  },
  {
   "cell_type": "code",
   "execution_count": 16,
   "metadata": {},
   "outputs": [],
   "source": [
    "# Combine.\n",
    "combined = kennedy_list + johnson_list"
   ]
  },
  {
   "cell_type": "code",
   "execution_count": 17,
   "metadata": {},
   "outputs": [],
   "source": [
    "# Vectorizer.\n",
    "from sklearn.feature_extraction.text import TfidfVectorizer\n",
    "\n",
    "vectorizer = TfidfVectorizer(max_df = 0.5,\n",
    "                             min_df = 2,\n",
    "                             stop_words = 'english',\n",
    "                             use_idf = True,\n",
    "                             norm = u'l2',\n",
    "                             smooth_idf = True)\n",
    "\n",
    "tfidf = vectorizer.fit_transform(combined).tocsr()"
   ]
  },
  {
   "cell_type": "code",
   "execution_count": 18,
   "metadata": {},
   "outputs": [],
   "source": [
    "mle_tfidf = vectorizer.fit_transform(combined)"
   ]
  },
  {
   "cell_type": "markdown",
   "metadata": {},
   "source": [
    "## Assign Features & Target"
   ]
  },
  {
   "cell_type": "code",
   "execution_count": 19,
   "metadata": {},
   "outputs": [],
   "source": [
    "# BoW.\n",
    "X_bow = word_counts.drop(['text_sentence', 'text_source'], 1)\n",
    "Y_bow = word_counts['text_source']\n",
    "\n",
    "# tfidf.\n",
    "X_tfidf = tfidf\n",
    "Y_tfidf = ['Kennedy']*len(kennedy_list) + ['Johnson']*len(johnson_list)"
   ]
  },
  {
   "cell_type": "markdown",
   "metadata": {},
   "source": [
    "## Supervised Learning - BoW"
   ]
  },
  {
   "cell_type": "code",
   "execution_count": 20,
   "metadata": {},
   "outputs": [
    {
     "name": "stdout",
     "output_type": "stream",
     "text": [
      "CV: [0.74193548 0.70967742 0.64516129 0.68965517 0.65517241]\n",
      "Mean CV: 0.6883203559510568\n",
      "Std CV: 0.03547951197330906\n"
     ]
    }
   ],
   "source": [
    "from sklearn.neighbors import KNeighborsClassifier\n",
    "knn = KNeighborsClassifier()\n",
    "knn_bow = knn.fit(X_bow, Y_bow)\n",
    "cvScores = cross_val_score(knn_bow, X_bow, Y_bow, cv = 5)\n",
    "print('CV:', cvScores)\n",
    "print('Mean CV:', np.mean(cvScores))\n",
    "print('Std CV:', np.std(cvScores))"
   ]
  },
  {
   "cell_type": "code",
   "execution_count": 21,
   "metadata": {},
   "outputs": [
    {
     "name": "stdout",
     "output_type": "stream",
     "text": [
      "CV: [0.70967742 0.77419355 0.77419355 0.65517241 0.65517241]\n",
      "Mean CV: 0.7136818687430477\n",
      "Std CV: 0.05326551416943215\n"
     ]
    }
   ],
   "source": [
    "from sklearn.linear_model import LogisticRegression\n",
    "lr = LogisticRegression()\n",
    "lr_bow = lr.fit(X_bow, Y_bow)\n",
    "cvScores = cross_val_score(lr_bow, X_bow, Y_bow, cv = 5)\n",
    "print('CV:', cvScores)\n",
    "print('Mean CV:', np.mean(cvScores))\n",
    "print('Std CV:', np.std(cvScores))"
   ]
  },
  {
   "cell_type": "code",
   "execution_count": 22,
   "metadata": {},
   "outputs": [
    {
     "name": "stdout",
     "output_type": "stream",
     "text": [
      "CV: [0.74193548 0.70967742 0.70967742 0.72413793 0.65517241]\n",
      "Mean CV: 0.7081201334816463\n",
      "Std CV: 0.02901158065047279\n"
     ]
    }
   ],
   "source": [
    "from sklearn import ensemble\n",
    "rfc = ensemble.RandomForestClassifier()\n",
    "rfc_bow = rfc.fit(X_bow, Y_bow)\n",
    "cvScores = cross_val_score(rfc_bow, X_bow, Y_bow, cv = 5)\n",
    "print('CV:', cvScores)\n",
    "print('Mean CV:', np.mean(cvScores))\n",
    "print('Std CV:', np.std(cvScores))"
   ]
  },
  {
   "cell_type": "code",
   "execution_count": 23,
   "metadata": {},
   "outputs": [
    {
     "name": "stdout",
     "output_type": "stream",
     "text": [
      "CV: [0.77419355 0.77419355 0.83870968 0.62068966 0.68965517]\n",
      "Mean CV: 0.739488320355951\n",
      "Std CV: 0.07596084371056748\n"
     ]
    }
   ],
   "source": [
    "# Gradient Boosting.\n",
    "from sklearn import ensemble\n",
    "clf = ensemble.GradientBoostingClassifier()\n",
    "clf_bow = clf.fit(X_bow, Y_bow)\n",
    "cvScores = cross_val_score(clf_bow, X_bow, Y_bow, cv = 5)\n",
    "print('CV:', cvScores)\n",
    "print('Mean CV:', np.mean(cvScores))\n",
    "print('Std CV:', np.std(cvScores))"
   ]
  },
  {
   "cell_type": "markdown",
   "metadata": {},
   "source": [
    "# Supervised Learning - TFIDF"
   ]
  },
  {
   "cell_type": "code",
   "execution_count": 24,
   "metadata": {},
   "outputs": [
    {
     "name": "stdout",
     "output_type": "stream",
     "text": [
      "CV: [0.74193548 0.70967742 0.64516129 0.68965517 0.65517241]\n",
      "Mean CV: 0.6883203559510568\n",
      "Std CV: 0.03547951197330906\n"
     ]
    }
   ],
   "source": [
    "from sklearn.neighbors import KNeighborsClassifier\n",
    "knn = KNeighborsClassifier()\n",
    "knn_bow = knn.fit(X_bow, Y_bow)\n",
    "cvScores = cross_val_score(knn_bow, X_bow, Y_bow, cv = 5)\n",
    "print('CV:', cvScores)\n",
    "print('Mean CV:', np.mean(cvScores))\n",
    "print('Std CV:', np.std(cvScores))"
   ]
  },
  {
   "cell_type": "code",
   "execution_count": 25,
   "metadata": {},
   "outputs": [
    {
     "name": "stdout",
     "output_type": "stream",
     "text": [
      "CV: [0.63333333 0.66666667 0.65517241 0.68965517 0.64285714]\n",
      "Mean CV: 0.6575369458128079\n",
      "Std CV: 0.019605278709610614\n"
     ]
    }
   ],
   "source": [
    "from sklearn.linear_model import LogisticRegression\n",
    "lr = LogisticRegression()\n",
    "lr_tfidf = lr.fit(X_tfidf, Y_tfidf)\n",
    "cvScores = cross_val_score(lr_tfidf, X_tfidf, Y_tfidf, cv = 5)\n",
    "print('CV:', cvScores)\n",
    "print('Mean CV:', np.mean(cvScores))\n",
    "print('Std CV:', np.std(cvScores))"
   ]
  },
  {
   "cell_type": "code",
   "execution_count": 26,
   "metadata": {},
   "outputs": [
    {
     "name": "stdout",
     "output_type": "stream",
     "text": [
      "CV: [0.66666667 0.7        0.82758621 0.65517241 0.67857143]\n",
      "Mean CV: 0.7055993431855502\n",
      "Std CV: 0.06277146523607541\n"
     ]
    }
   ],
   "source": [
    "from sklearn import ensemble\n",
    "rfc = ensemble.RandomForestClassifier()\n",
    "rfc_tfidf = rfc.fit(X_tfidf, Y_tfidf)\n",
    "cvScores = cross_val_score(rfc_tfidf, X_tfidf, Y_tfidf, cv = 5)\n",
    "print('CV:', cvScores)\n",
    "print('Mean CV:', np.mean(cvScores))\n",
    "print('Std CV:', np.std(cvScores))"
   ]
  },
  {
   "cell_type": "code",
   "execution_count": 27,
   "metadata": {},
   "outputs": [
    {
     "name": "stdout",
     "output_type": "stream",
     "text": [
      "CV: [0.73333333 0.76666667 0.86206897 0.68965517 0.64285714]\n",
      "Mean CV: 0.7389162561576355\n",
      "Std CV: 0.07432610813568558\n"
     ]
    }
   ],
   "source": [
    "# Gradient Boosting.\n",
    "from sklearn import ensemble\n",
    "clf = ensemble.GradientBoostingClassifier()\n",
    "clf_tfidf = clf.fit(X_tfidf, Y_tfidf)\n",
    "cvScores = cross_val_score(clf_tfidf, X_tfidf, Y_tfidf, cv = 5)\n",
    "print('CV:', cvScores)\n",
    "print('Mean CV:', np.mean(cvScores))\n",
    "print('Std CV:', np.std(cvScores))"
   ]
  },
  {
   "cell_type": "markdown",
   "metadata": {},
   "source": [
    "Gradient Boosting with TF-IDF features are best performer, but had the most variability. GB with BoW had similar results. Random Forest BoW was second best & had more consistent scores."
   ]
  },
  {
   "cell_type": "markdown",
   "metadata": {},
   "source": [
    "## Try to increase accuracy of Gradient Boosting model"
   ]
  },
  {
   "cell_type": "code",
   "execution_count": 28,
   "metadata": {},
   "outputs": [
    {
     "name": "stdout",
     "output_type": "stream",
     "text": [
      "Processing row 0\n",
      "Processing row 50\n",
      "Processing row 100\n",
      "Processing row 150\n"
     ]
    },
    {
     "data": {
      "text/html": [
       "<div>\n",
       "<style scoped>\n",
       "    .dataframe tbody tr th:only-of-type {\n",
       "        vertical-align: middle;\n",
       "    }\n",
       "\n",
       "    .dataframe tbody tr th {\n",
       "        vertical-align: top;\n",
       "    }\n",
       "\n",
       "    .dataframe thead th {\n",
       "        text-align: right;\n",
       "    }\n",
       "</style>\n",
       "<table border=\"1\" class=\"dataframe\">\n",
       "  <thead>\n",
       "    <tr style=\"text-align: right;\">\n",
       "      <th></th>\n",
       "      <th>dot</th>\n",
       "      <th>final</th>\n",
       "      <th>achieve</th>\n",
       "      <th>colonial</th>\n",
       "      <th>grant</th>\n",
       "      <th>scholar</th>\n",
       "      <th>help</th>\n",
       "      <th>defeat</th>\n",
       "      <th>hatred</th>\n",
       "      <th>assure</th>\n",
       "      <th>...</th>\n",
       "      <th>common</th>\n",
       "      <th>freedom</th>\n",
       "      <th>steady</th>\n",
       "      <th>lifetime</th>\n",
       "      <th>leader</th>\n",
       "      <th>overburden</th>\n",
       "      <th>conquer</th>\n",
       "      <th>fight</th>\n",
       "      <th>text_sentence</th>\n",
       "      <th>text_source</th>\n",
       "    </tr>\n",
       "  </thead>\n",
       "  <tbody>\n",
       "    <tr>\n",
       "      <th>0</th>\n",
       "      <td>0</td>\n",
       "      <td>0</td>\n",
       "      <td>0</td>\n",
       "      <td>0</td>\n",
       "      <td>0</td>\n",
       "      <td>0</td>\n",
       "      <td>0</td>\n",
       "      <td>0</td>\n",
       "      <td>0</td>\n",
       "      <td>0</td>\n",
       "      <td>...</td>\n",
       "      <td>0</td>\n",
       "      <td>1</td>\n",
       "      <td>0</td>\n",
       "      <td>0</td>\n",
       "      <td>0</td>\n",
       "      <td>0</td>\n",
       "      <td>0</td>\n",
       "      <td>0</td>\n",
       "      <td>(Vice, President, Johnson, ,, Mr., Speaker, ,,...</td>\n",
       "      <td>Kennedy</td>\n",
       "    </tr>\n",
       "    <tr>\n",
       "      <th>1</th>\n",
       "      <td>0</td>\n",
       "      <td>0</td>\n",
       "      <td>0</td>\n",
       "      <td>0</td>\n",
       "      <td>0</td>\n",
       "      <td>0</td>\n",
       "      <td>0</td>\n",
       "      <td>0</td>\n",
       "      <td>0</td>\n",
       "      <td>0</td>\n",
       "      <td>...</td>\n",
       "      <td>0</td>\n",
       "      <td>0</td>\n",
       "      <td>0</td>\n",
       "      <td>0</td>\n",
       "      <td>0</td>\n",
       "      <td>0</td>\n",
       "      <td>0</td>\n",
       "      <td>0</td>\n",
       "      <td>(For, I, have, sworn, I, before, you, and, Alm...</td>\n",
       "      <td>Kennedy</td>\n",
       "    </tr>\n",
       "    <tr>\n",
       "      <th>2</th>\n",
       "      <td>0</td>\n",
       "      <td>0</td>\n",
       "      <td>0</td>\n",
       "      <td>0</td>\n",
       "      <td>0</td>\n",
       "      <td>0</td>\n",
       "      <td>0</td>\n",
       "      <td>0</td>\n",
       "      <td>0</td>\n",
       "      <td>0</td>\n",
       "      <td>...</td>\n",
       "      <td>0</td>\n",
       "      <td>0</td>\n",
       "      <td>0</td>\n",
       "      <td>0</td>\n",
       "      <td>0</td>\n",
       "      <td>0</td>\n",
       "      <td>0</td>\n",
       "      <td>0</td>\n",
       "      <td>(The, world, is, very, different, now, .)</td>\n",
       "      <td>Kennedy</td>\n",
       "    </tr>\n",
       "    <tr>\n",
       "      <th>3</th>\n",
       "      <td>0</td>\n",
       "      <td>0</td>\n",
       "      <td>0</td>\n",
       "      <td>0</td>\n",
       "      <td>0</td>\n",
       "      <td>0</td>\n",
       "      <td>0</td>\n",
       "      <td>0</td>\n",
       "      <td>0</td>\n",
       "      <td>0</td>\n",
       "      <td>...</td>\n",
       "      <td>0</td>\n",
       "      <td>0</td>\n",
       "      <td>0</td>\n",
       "      <td>0</td>\n",
       "      <td>0</td>\n",
       "      <td>0</td>\n",
       "      <td>0</td>\n",
       "      <td>0</td>\n",
       "      <td>(For, man, holds, in, his, mortal, hands, the,...</td>\n",
       "      <td>Kennedy</td>\n",
       "    </tr>\n",
       "    <tr>\n",
       "      <th>4</th>\n",
       "      <td>0</td>\n",
       "      <td>0</td>\n",
       "      <td>0</td>\n",
       "      <td>0</td>\n",
       "      <td>0</td>\n",
       "      <td>0</td>\n",
       "      <td>0</td>\n",
       "      <td>0</td>\n",
       "      <td>0</td>\n",
       "      <td>0</td>\n",
       "      <td>...</td>\n",
       "      <td>0</td>\n",
       "      <td>0</td>\n",
       "      <td>0</td>\n",
       "      <td>0</td>\n",
       "      <td>0</td>\n",
       "      <td>0</td>\n",
       "      <td>0</td>\n",
       "      <td>1</td>\n",
       "      <td>(And, yet, the, same, revolutionary, beliefs, ...</td>\n",
       "      <td>Kennedy</td>\n",
       "    </tr>\n",
       "  </tbody>\n",
       "</table>\n",
       "<p>5 rows × 670 columns</p>\n",
       "</div>"
      ],
      "text/plain": [
       "  dot final achieve colonial grant scholar help defeat hatred assure  \\\n",
       "0   0     0       0        0     0       0    0      0      0      0   \n",
       "1   0     0       0        0     0       0    0      0      0      0   \n",
       "2   0     0       0        0     0       0    0      0      0      0   \n",
       "3   0     0       0        0     0       0    0      0      0      0   \n",
       "4   0     0       0        0     0       0    0      0      0      0   \n",
       "\n",
       "      ...     common freedom steady lifetime leader overburden conquer fight  \\\n",
       "0     ...          0       1      0        0      0          0       0     0   \n",
       "1     ...          0       0      0        0      0          0       0     0   \n",
       "2     ...          0       0      0        0      0          0       0     0   \n",
       "3     ...          0       0      0        0      0          0       0     0   \n",
       "4     ...          0       0      0        0      0          0       0     1   \n",
       "\n",
       "                                       text_sentence text_source  \n",
       "0  (Vice, President, Johnson, ,, Mr., Speaker, ,,...     Kennedy  \n",
       "1  (For, I, have, sworn, I, before, you, and, Alm...     Kennedy  \n",
       "2          (The, world, is, very, different, now, .)     Kennedy  \n",
       "3  (For, man, holds, in, his, mortal, hands, the,...     Kennedy  \n",
       "4  (And, yet, the, same, revolutionary, beliefs, ...     Kennedy  \n",
       "\n",
       "[5 rows x 670 columns]"
      ]
     },
     "execution_count": 28,
     "metadata": {},
     "output_type": "execute_result"
    }
   ],
   "source": [
    "# Increase common words in BoW.\n",
    "\n",
    "# Utility function to create a list of the 750 most common words.\n",
    "def bag_of_words(text):\n",
    "    allwords = [token.lemma_\n",
    "                for token in text\n",
    "                if not token.is_punct\n",
    "                and not token.is_stop]\n",
    "    return [item[0] for item in Counter(allwords).most_common(750)]\n",
    "\n",
    "# Set up the bags.\n",
    "kennedy_words = bag_of_words(kennedy_doc)\n",
    "johnson_words = bag_of_words(johnson_doc)\n",
    "\n",
    "# Combine bags to create common set of unique words.\n",
    "common_words = set(kennedy_words + johnson_words)\n",
    "\n",
    "# Creating the new features.\n",
    "word_counts_750 = bow_features(sentences, common_words)\n",
    "word_counts_750.head()"
   ]
  },
  {
   "cell_type": "code",
   "execution_count": 29,
   "metadata": {},
   "outputs": [],
   "source": [
    "# Assign X & Y.\n",
    "X_bow_750 = word_counts_750.drop(['text_sentence', 'text_source'], 1)\n",
    "Y_bow_750 = word_counts_750['text_source']"
   ]
  },
  {
   "cell_type": "code",
   "execution_count": 30,
   "metadata": {},
   "outputs": [
    {
     "name": "stdout",
     "output_type": "stream",
     "text": [
      "CV: [0.80645161 0.77419355 0.83870968 0.62068966 0.68965517]\n",
      "Mean CV: 0.7459399332591768\n",
      "Std CV: 0.07990214269582391\n"
     ]
    }
   ],
   "source": [
    "# Gradient Boosting.\n",
    "from sklearn import ensemble\n",
    "clf = ensemble.GradientBoostingClassifier()\n",
    "clf_bow_750 = clf.fit(X_bow_750, Y_bow_750)\n",
    "cvScores = cross_val_score(clf_bow_750, X_bow_750, Y_bow_750, cv = 5)\n",
    "print('CV:', cvScores)\n",
    "print('Mean CV:', np.mean(cvScores))\n",
    "print('Std CV:', np.std(cvScores))"
   ]
  },
  {
   "cell_type": "markdown",
   "metadata": {},
   "source": [
    "Nope, let's try decreasing the number of common words."
   ]
  },
  {
   "cell_type": "code",
   "execution_count": 31,
   "metadata": {},
   "outputs": [
    {
     "name": "stdout",
     "output_type": "stream",
     "text": [
      "Processing row 0\n",
      "Processing row 50\n",
      "Processing row 100\n",
      "Processing row 150\n"
     ]
    },
    {
     "data": {
      "text/html": [
       "<div>\n",
       "<style scoped>\n",
       "    .dataframe tbody tr th:only-of-type {\n",
       "        vertical-align: middle;\n",
       "    }\n",
       "\n",
       "    .dataframe tbody tr th {\n",
       "        vertical-align: top;\n",
       "    }\n",
       "\n",
       "    .dataframe thead th {\n",
       "        text-align: right;\n",
       "    }\n",
       "</style>\n",
       "<table border=\"1\" class=\"dataframe\">\n",
       "  <thead>\n",
       "    <tr style=\"text-align: right;\">\n",
       "      <th></th>\n",
       "      <th>dot</th>\n",
       "      <th>final</th>\n",
       "      <th>achieve</th>\n",
       "      <th>colonial</th>\n",
       "      <th>scholar</th>\n",
       "      <th>help</th>\n",
       "      <th>hatred</th>\n",
       "      <th>assure</th>\n",
       "      <th>american</th>\n",
       "      <th>stand</th>\n",
       "      <th>...</th>\n",
       "      <th>family</th>\n",
       "      <th>clergy</th>\n",
       "      <th>require</th>\n",
       "      <th>state</th>\n",
       "      <th>victory</th>\n",
       "      <th>freedom</th>\n",
       "      <th>conquer</th>\n",
       "      <th>fight</th>\n",
       "      <th>text_sentence</th>\n",
       "      <th>text_source</th>\n",
       "    </tr>\n",
       "  </thead>\n",
       "  <tbody>\n",
       "    <tr>\n",
       "      <th>0</th>\n",
       "      <td>0</td>\n",
       "      <td>0</td>\n",
       "      <td>0</td>\n",
       "      <td>0</td>\n",
       "      <td>0</td>\n",
       "      <td>0</td>\n",
       "      <td>0</td>\n",
       "      <td>0</td>\n",
       "      <td>0</td>\n",
       "      <td>0</td>\n",
       "      <td>...</td>\n",
       "      <td>0</td>\n",
       "      <td>1</td>\n",
       "      <td>0</td>\n",
       "      <td>0</td>\n",
       "      <td>1</td>\n",
       "      <td>1</td>\n",
       "      <td>0</td>\n",
       "      <td>0</td>\n",
       "      <td>(Vice, President, Johnson, ,, Mr., Speaker, ,,...</td>\n",
       "      <td>Kennedy</td>\n",
       "    </tr>\n",
       "    <tr>\n",
       "      <th>1</th>\n",
       "      <td>0</td>\n",
       "      <td>0</td>\n",
       "      <td>0</td>\n",
       "      <td>0</td>\n",
       "      <td>0</td>\n",
       "      <td>0</td>\n",
       "      <td>0</td>\n",
       "      <td>0</td>\n",
       "      <td>0</td>\n",
       "      <td>0</td>\n",
       "      <td>...</td>\n",
       "      <td>0</td>\n",
       "      <td>0</td>\n",
       "      <td>0</td>\n",
       "      <td>0</td>\n",
       "      <td>0</td>\n",
       "      <td>0</td>\n",
       "      <td>0</td>\n",
       "      <td>0</td>\n",
       "      <td>(For, I, have, sworn, I, before, you, and, Alm...</td>\n",
       "      <td>Kennedy</td>\n",
       "    </tr>\n",
       "    <tr>\n",
       "      <th>2</th>\n",
       "      <td>0</td>\n",
       "      <td>0</td>\n",
       "      <td>0</td>\n",
       "      <td>0</td>\n",
       "      <td>0</td>\n",
       "      <td>0</td>\n",
       "      <td>0</td>\n",
       "      <td>0</td>\n",
       "      <td>0</td>\n",
       "      <td>0</td>\n",
       "      <td>...</td>\n",
       "      <td>0</td>\n",
       "      <td>0</td>\n",
       "      <td>0</td>\n",
       "      <td>0</td>\n",
       "      <td>0</td>\n",
       "      <td>0</td>\n",
       "      <td>0</td>\n",
       "      <td>0</td>\n",
       "      <td>(The, world, is, very, different, now, .)</td>\n",
       "      <td>Kennedy</td>\n",
       "    </tr>\n",
       "    <tr>\n",
       "      <th>3</th>\n",
       "      <td>0</td>\n",
       "      <td>0</td>\n",
       "      <td>0</td>\n",
       "      <td>0</td>\n",
       "      <td>0</td>\n",
       "      <td>0</td>\n",
       "      <td>0</td>\n",
       "      <td>0</td>\n",
       "      <td>0</td>\n",
       "      <td>0</td>\n",
       "      <td>...</td>\n",
       "      <td>0</td>\n",
       "      <td>0</td>\n",
       "      <td>0</td>\n",
       "      <td>0</td>\n",
       "      <td>0</td>\n",
       "      <td>0</td>\n",
       "      <td>0</td>\n",
       "      <td>0</td>\n",
       "      <td>(For, man, holds, in, his, mortal, hands, the,...</td>\n",
       "      <td>Kennedy</td>\n",
       "    </tr>\n",
       "    <tr>\n",
       "      <th>4</th>\n",
       "      <td>0</td>\n",
       "      <td>0</td>\n",
       "      <td>0</td>\n",
       "      <td>0</td>\n",
       "      <td>0</td>\n",
       "      <td>0</td>\n",
       "      <td>0</td>\n",
       "      <td>0</td>\n",
       "      <td>0</td>\n",
       "      <td>0</td>\n",
       "      <td>...</td>\n",
       "      <td>0</td>\n",
       "      <td>0</td>\n",
       "      <td>0</td>\n",
       "      <td>1</td>\n",
       "      <td>0</td>\n",
       "      <td>0</td>\n",
       "      <td>0</td>\n",
       "      <td>1</td>\n",
       "      <td>(And, yet, the, same, revolutionary, beliefs, ...</td>\n",
       "      <td>Kennedy</td>\n",
       "    </tr>\n",
       "  </tbody>\n",
       "</table>\n",
       "<p>5 rows × 430 columns</p>\n",
       "</div>"
      ],
      "text/plain": [
       "  dot final achieve colonial scholar help hatred assure american stand  \\\n",
       "0   0     0       0        0       0    0      0      0        0     0   \n",
       "1   0     0       0        0       0    0      0      0        0     0   \n",
       "2   0     0       0        0       0    0      0      0        0     0   \n",
       "3   0     0       0        0       0    0      0      0        0     0   \n",
       "4   0     0       0        0       0    0      0      0        0     0   \n",
       "\n",
       "      ...     family clergy require state victory freedom conquer fight  \\\n",
       "0     ...          0      1       0     0       1       1       0     0   \n",
       "1     ...          0      0       0     0       0       0       0     0   \n",
       "2     ...          0      0       0     0       0       0       0     0   \n",
       "3     ...          0      0       0     0       0       0       0     0   \n",
       "4     ...          0      0       0     1       0       0       0     1   \n",
       "\n",
       "                                       text_sentence text_source  \n",
       "0  (Vice, President, Johnson, ,, Mr., Speaker, ,,...     Kennedy  \n",
       "1  (For, I, have, sworn, I, before, you, and, Alm...     Kennedy  \n",
       "2          (The, world, is, very, different, now, .)     Kennedy  \n",
       "3  (For, man, holds, in, his, mortal, hands, the,...     Kennedy  \n",
       "4  (And, yet, the, same, revolutionary, beliefs, ...     Kennedy  \n",
       "\n",
       "[5 rows x 430 columns]"
      ]
     },
     "execution_count": 31,
     "metadata": {},
     "output_type": "execute_result"
    }
   ],
   "source": [
    "# Increase common words in BoW.\n",
    "\n",
    "# Utility function to create a list of the 250 most common words.\n",
    "def bag_of_words(text):\n",
    "    allwords = [token.lemma_\n",
    "                for token in text\n",
    "                if not token.is_punct\n",
    "                and not token.is_stop]\n",
    "    return [item[0] for item in Counter(allwords).most_common(250)]\n",
    "\n",
    "# Set up the bags.\n",
    "kennedy_words = bag_of_words(kennedy_doc)\n",
    "johnson_words = bag_of_words(johnson_doc)\n",
    "\n",
    "# Combine bags to create common set of unique words.\n",
    "common_words = set(kennedy_words + johnson_words)\n",
    "\n",
    "# Creating the new features.\n",
    "word_counts_250 = bow_features(sentences, common_words)\n",
    "word_counts_250.head()"
   ]
  },
  {
   "cell_type": "code",
   "execution_count": 32,
   "metadata": {},
   "outputs": [],
   "source": [
    "# Assign X & Y.\n",
    "X_bow_250 = word_counts_250.drop(['text_sentence', 'text_source'], 1)\n",
    "Y_bow_250 = word_counts_250['text_source']"
   ]
  },
  {
   "cell_type": "code",
   "execution_count": 33,
   "metadata": {},
   "outputs": [
    {
     "name": "stdout",
     "output_type": "stream",
     "text": [
      "CV: [0.80645161 0.77419355 0.80645161 0.62068966 0.68965517]\n",
      "Mean CV: 0.739488320355951\n",
      "Std CV: 0.07316977987318643\n"
     ]
    }
   ],
   "source": [
    "# Gradient Boosting.\n",
    "from sklearn import ensemble\n",
    "clf = ensemble.GradientBoostingClassifier()\n",
    "clf_bow_250 = clf.fit(X_bow_250, Y_bow_250)\n",
    "cvScores = cross_val_score(clf_bow_250, X_bow_250, Y_bow_250, cv = 5)\n",
    "print('CV:', cvScores)\n",
    "print('Mean CV:', np.mean(cvScores))\n",
    "print('Std CV:', np.std(cvScores))"
   ]
  },
  {
   "cell_type": "markdown",
   "metadata": {},
   "source": [
    "Nope, similar results. Let's include punctuation in BoW."
   ]
  },
  {
   "cell_type": "code",
   "execution_count": 34,
   "metadata": {},
   "outputs": [],
   "source": [
    "# Utility function to create a list of the 500 most common words.\n",
    "def bag_of_words(text):\n",
    "    allwords = [token.lemma_\n",
    "                for token in text\n",
    "                if not token.is_stop]\n",
    "    return [item[0] for item in Counter(allwords).most_common(500)]"
   ]
  },
  {
   "cell_type": "code",
   "execution_count": 35,
   "metadata": {},
   "outputs": [
    {
     "name": "stdout",
     "output_type": "stream",
     "text": [
      "Processing row 0\n",
      "Processing row 50\n",
      "Processing row 100\n",
      "Processing row 150\n"
     ]
    },
    {
     "data": {
      "text/html": [
       "<div>\n",
       "<style scoped>\n",
       "    .dataframe tbody tr th:only-of-type {\n",
       "        vertical-align: middle;\n",
       "    }\n",
       "\n",
       "    .dataframe tbody tr th {\n",
       "        vertical-align: top;\n",
       "    }\n",
       "\n",
       "    .dataframe thead th {\n",
       "        text-align: right;\n",
       "    }\n",
       "</style>\n",
       "<table border=\"1\" class=\"dataframe\">\n",
       "  <thead>\n",
       "    <tr style=\"text-align: right;\">\n",
       "      <th></th>\n",
       "      <th>dot</th>\n",
       "      <th>final</th>\n",
       "      <th>achieve</th>\n",
       "      <th>colonial</th>\n",
       "      <th>grant</th>\n",
       "      <th>scholar</th>\n",
       "      <th>help</th>\n",
       "      <th>defeat</th>\n",
       "      <th>hatred</th>\n",
       "      <th>assure</th>\n",
       "      <th>...</th>\n",
       "      <th>common</th>\n",
       "      <th>freedom</th>\n",
       "      <th>steady</th>\n",
       "      <th>lifetime</th>\n",
       "      <th>leader</th>\n",
       "      <th>overburden</th>\n",
       "      <th>conquer</th>\n",
       "      <th>fight</th>\n",
       "      <th>text_sentence</th>\n",
       "      <th>text_source</th>\n",
       "    </tr>\n",
       "  </thead>\n",
       "  <tbody>\n",
       "    <tr>\n",
       "      <th>0</th>\n",
       "      <td>0</td>\n",
       "      <td>0</td>\n",
       "      <td>0</td>\n",
       "      <td>0</td>\n",
       "      <td>0</td>\n",
       "      <td>0</td>\n",
       "      <td>0</td>\n",
       "      <td>0</td>\n",
       "      <td>0</td>\n",
       "      <td>0</td>\n",
       "      <td>...</td>\n",
       "      <td>0</td>\n",
       "      <td>1</td>\n",
       "      <td>0</td>\n",
       "      <td>0</td>\n",
       "      <td>0</td>\n",
       "      <td>0</td>\n",
       "      <td>0</td>\n",
       "      <td>0</td>\n",
       "      <td>(Vice, President, Johnson, ,, Mr., Speaker, ,,...</td>\n",
       "      <td>Kennedy</td>\n",
       "    </tr>\n",
       "    <tr>\n",
       "      <th>1</th>\n",
       "      <td>0</td>\n",
       "      <td>0</td>\n",
       "      <td>0</td>\n",
       "      <td>0</td>\n",
       "      <td>0</td>\n",
       "      <td>0</td>\n",
       "      <td>0</td>\n",
       "      <td>0</td>\n",
       "      <td>0</td>\n",
       "      <td>0</td>\n",
       "      <td>...</td>\n",
       "      <td>0</td>\n",
       "      <td>0</td>\n",
       "      <td>0</td>\n",
       "      <td>0</td>\n",
       "      <td>0</td>\n",
       "      <td>0</td>\n",
       "      <td>0</td>\n",
       "      <td>0</td>\n",
       "      <td>(For, I, have, sworn, I, before, you, and, Alm...</td>\n",
       "      <td>Kennedy</td>\n",
       "    </tr>\n",
       "    <tr>\n",
       "      <th>2</th>\n",
       "      <td>0</td>\n",
       "      <td>0</td>\n",
       "      <td>0</td>\n",
       "      <td>0</td>\n",
       "      <td>0</td>\n",
       "      <td>0</td>\n",
       "      <td>0</td>\n",
       "      <td>0</td>\n",
       "      <td>0</td>\n",
       "      <td>0</td>\n",
       "      <td>...</td>\n",
       "      <td>0</td>\n",
       "      <td>0</td>\n",
       "      <td>0</td>\n",
       "      <td>0</td>\n",
       "      <td>0</td>\n",
       "      <td>0</td>\n",
       "      <td>0</td>\n",
       "      <td>0</td>\n",
       "      <td>(The, world, is, very, different, now, .)</td>\n",
       "      <td>Kennedy</td>\n",
       "    </tr>\n",
       "    <tr>\n",
       "      <th>3</th>\n",
       "      <td>0</td>\n",
       "      <td>0</td>\n",
       "      <td>0</td>\n",
       "      <td>0</td>\n",
       "      <td>0</td>\n",
       "      <td>0</td>\n",
       "      <td>0</td>\n",
       "      <td>0</td>\n",
       "      <td>0</td>\n",
       "      <td>0</td>\n",
       "      <td>...</td>\n",
       "      <td>0</td>\n",
       "      <td>0</td>\n",
       "      <td>0</td>\n",
       "      <td>0</td>\n",
       "      <td>0</td>\n",
       "      <td>0</td>\n",
       "      <td>0</td>\n",
       "      <td>0</td>\n",
       "      <td>(For, man, holds, in, his, mortal, hands, the,...</td>\n",
       "      <td>Kennedy</td>\n",
       "    </tr>\n",
       "    <tr>\n",
       "      <th>4</th>\n",
       "      <td>0</td>\n",
       "      <td>0</td>\n",
       "      <td>0</td>\n",
       "      <td>0</td>\n",
       "      <td>0</td>\n",
       "      <td>0</td>\n",
       "      <td>0</td>\n",
       "      <td>0</td>\n",
       "      <td>0</td>\n",
       "      <td>0</td>\n",
       "      <td>...</td>\n",
       "      <td>0</td>\n",
       "      <td>0</td>\n",
       "      <td>0</td>\n",
       "      <td>0</td>\n",
       "      <td>0</td>\n",
       "      <td>0</td>\n",
       "      <td>0</td>\n",
       "      <td>1</td>\n",
       "      <td>(And, yet, the, same, revolutionary, beliefs, ...</td>\n",
       "      <td>Kennedy</td>\n",
       "    </tr>\n",
       "  </tbody>\n",
       "</table>\n",
       "<p>5 rows × 679 columns</p>\n",
       "</div>"
      ],
      "text/plain": [
       "  dot final achieve colonial grant scholar help defeat hatred assure  \\\n",
       "0   0     0       0        0     0       0    0      0      0      0   \n",
       "1   0     0       0        0     0       0    0      0      0      0   \n",
       "2   0     0       0        0     0       0    0      0      0      0   \n",
       "3   0     0       0        0     0       0    0      0      0      0   \n",
       "4   0     0       0        0     0       0    0      0      0      0   \n",
       "\n",
       "      ...     common freedom steady lifetime leader overburden conquer fight  \\\n",
       "0     ...          0       1      0        0      0          0       0     0   \n",
       "1     ...          0       0      0        0      0          0       0     0   \n",
       "2     ...          0       0      0        0      0          0       0     0   \n",
       "3     ...          0       0      0        0      0          0       0     0   \n",
       "4     ...          0       0      0        0      0          0       0     1   \n",
       "\n",
       "                                       text_sentence text_source  \n",
       "0  (Vice, President, Johnson, ,, Mr., Speaker, ,,...     Kennedy  \n",
       "1  (For, I, have, sworn, I, before, you, and, Alm...     Kennedy  \n",
       "2          (The, world, is, very, different, now, .)     Kennedy  \n",
       "3  (For, man, holds, in, his, mortal, hands, the,...     Kennedy  \n",
       "4  (And, yet, the, same, revolutionary, beliefs, ...     Kennedy  \n",
       "\n",
       "[5 rows x 679 columns]"
      ]
     },
     "execution_count": 35,
     "metadata": {},
     "output_type": "execute_result"
    }
   ],
   "source": [
    "# Set up the bags.\n",
    "kennedy_words = bag_of_words(kennedy_doc)\n",
    "johnson_words = bag_of_words(johnson_doc)\n",
    "\n",
    "# Combine bags to create common set of unique words.\n",
    "common_words = set(kennedy_words + johnson_words)\n",
    "\n",
    "# Creating the new features.\n",
    "word_counts_punct = bow_features(sentences, common_words)\n",
    "word_counts_punct.head()"
   ]
  },
  {
   "cell_type": "code",
   "execution_count": 36,
   "metadata": {},
   "outputs": [],
   "source": [
    "# Assign X & Y.\n",
    "X_bow_punct = word_counts_punct.drop(['text_sentence', 'text_source'], 1)\n",
    "Y_bow_punct = word_counts_punct['text_source']"
   ]
  },
  {
   "cell_type": "code",
   "execution_count": 37,
   "metadata": {},
   "outputs": [
    {
     "name": "stdout",
     "output_type": "stream",
     "text": [
      "CV: [0.80645161 0.77419355 0.83870968 0.62068966 0.68965517]\n",
      "Mean CV: 0.7459399332591768\n",
      "Std CV: 0.07990214269582391\n"
     ]
    }
   ],
   "source": [
    "# Gradient Boosting.\n",
    "from sklearn import ensemble\n",
    "clf = ensemble.GradientBoostingClassifier()\n",
    "clf_bow_punct = clf.fit(X_bow_punct, Y_bow_punct)\n",
    "cvScores = cross_val_score(clf_bow_punct, X_bow_punct, Y_bow_punct, cv = 5)\n",
    "print('CV:', cvScores)\n",
    "print('Mean CV:', np.mean(cvScores))\n",
    "print('Std CV:', np.std(cvScores))"
   ]
  },
  {
   "cell_type": "code",
   "execution_count": null,
   "metadata": {},
   "outputs": [],
   "source": []
  }
 ],
 "metadata": {
  "kernelspec": {
   "display_name": "Python 3",
   "language": "python",
   "name": "python3"
  },
  "language_info": {
   "codemirror_mode": {
    "name": "ipython",
    "version": 3
   },
   "file_extension": ".py",
   "mimetype": "text/x-python",
   "name": "python",
   "nbconvert_exporter": "python",
   "pygments_lexer": "ipython3",
   "version": "3.7.0"
  }
 },
 "nbformat": 4,
 "nbformat_minor": 2
}
